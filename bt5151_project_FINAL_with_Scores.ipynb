{
 "cells": [
  {
   "cell_type": "markdown",
   "id": "aca8142d-565d-4804-b722-1c93cbf9e5dd",
   "metadata": {},
   "source": [
    "## I. Dataset Preprocessing"
   ]
  },
  {
   "cell_type": "markdown",
   "id": "ac02888e-0da0-4459-aaf5-f8a727f2444f",
   "metadata": {},
   "source": [
    "### Load Dataset\n",
    "After loading the D1 and D2 dataset, it can be seen that D1 dataset and D2 Dataset has the following columns:\n",
    "\n",
    "- **D1 Dataset**:\n",
    "    - training dataset, 5 columns:\n",
    "        - id \n",
    "        - keyword\n",
    "        - location\n",
    "        - text\n",
    "        - target\n",
    "       \n",
    "    - test dataset, 4 columns without target variable:\n",
    "        - id \n",
    "        - keyword\n",
    "        - location\n",
    "        - text  \n",
    "     \n",
    "- **D2 Dataset**:\n",
    "    - 4 columns: \n",
    "        - textID\n",
    "        - text\n",
    "        - selected_text \n",
    "        - sentiment (target column)\n",
    "\n",
    "We will do preprocessing of the both the datasets such as imputing based on the null values the two datasets have in the following section. D1 train dataset has 7613 records and D1 test dataset has 3263 records giving a total of 10786 records for D1 dataset. D2 dataset has 27481 records."
   ]
  },
  {
   "cell_type": "code",
   "execution_count": 1,
   "id": "77f39b50-3548-4264-aad8-9963d6b923ba",
   "metadata": {},
   "outputs": [
    {
     "name": "stdout",
     "output_type": "stream",
     "text": [
      "   id keyword location                                               text  \\\n",
      "0   1     NaN      NaN  Our Deeds are the Reason of this #earthquake M...   \n",
      "1   4     NaN      NaN             Forest fire near La Ronge Sask. Canada   \n",
      "2   5     NaN      NaN  All residents asked to 'shelter in place' are ...   \n",
      "3   6     NaN      NaN  13,000 people receive #wildfires evacuation or...   \n",
      "4   7     NaN      NaN  Just got sent this photo from Ruby #Alaska as ...   \n",
      "\n",
      "   target  \n",
      "0       1  \n",
      "1       1  \n",
      "2       1  \n",
      "3       1  \n",
      "4       1   \n",
      "\n",
      "       textID                                               text  \\\n",
      "0  cb774db0d1                I`d have responded, if I were going   \n",
      "1  549e992a42      Sooo SAD I will miss you here in San Diego!!!   \n",
      "2  088c60f138                          my boss is bullying me...   \n",
      "3  9642c003ef                     what interview! leave me alone   \n",
      "4  358bd9e861   Sons of ****, why couldn`t they put them on t...   \n",
      "\n",
      "                         selected_text sentiment  \n",
      "0  I`d have responded, if I were going   neutral  \n",
      "1                             Sooo SAD  negative  \n",
      "2                          bullying me  negative  \n",
      "3                       leave me alone  negative  \n",
      "4                        Sons of ****,  negative   \n",
      "\n",
      "Shape of D1 train dataset is (7613, 5)\n",
      "Shape of D1 test dataset is (3263, 4)\n",
      "Shape of D1 dataset is (10876, 5)\n",
      "Shape of D2 dataset is (27481, 4)\n"
     ]
    }
   ],
   "source": [
    "import pandas as pd\n",
    "import numpy as np\n",
    "import torch\n",
    "\n",
    "\n",
    "df_d1_train = pd.read_csv('train.csv')\n",
    "df_d1_test = pd.read_csv('test.csv')\n",
    "df_d2 = pd.read_csv('Tweets.csv')\n",
    "df_d1 = pd.concat([df_d1_train, df_d1_test])\n",
    "\n",
    "shape_d1_train = df_d1_train.shape\n",
    "shape_d1_test = df_d1_test.shape\n",
    "shape_d1 = df_d1.shape\n",
    "shape_d2 = df_d2.shape\n",
    "\n",
    "print(df_d1_train.head(), '\\n')\n",
    "print(df_d2.head(), '\\n')\n",
    "print(f'Shape of D1 train dataset is {shape_d1_train}')\n",
    "print(f'Shape of D1 test dataset is {shape_d1_test}')\n",
    "print(f'Shape of D1 dataset is {shape_d1}')\n",
    "print(f'Shape of D2 dataset is {shape_d2}')"
   ]
  },
  {
   "cell_type": "markdown",
   "id": "d3e62ec6-8743-4e81-a081-5edaf3062775",
   "metadata": {},
   "source": [
    "## I. Dataset Preprocessing"
   ]
  },
  {
   "cell_type": "markdown",
   "id": "7464cf53-3a78-4212-aa8c-484a69010335",
   "metadata": {},
   "source": [
    "### Preprocessing of D1 Data\n",
    "\n",
    "We will just be using the text as an input variable and the disaster variable as the output variable for our models using D1 dataset. Therefore, we can drop the id, keyword and location columns from both the train and test datasets of D1. The train and test dataset is then checked for null values. \n",
    "\n"
   ]
  },
  {
   "cell_type": "code",
   "execution_count": 2,
   "id": "0f4c2ecb-bc2f-4302-a2c2-d3f4d907e5de",
   "metadata": {},
   "outputs": [
    {
     "data": {
      "text/plain": [
       "text      0\n",
       "target    0\n",
       "dtype: int64"
      ]
     },
     "execution_count": 2,
     "metadata": {},
     "output_type": "execute_result"
    }
   ],
   "source": [
    "df_d1_train = df_d1_train.drop(['id', 'keyword', 'location'], axis=1)\n",
    "df_d1_train.isna().sum()"
   ]
  },
  {
   "cell_type": "markdown",
   "id": "5e786820-a108-4270-896e-7427019f4f74",
   "metadata": {},
   "source": [
    "There are no null values present in d1 train dataset."
   ]
  },
  {
   "cell_type": "code",
   "execution_count": 3,
   "id": "75ac92c2-3f60-4352-81c5-685537b1d50c",
   "metadata": {},
   "outputs": [
    {
     "data": {
      "text/plain": [
       "text    0\n",
       "dtype: int64"
      ]
     },
     "execution_count": 3,
     "metadata": {},
     "output_type": "execute_result"
    }
   ],
   "source": [
    "df_d1_test = df_d1_test.drop(['id', 'keyword', 'location'], axis=1)\n",
    "df_d1_test.isna().sum()"
   ]
  },
  {
   "cell_type": "markdown",
   "id": "ab72a9ea-2250-4861-90b5-37aa9f38cf21",
   "metadata": {},
   "source": [
    "Since the test dataset does not have the target column, only text column is present and there are no null values.\n",
    "\n",
    "Since there are no null values in both test and train datasets for D1, we do no need to do any imputing."
   ]
  },
  {
   "cell_type": "markdown",
   "id": "f3d618f3-59dc-4be1-b701-7930ec07b67b",
   "metadata": {},
   "source": [
    "### Preprocessing of D2 Data\n",
    "\n",
    "We will conduct the same analysis for D2 dataset. We will only need the test column and sentiments(target) column for our models using D2 dataset. Therfore, we drop the rest of the columns and check for null values for these two columns."
   ]
  },
  {
   "cell_type": "code",
   "execution_count": 4,
   "id": "c0467465-a6a1-4586-ab09-b55fee296ec3",
   "metadata": {},
   "outputs": [
    {
     "data": {
      "text/plain": [
       "text         1\n",
       "sentiment    0\n",
       "dtype: int64"
      ]
     },
     "execution_count": 4,
     "metadata": {},
     "output_type": "execute_result"
    }
   ],
   "source": [
    "df_d2 = df_d2.drop(['textID', 'selected_text'], axis=1)\n",
    "df_d2.isna().sum()"
   ]
  },
  {
   "cell_type": "markdown",
   "id": "36d783ea-7b3f-4ac5-b366-de1283cdf77b",
   "metadata": {},
   "source": [
    "Since there is only 1 record with null value under text column. We will drop this null record from the dataset for our analysis."
   ]
  },
  {
   "cell_type": "code",
   "execution_count": 5,
   "id": "6473da25-2564-4ada-84db-916709a0309f",
   "metadata": {},
   "outputs": [
    {
     "data": {
      "text/plain": [
       "(27480, 2)"
      ]
     },
     "execution_count": 5,
     "metadata": {},
     "output_type": "execute_result"
    }
   ],
   "source": [
    "df_d2 = df_d2.dropna()\n",
    "df_d2.shape"
   ]
  },
  {
   "cell_type": "markdown",
   "id": "814fb15d-cddd-4556-96f1-85389a0a2497",
   "metadata": {},
   "source": [
    "### Preprocessing and Tokenizing the Text variable for both D1 and D2 dataset\n",
    "\n",
    "We will combine the D1 and D2 dataset for the text columns to tokenize the text input records so that they fall under the same vocabulary when tokeninzing them. Before tokeninz them we used this TextHero package to preprocess the text input for the following:\n",
    "\n",
    "* Lowercase all text.\n",
    "* Remove all accents from strings.\n",
    "* Remove all stop words.\n",
    "* Remove all blocks of digits.\n",
    "* Remove all string.punctuation (!\"#$%&'()*+,-./:;<=>?@[]^_`{|}~).\n",
    "* Replace unassigned values with empty spaces.\n",
    "* Remove all white space between words\n",
    "\n",
    "An example of the raw text and cleaned text are shown in the two tables below."
   ]
  },
  {
   "cell_type": "code",
   "execution_count": 6,
   "id": "d8d33ade-7e7b-4714-ac3b-ccb67284a859",
   "metadata": {},
   "outputs": [],
   "source": [
    "df_corpus = pd.concat([df_d1['text'], df_d2['text']], ignore_index = True).reset_index()"
   ]
  },
  {
   "cell_type": "code",
   "execution_count": 7,
   "id": "55446734-df11-4156-995c-3dda0f410c1a",
   "metadata": {},
   "outputs": [
    {
     "name": "stdout",
     "output_type": "stream",
     "text": [
      "0    Our Deeds are the Reason of this #earthquake M...\n",
      "1               Forest fire near La Ronge Sask. Canada\n",
      "2    All residents asked to 'shelter in place' are ...\n",
      "3    13,000 people receive #wildfires evacuation or...\n",
      "4    Just got sent this photo from Ruby #Alaska as ...\n",
      "5    #RockyFire Update => California Hwy. 20 closed...\n",
      "6    #flood #disaster Heavy rain causes flash flood...\n",
      "7    I'm on top of the hill and I can see a fire in...\n",
      "8    There's an emergency evacuation happening now ...\n",
      "9    I'm afraid that the tornado is coming to our a...\n",
      "Name: text, dtype: object \n",
      "\n",
      "0         deeds reason earthquake may allah forgive us\n",
      "1                forest fire near la ronge sask canada\n",
      "2    residents asked shelter place notified officer...\n",
      "3    people receive wildfires evacuation orders cal...\n",
      "4    got sent photo ruby alaska smoke wildfires pou...\n",
      "5    rockyfire update california hwy closed directi...\n",
      "6    flood disaster heavy rain causes flash floodin...\n",
      "7                              top hill see fire woods\n",
      "8    emergency evacuation happening building across...\n",
      "9                           afraid tornado coming area\n",
      "Name: clean_text, dtype: object \n",
      "\n"
     ]
    }
   ],
   "source": [
    "from transformers import DistilBertTokenizer, DistilBertModel\n",
    "import texthero as hero\n",
    "\n",
    "df_corpus['clean_text'] = hero.clean(df_corpus['text'])\n",
    "df_corpus = df_corpus.drop('index', axis=1)\n",
    "print(df_corpus['text'].head(10),'\\n')\n",
    "print(df_corpus['clean_text'].head(10),'\\n')"
   ]
  },
  {
   "cell_type": "code",
   "execution_count": 8,
   "id": "ebd8d0c3-9c7c-4686-b324-9afbb92b8086",
   "metadata": {},
   "outputs": [
    {
     "name": "stdout",
     "output_type": "stream",
     "text": [
      "(38356,)\n"
     ]
    }
   ],
   "source": [
    "import seaborn as sns\n",
    "import matplotlib.pyplot as plt\n",
    "\n",
    "seqlen = df_corpus[\"clean_text\"].apply(lambda x: len(x.split()))\n",
    "print(seqlen.shape)"
   ]
  },
  {
   "cell_type": "markdown",
   "id": "58882c3d-95ee-496d-a217-c0f8d792e5c5",
   "metadata": {},
   "source": [
    "Once the text is cleaned, we used the DistilBertTokenizer which is a pre-trained NLP model tokenizer to tokenize the text inputs. After tokenizing, we need to pad the tokenized texts to make the dimensions the same for all tokenized texts. We would then use the pre-trained DistilBertModel to extract features of dimensions 768 using these padded tokens as input to the model. \n",
    "\n",
    "Since, the model took very long to extract the features(sentence vectors) for the text inputs from the combined D1 and D2 datasets, the extracted sentence vectors were saved as a .csv file for future loading of the vectors instead of running the model to extract the features again. These extracted sentence vectors of dimension 768 will be used as the input for the next few sections."
   ]
  },
  {
   "cell_type": "code",
   "execution_count": 9,
   "id": "3e465363-6151-4281-811f-25c511030fcc",
   "metadata": {},
   "outputs": [
    {
     "name": "stderr",
     "output_type": "stream",
     "text": [
      "Some weights of the model checkpoint at distilbert-base-uncased were not used when initializing DistilBertModel: ['vocab_projector.weight', 'vocab_transform.bias', 'vocab_layer_norm.bias', 'vocab_layer_norm.weight', 'vocab_projector.bias', 'vocab_transform.weight']\n",
      "- This IS expected if you are initializing DistilBertModel from the checkpoint of a model trained on another task or with another architecture (e.g. initializing a BertForSequenceClassification model from a BertForPreTraining model).\n",
      "- This IS NOT expected if you are initializing DistilBertModel from the checkpoint of a model that you expect to be exactly identical (initializing a BertForSequenceClassification model from a BertForSequenceClassification model).\n"
     ]
    },
    {
     "data": {
      "text/plain": [
       "(38356, 48)"
      ]
     },
     "execution_count": 9,
     "metadata": {},
     "output_type": "execute_result"
    }
   ],
   "source": [
    "# Load pre-trained model tokenizer (vocabulary)\n",
    "tokenizer = DistilBertTokenizer.from_pretrained('distilbert-base-uncased')\n",
    "# Load pre-trained model (weights)\n",
    "model = DistilBertModel.from_pretrained('distilbert-base-uncased')\n",
    "\n",
    "tokenized = df_corpus['clean_text'].apply((lambda x: tokenizer.encode(x, add_special_tokens=True, max_length=512, truncation=True)))\n",
    "max_len = 0\n",
    "for i in tokenized.values:\n",
    "    if len(i) > max_len:\n",
    "        max_len = len(i)\n",
    "\n",
    "padded = np.array([i + [0]*(max_len-len(i)) for i in tokenized.values])\n",
    "attention_mask = np.where(padded != 0, 1, 0)\n",
    "attention_mask.shape\n"
   ]
  },
  {
   "cell_type": "code",
   "execution_count": null,
   "id": "7075cfa8-ebdb-4d38-92f9-541df34b5163",
   "metadata": {},
   "outputs": [],
   "source": [
    "## Only ran this code once to extract the sentecnce vector using BERT model and saved\n",
    "## it as a .csv file for future loading of the vector instead of runnign the code again\n",
    "## as it takes long and consumes alot of memory to extract the sentence vectors from\n",
    "## BERT Model - saved vectors - features.csv\n",
    "\n",
    "\n",
    "from numpy import savetxt\n",
    "\n",
    "feature_list = []\n",
    "with torch.no_grad():\n",
    "    for batch_idx in range(0,padded.shape[0],10):\n",
    "        #BERT check 10 sample each time.\n",
    "        input_ids = torch.tensor(padded[batch_idx:batch_idx+10])  \n",
    "        used_attention_mask = torch.tensor(attention_mask[batch_idx:batch_idx+10])\n",
    "        last_hidden_states = model(input_ids, attention_mask=used_attention_mask)\n",
    "        #Get the embeddings for the [CLS] tag (position is 0)\n",
    "        features = last_hidden_states[0][:,0,:]\n",
    "        feature_list.append(features)\n",
    "\n",
    "features = np.vstack(features_list)\n",
    "\n",
    "# save features array as a .csv file for loading later\n",
    "savetxt('features.csv', features, delimiter=',')\n"
   ]
  },
  {
   "cell_type": "code",
   "execution_count": 9,
   "id": "6d3ad1ec-b1e2-4c60-89b5-ec97b3994897",
   "metadata": {},
   "outputs": [
    {
     "data": {
      "text/plain": [
       "(38356, 768)"
      ]
     },
     "execution_count": 9,
     "metadata": {},
     "output_type": "execute_result"
    }
   ],
   "source": [
    "##Load the saved sentence vectors for both D1 and D2 text dataset\n",
    "from numpy import loadtxt\n",
    "# load array\n",
    "features = loadtxt('features.csv', delimiter=',')\n",
    "features.shape"
   ]
  },
  {
   "cell_type": "markdown",
   "id": "2125a985-00d4-47c1-b267-cc0571eb7c69",
   "metadata": {},
   "source": [
    "Once the sentence vectors has been extracted using the Bert Model for the combined D1 and D2 datasets, the data is again split back to D1(both train and test dataset) and D2.The labels for the 3 class sentiments target variable were also ordinally encoded.\n",
    "\n",
    "The datasets for D1 train dataset and D2 dataset were train-test-split with a 80%/20% ratio."
   ]
  },
  {
   "cell_type": "code",
   "execution_count": 10,
   "id": "5041dadb-4054-462f-b82f-c701a2d14cf5",
   "metadata": {},
   "outputs": [
    {
     "name": "stdout",
     "output_type": "stream",
     "text": [
      "(7613, 768)\n",
      "(3263, 768)\n",
      "(27480, 768)\n"
     ]
    }
   ],
   "source": [
    "## split back into D1 and D2 dataset\n",
    "\n",
    "d1_train_features = features[0:shape_d1_train[0]]\n",
    "d1_test_features = features[shape_d1_train[0]:shape_d1_train[0] + shape_d1_test[0]]\n",
    "d2_features = features[shape_d1_train[0] + shape_d1_test[0]:]\n",
    "\n",
    "print(d1_train_features.shape)\n",
    "print(d1_test_features.shape)\n",
    "print(d2_features.shape)\n",
    "\n",
    "def convert_2darray_to_df(arrays_2d):\n",
    "    list_of_arrays = [row for row in arrays_2d]\n",
    "    \n",
    "    return list_of_arrays\n",
    "\n",
    "\n",
    "df_d1_train['sentence_embeddings'] = convert_2darray_to_df(d1_train_features)\n",
    "df_d1_test['sentence_embeddings'] = convert_2darray_to_df(d1_test_features)\n",
    "df_d2['sentence_embeddings'] = convert_2darray_to_df(d2_features)"
   ]
  },
  {
   "cell_type": "code",
   "execution_count": 11,
   "id": "ca9020f2-cba4-4a05-9c04-5f2082e14f03",
   "metadata": {},
   "outputs": [
    {
     "data": {
      "text/html": [
       "<div>\n",
       "<style scoped>\n",
       "    .dataframe tbody tr th:only-of-type {\n",
       "        vertical-align: middle;\n",
       "    }\n",
       "\n",
       "    .dataframe tbody tr th {\n",
       "        vertical-align: top;\n",
       "    }\n",
       "\n",
       "    .dataframe thead th {\n",
       "        text-align: right;\n",
       "    }\n",
       "</style>\n",
       "<table border=\"1\" class=\"dataframe\">\n",
       "  <thead>\n",
       "    <tr style=\"text-align: right;\">\n",
       "      <th></th>\n",
       "      <th>text</th>\n",
       "      <th>target</th>\n",
       "      <th>sentence_embeddings</th>\n",
       "    </tr>\n",
       "  </thead>\n",
       "  <tbody>\n",
       "    <tr>\n",
       "      <th>0</th>\n",
       "      <td>Our Deeds are the Reason of this #earthquake M...</td>\n",
       "      <td>1</td>\n",
       "      <td>[-0.10347555577754974, 0.0949205756187439, -0....</td>\n",
       "    </tr>\n",
       "    <tr>\n",
       "      <th>1</th>\n",
       "      <td>Forest fire near La Ronge Sask. Canada</td>\n",
       "      <td>1</td>\n",
       "      <td>[-0.4164022207260132, 0.19298885762691498, -0....</td>\n",
       "    </tr>\n",
       "    <tr>\n",
       "      <th>2</th>\n",
       "      <td>All residents asked to 'shelter in place' are ...</td>\n",
       "      <td>1</td>\n",
       "      <td>[-0.2418411374092102, -0.1157110333442688, 0.1...</td>\n",
       "    </tr>\n",
       "    <tr>\n",
       "      <th>3</th>\n",
       "      <td>13,000 people receive #wildfires evacuation or...</td>\n",
       "      <td>1</td>\n",
       "      <td>[-0.12487819045782089, 0.030626526102423668, -...</td>\n",
       "    </tr>\n",
       "    <tr>\n",
       "      <th>4</th>\n",
       "      <td>Just got sent this photo from Ruby #Alaska as ...</td>\n",
       "      <td>1</td>\n",
       "      <td>[-0.0019691395573318005, -0.14926283061504364,...</td>\n",
       "    </tr>\n",
       "    <tr>\n",
       "      <th>...</th>\n",
       "      <td>...</td>\n",
       "      <td>...</td>\n",
       "      <td>...</td>\n",
       "    </tr>\n",
       "    <tr>\n",
       "      <th>7608</th>\n",
       "      <td>Two giant cranes holding a bridge collapse int...</td>\n",
       "      <td>1</td>\n",
       "      <td>[-0.2051445096731186, 0.09096449613571167, -0....</td>\n",
       "    </tr>\n",
       "    <tr>\n",
       "      <th>7609</th>\n",
       "      <td>@aria_ahrary @TheTawniest The out of control w...</td>\n",
       "      <td>1</td>\n",
       "      <td>[-0.23618453741073608, -0.10245174914598465, -...</td>\n",
       "    </tr>\n",
       "    <tr>\n",
       "      <th>7610</th>\n",
       "      <td>M1.94 [01:04 UTC]?5km S of Volcano Hawaii. htt...</td>\n",
       "      <td>1</td>\n",
       "      <td>[-0.35735654830932617, 0.006355086341500282, 0...</td>\n",
       "    </tr>\n",
       "    <tr>\n",
       "      <th>7611</th>\n",
       "      <td>Police investigating after an e-bike collided ...</td>\n",
       "      <td>1</td>\n",
       "      <td>[-0.4586879014968872, -0.25744855403900146, -0...</td>\n",
       "    </tr>\n",
       "    <tr>\n",
       "      <th>7612</th>\n",
       "      <td>The Latest: More Homes Razed by Northern Calif...</td>\n",
       "      <td>1</td>\n",
       "      <td>[-0.19707342982292175, -0.10754090547561646, -...</td>\n",
       "    </tr>\n",
       "  </tbody>\n",
       "</table>\n",
       "<p>7613 rows × 3 columns</p>\n",
       "</div>"
      ],
      "text/plain": [
       "                                                   text  target  \\\n",
       "0     Our Deeds are the Reason of this #earthquake M...       1   \n",
       "1                Forest fire near La Ronge Sask. Canada       1   \n",
       "2     All residents asked to 'shelter in place' are ...       1   \n",
       "3     13,000 people receive #wildfires evacuation or...       1   \n",
       "4     Just got sent this photo from Ruby #Alaska as ...       1   \n",
       "...                                                 ...     ...   \n",
       "7608  Two giant cranes holding a bridge collapse int...       1   \n",
       "7609  @aria_ahrary @TheTawniest The out of control w...       1   \n",
       "7610  M1.94 [01:04 UTC]?5km S of Volcano Hawaii. htt...       1   \n",
       "7611  Police investigating after an e-bike collided ...       1   \n",
       "7612  The Latest: More Homes Razed by Northern Calif...       1   \n",
       "\n",
       "                                    sentence_embeddings  \n",
       "0     [-0.10347555577754974, 0.0949205756187439, -0....  \n",
       "1     [-0.4164022207260132, 0.19298885762691498, -0....  \n",
       "2     [-0.2418411374092102, -0.1157110333442688, 0.1...  \n",
       "3     [-0.12487819045782089, 0.030626526102423668, -...  \n",
       "4     [-0.0019691395573318005, -0.14926283061504364,...  \n",
       "...                                                 ...  \n",
       "7608  [-0.2051445096731186, 0.09096449613571167, -0....  \n",
       "7609  [-0.23618453741073608, -0.10245174914598465, -...  \n",
       "7610  [-0.35735654830932617, 0.006355086341500282, 0...  \n",
       "7611  [-0.4586879014968872, -0.25744855403900146, -0...  \n",
       "7612  [-0.19707342982292175, -0.10754090547561646, -...  \n",
       "\n",
       "[7613 rows x 3 columns]"
      ]
     },
     "execution_count": 11,
     "metadata": {},
     "output_type": "execute_result"
    }
   ],
   "source": [
    "#pre-processed dataset of D1 train\n",
    "df_d1_train"
   ]
  },
  {
   "cell_type": "code",
   "execution_count": 12,
   "id": "7310d499-7b65-4e60-9c08-3ceccb1862b0",
   "metadata": {},
   "outputs": [
    {
     "data": {
      "text/html": [
       "<div>\n",
       "<style scoped>\n",
       "    .dataframe tbody tr th:only-of-type {\n",
       "        vertical-align: middle;\n",
       "    }\n",
       "\n",
       "    .dataframe tbody tr th {\n",
       "        vertical-align: top;\n",
       "    }\n",
       "\n",
       "    .dataframe thead th {\n",
       "        text-align: right;\n",
       "    }\n",
       "</style>\n",
       "<table border=\"1\" class=\"dataframe\">\n",
       "  <thead>\n",
       "    <tr style=\"text-align: right;\">\n",
       "      <th></th>\n",
       "      <th>text</th>\n",
       "      <th>sentence_embeddings</th>\n",
       "    </tr>\n",
       "  </thead>\n",
       "  <tbody>\n",
       "    <tr>\n",
       "      <th>0</th>\n",
       "      <td>Just happened a terrible car crash</td>\n",
       "      <td>[-0.25721344351768494, -0.15935777127742767, -...</td>\n",
       "    </tr>\n",
       "    <tr>\n",
       "      <th>1</th>\n",
       "      <td>Heard about #earthquake is different cities, s...</td>\n",
       "      <td>[0.02665054053068161, -0.25792196393013, 0.041...</td>\n",
       "    </tr>\n",
       "    <tr>\n",
       "      <th>2</th>\n",
       "      <td>there is a forest fire at spot pond, geese are...</td>\n",
       "      <td>[-0.21820902824401855, 0.044809360057115555, -...</td>\n",
       "    </tr>\n",
       "    <tr>\n",
       "      <th>3</th>\n",
       "      <td>Apocalypse lighting. #Spokane #wildfires</td>\n",
       "      <td>[-0.2617347240447998, 0.05129344016313553, -0....</td>\n",
       "    </tr>\n",
       "    <tr>\n",
       "      <th>4</th>\n",
       "      <td>Typhoon Soudelor kills 28 in China and Taiwan</td>\n",
       "      <td>[-0.4326396882534027, -0.2646219730377197, -0....</td>\n",
       "    </tr>\n",
       "    <tr>\n",
       "      <th>...</th>\n",
       "      <td>...</td>\n",
       "      <td>...</td>\n",
       "    </tr>\n",
       "    <tr>\n",
       "      <th>3258</th>\n",
       "      <td>EARTHQUAKE SAFETY LOS ANGELES ÛÒ SAFETY FASTE...</td>\n",
       "      <td>[-0.1371319741010666, -0.19958768784999847, 0....</td>\n",
       "    </tr>\n",
       "    <tr>\n",
       "      <th>3259</th>\n",
       "      <td>Storm in RI worse than last hurricane. My city...</td>\n",
       "      <td>[-0.0810704380273819, -0.11629102379083633, 0....</td>\n",
       "    </tr>\n",
       "    <tr>\n",
       "      <th>3260</th>\n",
       "      <td>Green Line derailment in Chicago http://t.co/U...</td>\n",
       "      <td>[-0.18644750118255615, -0.1975667029619217, -0...</td>\n",
       "    </tr>\n",
       "    <tr>\n",
       "      <th>3261</th>\n",
       "      <td>MEG issues Hazardous Weather Outlook (HWO) htt...</td>\n",
       "      <td>[-0.421695739030838, -0.19718565046787262, -0....</td>\n",
       "    </tr>\n",
       "    <tr>\n",
       "      <th>3262</th>\n",
       "      <td>#CityofCalgary has activated its Municipal Eme...</td>\n",
       "      <td>[-0.3985871970653534, -0.22917336225509644, 0....</td>\n",
       "    </tr>\n",
       "  </tbody>\n",
       "</table>\n",
       "<p>3263 rows × 2 columns</p>\n",
       "</div>"
      ],
      "text/plain": [
       "                                                   text  \\\n",
       "0                    Just happened a terrible car crash   \n",
       "1     Heard about #earthquake is different cities, s...   \n",
       "2     there is a forest fire at spot pond, geese are...   \n",
       "3              Apocalypse lighting. #Spokane #wildfires   \n",
       "4         Typhoon Soudelor kills 28 in China and Taiwan   \n",
       "...                                                 ...   \n",
       "3258  EARTHQUAKE SAFETY LOS ANGELES ÛÒ SAFETY FASTE...   \n",
       "3259  Storm in RI worse than last hurricane. My city...   \n",
       "3260  Green Line derailment in Chicago http://t.co/U...   \n",
       "3261  MEG issues Hazardous Weather Outlook (HWO) htt...   \n",
       "3262  #CityofCalgary has activated its Municipal Eme...   \n",
       "\n",
       "                                    sentence_embeddings  \n",
       "0     [-0.25721344351768494, -0.15935777127742767, -...  \n",
       "1     [0.02665054053068161, -0.25792196393013, 0.041...  \n",
       "2     [-0.21820902824401855, 0.044809360057115555, -...  \n",
       "3     [-0.2617347240447998, 0.05129344016313553, -0....  \n",
       "4     [-0.4326396882534027, -0.2646219730377197, -0....  \n",
       "...                                                 ...  \n",
       "3258  [-0.1371319741010666, -0.19958768784999847, 0....  \n",
       "3259  [-0.0810704380273819, -0.11629102379083633, 0....  \n",
       "3260  [-0.18644750118255615, -0.1975667029619217, -0...  \n",
       "3261  [-0.421695739030838, -0.19718565046787262, -0....  \n",
       "3262  [-0.3985871970653534, -0.22917336225509644, 0....  \n",
       "\n",
       "[3263 rows x 2 columns]"
      ]
     },
     "execution_count": 12,
     "metadata": {},
     "output_type": "execute_result"
    }
   ],
   "source": [
    "#pre-processed dataset of D1 test\n",
    "df_d1_test"
   ]
  },
  {
   "cell_type": "code",
   "execution_count": 13,
   "id": "2ae8d306-4a8c-430f-91ca-205cd2a468c8",
   "metadata": {},
   "outputs": [],
   "source": [
    "# Labels for both D1 and D2\n",
    "from sklearn import preprocessing\n",
    "\n",
    "D1_labels = df_d1_train['target'].values\n",
    "\n",
    "##ordinal encoding of D2 labels - sentiments\n",
    "le = preprocessing.LabelEncoder()\n",
    "le.fit(['negative', 'neutral', 'positive'])\n",
    "df_d2['sentiment_label'] = le.transform(df_d2['sentiment'])"
   ]
  },
  {
   "cell_type": "code",
   "execution_count": 14,
   "id": "9d497034-66e8-4431-bc83-f5756eef80d1",
   "metadata": {},
   "outputs": [
    {
     "data": {
      "text/html": [
       "<div>\n",
       "<style scoped>\n",
       "    .dataframe tbody tr th:only-of-type {\n",
       "        vertical-align: middle;\n",
       "    }\n",
       "\n",
       "    .dataframe tbody tr th {\n",
       "        vertical-align: top;\n",
       "    }\n",
       "\n",
       "    .dataframe thead th {\n",
       "        text-align: right;\n",
       "    }\n",
       "</style>\n",
       "<table border=\"1\" class=\"dataframe\">\n",
       "  <thead>\n",
       "    <tr style=\"text-align: right;\">\n",
       "      <th></th>\n",
       "      <th>text</th>\n",
       "      <th>sentiment</th>\n",
       "      <th>sentence_embeddings</th>\n",
       "      <th>sentiment_label</th>\n",
       "    </tr>\n",
       "  </thead>\n",
       "  <tbody>\n",
       "    <tr>\n",
       "      <th>0</th>\n",
       "      <td>I`d have responded, if I were going</td>\n",
       "      <td>neutral</td>\n",
       "      <td>[-0.08791296184062958, -0.07898502051830292, 0...</td>\n",
       "      <td>1</td>\n",
       "    </tr>\n",
       "    <tr>\n",
       "      <th>1</th>\n",
       "      <td>Sooo SAD I will miss you here in San Diego!!!</td>\n",
       "      <td>negative</td>\n",
       "      <td>[-0.2562563717365265, -0.22554504871368408, 0....</td>\n",
       "      <td>0</td>\n",
       "    </tr>\n",
       "    <tr>\n",
       "      <th>2</th>\n",
       "      <td>my boss is bullying me...</td>\n",
       "      <td>negative</td>\n",
       "      <td>[-0.2252037674188614, -0.052482422441244125, -...</td>\n",
       "      <td>0</td>\n",
       "    </tr>\n",
       "    <tr>\n",
       "      <th>3</th>\n",
       "      <td>what interview! leave me alone</td>\n",
       "      <td>negative</td>\n",
       "      <td>[-0.060340315103530884, -0.18566212058067322, ...</td>\n",
       "      <td>0</td>\n",
       "    </tr>\n",
       "    <tr>\n",
       "      <th>4</th>\n",
       "      <td>Sons of ****, why couldn`t they put them on t...</td>\n",
       "      <td>negative</td>\n",
       "      <td>[-0.06627045571804047, -0.03680921345949173, 0...</td>\n",
       "      <td>0</td>\n",
       "    </tr>\n",
       "    <tr>\n",
       "      <th>...</th>\n",
       "      <td>...</td>\n",
       "      <td>...</td>\n",
       "      <td>...</td>\n",
       "      <td>...</td>\n",
       "    </tr>\n",
       "    <tr>\n",
       "      <th>27476</th>\n",
       "      <td>wish we could come see u on Denver  husband l...</td>\n",
       "      <td>negative</td>\n",
       "      <td>[-0.1049598827958107, 0.05494336783885956, 0.1...</td>\n",
       "      <td>0</td>\n",
       "    </tr>\n",
       "    <tr>\n",
       "      <th>27477</th>\n",
       "      <td>I`ve wondered about rake to.  The client has ...</td>\n",
       "      <td>negative</td>\n",
       "      <td>[-0.28235170245170593, -0.3820191025733948, -0...</td>\n",
       "      <td>0</td>\n",
       "    </tr>\n",
       "    <tr>\n",
       "      <th>27478</th>\n",
       "      <td>Yay good for both of you. Enjoy the break - y...</td>\n",
       "      <td>positive</td>\n",
       "      <td>[0.07476642727851868, 0.024916866794228554, 0....</td>\n",
       "      <td>2</td>\n",
       "    </tr>\n",
       "    <tr>\n",
       "      <th>27479</th>\n",
       "      <td>But it was worth it  ****.</td>\n",
       "      <td>positive</td>\n",
       "      <td>[-0.22100362181663513, -0.1052432432770729, 0....</td>\n",
       "      <td>2</td>\n",
       "    </tr>\n",
       "    <tr>\n",
       "      <th>27480</th>\n",
       "      <td>All this flirting going on - The ATG smiles...</td>\n",
       "      <td>neutral</td>\n",
       "      <td>[-0.21136300265789032, 0.13121014833450317, 0....</td>\n",
       "      <td>1</td>\n",
       "    </tr>\n",
       "  </tbody>\n",
       "</table>\n",
       "<p>27480 rows × 4 columns</p>\n",
       "</div>"
      ],
      "text/plain": [
       "                                                    text sentiment  \\\n",
       "0                    I`d have responded, if I were going   neutral   \n",
       "1          Sooo SAD I will miss you here in San Diego!!!  negative   \n",
       "2                              my boss is bullying me...  negative   \n",
       "3                         what interview! leave me alone  negative   \n",
       "4       Sons of ****, why couldn`t they put them on t...  negative   \n",
       "...                                                  ...       ...   \n",
       "27476   wish we could come see u on Denver  husband l...  negative   \n",
       "27477   I`ve wondered about rake to.  The client has ...  negative   \n",
       "27478   Yay good for both of you. Enjoy the break - y...  positive   \n",
       "27479                         But it was worth it  ****.  positive   \n",
       "27480     All this flirting going on - The ATG smiles...   neutral   \n",
       "\n",
       "                                     sentence_embeddings  sentiment_label  \n",
       "0      [-0.08791296184062958, -0.07898502051830292, 0...                1  \n",
       "1      [-0.2562563717365265, -0.22554504871368408, 0....                0  \n",
       "2      [-0.2252037674188614, -0.052482422441244125, -...                0  \n",
       "3      [-0.060340315103530884, -0.18566212058067322, ...                0  \n",
       "4      [-0.06627045571804047, -0.03680921345949173, 0...                0  \n",
       "...                                                  ...              ...  \n",
       "27476  [-0.1049598827958107, 0.05494336783885956, 0.1...                0  \n",
       "27477  [-0.28235170245170593, -0.3820191025733948, -0...                0  \n",
       "27478  [0.07476642727851868, 0.024916866794228554, 0....                2  \n",
       "27479  [-0.22100362181663513, -0.1052432432770729, 0....                2  \n",
       "27480  [-0.21136300265789032, 0.13121014833450317, 0....                1  \n",
       "\n",
       "[27480 rows x 4 columns]"
      ]
     },
     "execution_count": 14,
     "metadata": {},
     "output_type": "execute_result"
    }
   ],
   "source": [
    "#pre-processed dataset of D2\n",
    "df_d2"
   ]
  },
  {
   "cell_type": "code",
   "execution_count": 15,
   "id": "7ec1f7e0-63b7-4be1-ad9a-bc902de88358",
   "metadata": {},
   "outputs": [],
   "source": [
    "## Train test split into 80/20 for both D1 and D2 dataset\n",
    "from sklearn.model_selection import train_test_split\n",
    "\n",
    "D1_text_train, D1_text_val, D1_labels_train, D1_labels_val = train_test_split(df_d1_train, df_d1_train['target'], test_size=0.2, random_state=0)\n",
    "D2_text_train, D2_text_val, D2_labels_train, D2_labels_val = train_test_split(df_d2, df_d2['sentiment_label'], test_size=0.2, random_state=0)"
   ]
  },
  {
   "cell_type": "markdown",
   "id": "49e81697-afea-4d4d-aa6a-5b7d997f5d73",
   "metadata": {},
   "source": [
    "# II. Model Building"
   ]
  },
  {
   "cell_type": "markdown",
   "id": "2b841d66-fde2-41b1-9ee3-54561118bf9b",
   "metadata": {},
   "source": [
    "The neural network architecture consists of 3 hidden layers of 1024, 512 and 128 neurons respectively. the input layer has dimensions of 768 which is the dimension of the BERT features extraction output. The output layer is 2 (binary classification) for task 1 and 3 for task 2(multi-class classification). A dropout of 0.3 is used for each hidden layer output for prevention of overfitting. In addition, RELU is used as an activation function for the output of each hidden layer."
   ]
  },
  {
   "cell_type": "code",
   "execution_count": 16,
   "id": "2b71b44b-7c99-402f-9c8c-e174e2fb02ae",
   "metadata": {},
   "outputs": [],
   "source": [
    "## Create dataset and dataloader for Neural network training\n",
    "\n",
    "from torch.utils.data import Dataset, DataLoader, TensorDataset\n",
    "\n",
    "D1_train_data = TensorDataset(torch.from_numpy(np.vstack(D1_text_train['sentence_embeddings'].values)).type(torch.float32), torch.from_numpy(D1_labels_train.values).type(torch.LongTensor))\n",
    "D1_train_dataloader = DataLoader(D1_train_data, batch_size=64, shuffle=True)\n",
    "\n",
    "D1_val_data = TensorDataset(torch.from_numpy(np.vstack(D1_text_val['sentence_embeddings'].values)).type(torch.float32), torch.from_numpy(D1_labels_val.values).type(torch.LongTensor))\n",
    "D1_val_dataloader = DataLoader(D1_val_data, batch_size=512)\n",
    "\n",
    "D2_train_data = TensorDataset(torch.from_numpy(np.vstack(D2_text_train['sentence_embeddings'].values)).type(torch.float32), torch.from_numpy(D2_labels_train.values).type(torch.LongTensor))\n",
    "D2_train_dataloader = DataLoader(D2_train_data, batch_size=128, shuffle=True)\n",
    "\n",
    "D2_val_data = TensorDataset(torch.from_numpy(np.vstack(D2_text_val['sentence_embeddings'].values)).type(torch.float32), torch.from_numpy(D2_labels_val.values).type(torch.LongTensor))\n",
    "D2_val_dataloader = DataLoader(D2_val_data, batch_size=512)\n"
   ]
  },
  {
   "cell_type": "code",
   "execution_count": 17,
   "id": "18e3eafd-5c5a-470c-bf6f-04e79c60ae42",
   "metadata": {},
   "outputs": [
    {
     "data": {
      "text/plain": [
       "tensor([2, 1, 2,  ..., 0, 1, 0])"
      ]
     },
     "execution_count": 17,
     "metadata": {},
     "output_type": "execute_result"
    }
   ],
   "source": [
    "torch.from_numpy(D2_labels_val.values).type(torch.LongTensor)"
   ]
  },
  {
   "cell_type": "code",
   "execution_count": 18,
   "id": "24ba2ba6-8230-428f-bb75-ef160d9e0ad8",
   "metadata": {},
   "outputs": [],
   "source": [
    "##Fully connected network with sentence vectors as inputs\n",
    "\n",
    "import torch.nn as nn\n",
    "import random\n",
    "rng = 0\n",
    "class NeuralNetwork(nn.Module):\n",
    "    torch.manual_seed(rng)\n",
    "    torch.cuda.manual_seed(rng)\n",
    "    torch.cuda.manual_seed_all(rng)\n",
    "    np.random.seed(rng)\n",
    "    random.seed(rng)\n",
    "    torch.backends.cudnn.benchmark = False\n",
    "    torch.backends.cudnn.deterministic = True\n",
    "    \n",
    "    \n",
    "    def __init__(self, n_classes):\n",
    "        super().__init__()\n",
    "        self.lin1 = nn.Linear(768, 1024)\n",
    "        self.lin2 = nn.Linear(1024, 512)\n",
    "        self.lin3 = nn.Linear(512, 128)\n",
    "        self.lin4 = nn.Linear(128, n_classes)\n",
    "        self.dropout = nn.Dropout(0.3)\n",
    "        \n",
    "    def forward(self, x):\n",
    "        x = self.lin1(x)\n",
    "        x = nn.ReLU()(x)\n",
    "        x = self.dropout(x)\n",
    "        x = self.lin2(x)\n",
    "        x = nn.ReLU()(x)\n",
    "        x = self.dropout(x)\n",
    "        x = self.lin3(x)\n",
    "        x = nn.ReLU()(x)\n",
    "        x = self.dropout(x)\n",
    "        x = self.lin4(x)\n",
    "        \n",
    "        return x"
   ]
  },
  {
   "cell_type": "markdown",
   "id": "5a71ae14-d45a-47bc-a8d1-0227b7a7e20f",
   "metadata": {},
   "source": [
    "#### Assume the model is deployed in a server within your news agency. Explain the inputs to the model and predictions that it is expected to output. Also explain how the predictions will be used by reporters."
   ]
  },
  {
   "cell_type": "markdown",
   "id": "35381603-4abb-4d92-a18e-5aecb6cb1cf2",
   "metadata": {},
   "source": [
    "The inputs to the model is real time tweets from online and the output to the model is  prediction if the tweet is talking about a disaster or not. Those predicted to be disasters will be used by reporters to be further investigated for their reports on disasters that are happening in their area."
   ]
  },
  {
   "cell_type": "markdown",
   "id": "6745e3c3-bd24-4386-8fe2-bbfcf8f8e3e2",
   "metadata": {},
   "source": [
    "# III. Multi Task Learning"
   ]
  },
  {
   "cell_type": "markdown",
   "id": "e08c072e-def9-4f28-b915-30192bbdfb3b",
   "metadata": {},
   "source": [
    "#### 1. Train the model M only for T1 in D1train. Call the trained model MD1. Evaluate MD1 on D1val and report its performance metric (F1 score) for the first task, PerfT1(MD1|D1val). Also print the confusion matrix."
   ]
  },
  {
   "cell_type": "markdown",
   "id": "630e947c-300d-4ceb-af1c-ff987ca2a4c8",
   "metadata": {},
   "source": [
    "Utilising just the D1 train dataset which has been split into 80%/20% for training and validation, the model described above was trained. The trained model was evaluated using the validation dateset and the results of the performance on the validation set in terms of f1 score and the confusion matrix is shown below. The loss function used was Crossentropy and the optimizer used was Adam with a learning rate of 0.0001."
   ]
  },
  {
   "cell_type": "code",
   "execution_count": 47,
   "id": "1e715441-2f36-4ef5-b559-f8f5ba724c43",
   "metadata": {},
   "outputs": [
    {
     "name": "stdout",
     "output_type": "stream",
     "text": [
      "Epoch 0: Training loss: 0.5828595605368415\n",
      "Epoch 1: Training loss: 0.4736311997597416\n",
      "Epoch 2: Training loss: 0.4494618217771252\n",
      "Epoch 3: Training loss: 0.4469677365074555\n",
      "Epoch 4: Training loss: 0.4378945715725422\n",
      "Epoch 5: Training loss: 0.4349824154439072\n",
      "Epoch 6: Training loss: 0.4267571975166599\n",
      "Epoch 7: Training loss: 0.42033909540623426\n",
      "Epoch 8: Training loss: 0.4136833120137453\n",
      "Epoch 9: Training loss: 0.40615985558057827\n",
      "Epoch 10: Training loss: 0.4015836676893135\n",
      "Epoch 11: Training loss: 0.4031594387876491\n",
      "Epoch 12: Training loss: 0.3961522088696559\n",
      "Epoch 13: Training loss: 0.38524199835956097\n",
      "Epoch 14: Training loss: 0.3846547246600191\n",
      "Epoch 15: Training loss: 0.37687573954463005\n",
      "Epoch 16: Training loss: 0.3772066895229121\n",
      "Epoch 17: Training loss: 0.3659581035996477\n",
      "Epoch 18: Training loss: 0.3572805233610173\n",
      "Epoch 19: Training loss: 0.3538552025953929\n"
     ]
    }
   ],
   "source": [
    "rng = 0\n",
    "\n",
    "torch.manual_seed(rng)\n",
    "torch.cuda.manual_seed(rng)\n",
    "torch.cuda.manual_seed_all(rng)\n",
    "np.random.seed(rng)\n",
    "random.seed(rng)\n",
    "torch.backends.cudnn.benchmark = False\n",
    "torch.backends.cudnn.deterministic = True\n",
    "\n",
    "\n",
    "criterion = nn.CrossEntropyLoss()\n",
    "\n",
    "M_D1 = NeuralNetwork(2)\n",
    "optimizer = torch.optim.Adam(M_D1.parameters(), lr = 0.0001)\n",
    "epochs = 20\n",
    "\n",
    "def fit():\n",
    "    for epoch in range(epochs):\n",
    "        l = 0\n",
    "        num_batches = 0\n",
    "        for xb, yb in D1_train_dataloader:\n",
    "            pred = M_D1(xb)\n",
    "            loss = criterion(pred, yb)\n",
    "\n",
    "            loss.backward()\n",
    "            optimizer.step()\n",
    "            optimizer.zero_grad()\n",
    "            l += loss.detach().item()\n",
    "            num_batches += 1\n",
    "        print(f\"Epoch {epoch}: Training loss: {l/num_batches}\")\n",
    "fit()"
   ]
  },
  {
   "cell_type": "code",
   "execution_count": 20,
   "id": "970b4b8e-87e7-4dbc-89ff-1572f3ab30a4",
   "metadata": {},
   "outputs": [],
   "source": [
    "torch.manual_seed(rng)\n",
    "torch.cuda.manual_seed(rng)\n",
    "torch.cuda.manual_seed_all(rng)\n",
    "np.random.seed(rng)\n",
    "random.seed(rng)\n",
    "torch.backends.cudnn.benchmark = False\n",
    "torch.backends.cudnn.deterministic = True\n",
    "\n",
    "truth = []\n",
    "class_probs = []\n",
    "class_preds = []\n",
    "with torch.no_grad():\n",
    "    for data in D1_val_dataloader:\n",
    "        x, y = data\n",
    "        output = M_D1(x)\n",
    "\n",
    "        class_probs_batch = [nn.Softmax(dim=0)(el) for el in output]\n",
    "        _, class_preds_batch = torch.max(output, 1)\n",
    "        class_probs.append(class_probs_batch)\n",
    "        class_preds.append(class_preds_batch)\n",
    "        truth.extend([l.item() for l in y])\n",
    "\n",
    "val_probs = torch.cat([torch.stack(batch) for batch in class_probs])\n",
    "val_preds = torch.cat(class_preds)"
   ]
  },
  {
   "cell_type": "code",
   "execution_count": 21,
   "id": "234911bc-d5d0-4fba-9e73-e9894cd0b37d",
   "metadata": {},
   "outputs": [
    {
     "name": "stdout",
     "output_type": "stream",
     "text": [
      "The f1 score of MD1 based on the first task is 0.7327823691460055\n"
     ]
    }
   ],
   "source": [
    "from sklearn.metrics import f1_score, accuracy_score\n",
    "\n",
    "perf_t1_MD1 = f1_score(truth, val_preds)\n",
    "print(f'The f1 score of MD1 based on the first task is {perf_t1_MD1}')"
   ]
  },
  {
   "cell_type": "code",
   "execution_count": 22,
   "id": "9a043996-d9b9-4d5c-86fb-6f973b2e2bd6",
   "metadata": {},
   "outputs": [
    {
     "data": {
      "text/plain": [
       "<sklearn.metrics._plot.confusion_matrix.ConfusionMatrixDisplay at 0x2aa8e6610>"
      ]
     },
     "execution_count": 22,
     "metadata": {},
     "output_type": "execute_result"
    },
    {
     "data": {
      "image/png": "[encoded data removed]",
      "text/plain": [
       "<Figure size 500x500 with 2 Axes>"
      ]
     },
     "metadata": {},
     "output_type": "display_data"
    }
   ],
   "source": [
    "from sklearn.metrics import confusion_matrix, ConfusionMatrixDisplay\n",
    "import matplotlib.pyplot as plt\n",
    "\n",
    "fig, _ = plt.subplots(nrows=1, figsize=(5,5))\n",
    "ax = plt.subplot(1, 1, 1)\n",
    "ax.grid(False)\n",
    "\n",
    "\n",
    "disp = ConfusionMatrixDisplay(confusion_matrix(truth, val_preds, labels=[0,1]), display_labels=[0,1])\n",
    "disp.plot(ax=ax)\n"
   ]
  },
  {
   "cell_type": "markdown",
   "id": "218403cb-49b7-4344-b8a8-3abf7d44d000",
   "metadata": {},
   "source": [
    "#### 2. Train the model M only for T2 on D2train. Call the trained model MD2. Evaluate the trained MD2 on D2val and report its performance metric (Accuracy) PerfT2(MD2|D2val). Also print the confusion matrix."
   ]
  },
  {
   "cell_type": "markdown",
   "id": "cd9eb84f-8313-408c-a544-bfe830ab0c22",
   "metadata": {},
   "source": [
    "Similar to the D1 train dataset, the D2 dataset was also trained and evaluated using the same model architecture. The same loss function was used. the optimizer used was Adam with a learning rate of 0.001. The results of the performance of the model on the validation set in terms of accuracy score and confusion matrix is shown below."
   ]
  },
  {
   "cell_type": "code",
   "execution_count": 23,
   "id": "1e5944b1-f6be-42e7-9978-a7f5ee6a96f4",
   "metadata": {},
   "outputs": [
    {
     "name": "stdout",
     "output_type": "stream",
     "text": [
      "Epoch 0: Training loss: 0.8884962540726329\n",
      "Epoch 1: Training loss: 0.805613188202991\n",
      "Epoch 2: Training loss: 0.7828710113846978\n",
      "Epoch 3: Training loss: 0.7708117878714273\n",
      "Epoch 4: Training loss: 0.7674534778262294\n",
      "Epoch 5: Training loss: 0.7607348835052445\n",
      "Epoch 6: Training loss: 0.7571664209975753\n",
      "Epoch 7: Training loss: 0.7450087125911269\n",
      "Epoch 8: Training loss: 0.7440101119667984\n",
      "Epoch 9: Training loss: 0.7434442947770274\n",
      "Epoch 10: Training loss: 0.7371547967195511\n",
      "Epoch 11: Training loss: 0.7290339611990507\n",
      "Epoch 12: Training loss: 0.7255553672480028\n",
      "Epoch 13: Training loss: 0.7231831543667372\n",
      "Epoch 14: Training loss: 0.7185053243193515\n",
      "Epoch 15: Training loss: 0.715627055528552\n",
      "Epoch 16: Training loss: 0.7097152786892514\n",
      "Epoch 17: Training loss: 0.7029003556384597\n",
      "Epoch 18: Training loss: 0.7025264186221499\n",
      "Epoch 19: Training loss: 0.6973349545584169\n"
     ]
    }
   ],
   "source": [
    "\n",
    "torch.manual_seed(rng)\n",
    "torch.cuda.manual_seed(rng)\n",
    "torch.cuda.manual_seed_all(rng)\n",
    "np.random.seed(rng)\n",
    "random.seed(rng)\n",
    "torch.backends.cudnn.benchmark = False\n",
    "torch.backends.cudnn.deterministic = True\n",
    "\n",
    "criterion = nn.CrossEntropyLoss()\n",
    "\n",
    "M_D2 = NeuralNetwork(3)\n",
    "optimizer = torch.optim.Adam(M_D2.parameters(), lr = 0.001)\n",
    "epochs = 20\n",
    "def fit():\n",
    "    for epoch in range(epochs):\n",
    "        l = 0\n",
    "        num_batches = 0\n",
    "        for xb, yb in D2_train_dataloader:\n",
    "            pred = M_D2(xb)\n",
    "            loss = criterion(pred, yb)\n",
    "\n",
    "            loss.backward()\n",
    "            optimizer.step()\n",
    "            optimizer.zero_grad()\n",
    "            l += loss.detach().item()\n",
    "            num_batches += 1\n",
    "        print(f\"Epoch {epoch}: Training loss: {l/num_batches}\")\n",
    "fit()"
   ]
  },
  {
   "cell_type": "code",
   "execution_count": 24,
   "id": "807af016-3f80-48cb-bbab-fbd4ceec6082",
   "metadata": {},
   "outputs": [],
   "source": [
    "torch.manual_seed(rng)\n",
    "torch.cuda.manual_seed(rng)\n",
    "torch.cuda.manual_seed_all(rng)\n",
    "np.random.seed(rng)\n",
    "random.seed(rng)\n",
    "torch.backends.cudnn.benchmark = False\n",
    "torch.backends.cudnn.deterministic = True\n",
    "\n",
    "\n",
    "truth = []\n",
    "class_probs = []\n",
    "class_preds = []\n",
    "with torch.no_grad():\n",
    "    for data in D2_val_dataloader:\n",
    "        x, y = data\n",
    "        output = M_D2(x)\n",
    "        \n",
    "        class_probs_batch = [nn.Softmax(dim=0)(el) for el in output]\n",
    "        _, class_preds_batch = torch.max(output, 1)\n",
    "        class_probs.append(class_probs_batch)\n",
    "        class_preds.append(class_preds_batch)\n",
    "        truth.extend([l.item() for l in y])\n",
    "\n",
    "val_probs = torch.cat([torch.stack(batch) for batch in class_probs])\n",
    "val_preds = torch.cat(class_preds)"
   ]
  },
  {
   "cell_type": "code",
   "execution_count": 25,
   "id": "72512727-f3c3-40a4-a8bc-feefe1d9cc21",
   "metadata": {},
   "outputs": [
    {
     "name": "stdout",
     "output_type": "stream",
     "text": [
      "The accuracy score of MD2 based on the second task is 0.637372634643377\n"
     ]
    }
   ],
   "source": [
    "\n",
    "perf_t2_MD2 = accuracy_score(val_preds, truth)\n",
    "print(f'The accuracy score of MD2 based on the second task is {perf_t2_MD2}')"
   ]
  },
  {
   "cell_type": "code",
   "execution_count": 26,
   "id": "c9c1143e-4c84-4ce9-a3c4-2b988cb73862",
   "metadata": {},
   "outputs": [
    {
     "data": {
      "text/plain": [
       "<sklearn.metrics._plot.confusion_matrix.ConfusionMatrixDisplay at 0x2aade2940>"
      ]
     },
     "execution_count": 26,
     "metadata": {},
     "output_type": "execute_result"
    },
    {
     "data": {
      "image/png": "[encoded data removed]",
      "text/plain": [
       "<Figure size 500x500 with 2 Axes>"
      ]
     },
     "metadata": {},
     "output_type": "display_data"
    }
   ],
   "source": [
    "fig, _ = plt.subplots(nrows=1, figsize=(5,5))\n",
    "ax = plt.subplot(1, 1, 1)\n",
    "ax.grid(False)\n",
    "\n",
    "\n",
    "disp = ConfusionMatrixDisplay(confusion_matrix(truth, val_preds, labels=[0,1,2]), display_labels=[0,1,2])\n",
    "disp.plot(ax=ax)"
   ]
  },
  {
   "cell_type": "markdown",
   "id": "2845df0b-4e37-4852-bb70-efd0398c3469",
   "metadata": {},
   "source": [
    "#### 3. Estimate the sentiment labels for the tweets in D1."
   ]
  },
  {
   "cell_type": "markdown",
   "id": "bcfc16df-2020-44db-87c9-b989245d2aee",
   "metadata": {},
   "source": [
    "An augmented dataset of D1 was created by using the model trained using D2 dataset to predict the sentiment labels for the tweets from the D1 dataset. "
   ]
  },
  {
   "cell_type": "code",
   "execution_count": 27,
   "id": "5b026023-3c05-4af2-90e5-8db8b0fc71f5",
   "metadata": {},
   "outputs": [],
   "source": [
    "with torch.no_grad():\n",
    "    output = M_D2(torch.from_numpy(np.vstack(df_d1_train['sentence_embeddings'].values)).type(torch.float32))\n",
    "    class_probs = [nn.Softmax(dim=0)(el) for el in output]\n",
    "    _, class_preds = torch.max(output, 1)\n",
    "    D1_labels_train_hat = class_preds.numpy()\n",
    "\n",
    "#Augmented dataset df\n",
    "df_d1_train_aug =  df_d1_train.copy()\n",
    "df_d1_train_aug['sentiment_label'] = convert_2darray_to_df(D1_labels_train_hat)\n",
    "\n"
   ]
  },
  {
   "cell_type": "code",
   "execution_count": 28,
   "id": "e8369317-de72-4a6b-9036-d89bf5f5792c",
   "metadata": {},
   "outputs": [
    {
     "data": {
      "text/html": [
       "<div>\n",
       "<style scoped>\n",
       "    .dataframe tbody tr th:only-of-type {\n",
       "        vertical-align: middle;\n",
       "    }\n",
       "\n",
       "    .dataframe tbody tr th {\n",
       "        vertical-align: top;\n",
       "    }\n",
       "\n",
       "    .dataframe thead th {\n",
       "        text-align: right;\n",
       "    }\n",
       "</style>\n",
       "<table border=\"1\" class=\"dataframe\">\n",
       "  <thead>\n",
       "    <tr style=\"text-align: right;\">\n",
       "      <th></th>\n",
       "      <th>text</th>\n",
       "      <th>target</th>\n",
       "      <th>sentence_embeddings</th>\n",
       "      <th>sentiment_label</th>\n",
       "    </tr>\n",
       "  </thead>\n",
       "  <tbody>\n",
       "    <tr>\n",
       "      <th>0</th>\n",
       "      <td>Our Deeds are the Reason of this #earthquake M...</td>\n",
       "      <td>1</td>\n",
       "      <td>[-0.10347555577754974, 0.0949205756187439, -0....</td>\n",
       "      <td>2</td>\n",
       "    </tr>\n",
       "    <tr>\n",
       "      <th>1</th>\n",
       "      <td>Forest fire near La Ronge Sask. Canada</td>\n",
       "      <td>1</td>\n",
       "      <td>[-0.4164022207260132, 0.19298885762691498, -0....</td>\n",
       "      <td>1</td>\n",
       "    </tr>\n",
       "    <tr>\n",
       "      <th>2</th>\n",
       "      <td>All residents asked to 'shelter in place' are ...</td>\n",
       "      <td>1</td>\n",
       "      <td>[-0.2418411374092102, -0.1157110333442688, 0.1...</td>\n",
       "      <td>1</td>\n",
       "    </tr>\n",
       "    <tr>\n",
       "      <th>3</th>\n",
       "      <td>13,000 people receive #wildfires evacuation or...</td>\n",
       "      <td>1</td>\n",
       "      <td>[-0.12487819045782089, 0.030626526102423668, -...</td>\n",
       "      <td>1</td>\n",
       "    </tr>\n",
       "    <tr>\n",
       "      <th>4</th>\n",
       "      <td>Just got sent this photo from Ruby #Alaska as ...</td>\n",
       "      <td>1</td>\n",
       "      <td>[-0.0019691395573318005, -0.14926283061504364,...</td>\n",
       "      <td>1</td>\n",
       "    </tr>\n",
       "    <tr>\n",
       "      <th>...</th>\n",
       "      <td>...</td>\n",
       "      <td>...</td>\n",
       "      <td>...</td>\n",
       "      <td>...</td>\n",
       "    </tr>\n",
       "    <tr>\n",
       "      <th>7608</th>\n",
       "      <td>Two giant cranes holding a bridge collapse int...</td>\n",
       "      <td>1</td>\n",
       "      <td>[-0.2051445096731186, 0.09096449613571167, -0....</td>\n",
       "      <td>0</td>\n",
       "    </tr>\n",
       "    <tr>\n",
       "      <th>7609</th>\n",
       "      <td>@aria_ahrary @TheTawniest The out of control w...</td>\n",
       "      <td>1</td>\n",
       "      <td>[-0.23618453741073608, -0.10245174914598465, -...</td>\n",
       "      <td>0</td>\n",
       "    </tr>\n",
       "    <tr>\n",
       "      <th>7610</th>\n",
       "      <td>M1.94 [01:04 UTC]?5km S of Volcano Hawaii. htt...</td>\n",
       "      <td>1</td>\n",
       "      <td>[-0.35735654830932617, 0.006355086341500282, 0...</td>\n",
       "      <td>1</td>\n",
       "    </tr>\n",
       "    <tr>\n",
       "      <th>7611</th>\n",
       "      <td>Police investigating after an e-bike collided ...</td>\n",
       "      <td>1</td>\n",
       "      <td>[-0.4586879014968872, -0.25744855403900146, -0...</td>\n",
       "      <td>0</td>\n",
       "    </tr>\n",
       "    <tr>\n",
       "      <th>7612</th>\n",
       "      <td>The Latest: More Homes Razed by Northern Calif...</td>\n",
       "      <td>1</td>\n",
       "      <td>[-0.19707342982292175, -0.10754090547561646, -...</td>\n",
       "      <td>0</td>\n",
       "    </tr>\n",
       "  </tbody>\n",
       "</table>\n",
       "<p>7613 rows × 4 columns</p>\n",
       "</div>"
      ],
      "text/plain": [
       "                                                   text  target  \\\n",
       "0     Our Deeds are the Reason of this #earthquake M...       1   \n",
       "1                Forest fire near La Ronge Sask. Canada       1   \n",
       "2     All residents asked to 'shelter in place' are ...       1   \n",
       "3     13,000 people receive #wildfires evacuation or...       1   \n",
       "4     Just got sent this photo from Ruby #Alaska as ...       1   \n",
       "...                                                 ...     ...   \n",
       "7608  Two giant cranes holding a bridge collapse int...       1   \n",
       "7609  @aria_ahrary @TheTawniest The out of control w...       1   \n",
       "7610  M1.94 [01:04 UTC]?5km S of Volcano Hawaii. htt...       1   \n",
       "7611  Police investigating after an e-bike collided ...       1   \n",
       "7612  The Latest: More Homes Razed by Northern Calif...       1   \n",
       "\n",
       "                                    sentence_embeddings  sentiment_label  \n",
       "0     [-0.10347555577754974, 0.0949205756187439, -0....                2  \n",
       "1     [-0.4164022207260132, 0.19298885762691498, -0....                1  \n",
       "2     [-0.2418411374092102, -0.1157110333442688, 0.1...                1  \n",
       "3     [-0.12487819045782089, 0.030626526102423668, -...                1  \n",
       "4     [-0.0019691395573318005, -0.14926283061504364,...                1  \n",
       "...                                                 ...              ...  \n",
       "7608  [-0.2051445096731186, 0.09096449613571167, -0....                0  \n",
       "7609  [-0.23618453741073608, -0.10245174914598465, -...                0  \n",
       "7610  [-0.35735654830932617, 0.006355086341500282, 0...                1  \n",
       "7611  [-0.4586879014968872, -0.25744855403900146, -0...                0  \n",
       "7612  [-0.19707342982292175, -0.10754090547561646, -...                0  \n",
       "\n",
       "[7613 rows x 4 columns]"
      ]
     },
     "execution_count": 28,
     "metadata": {},
     "output_type": "execute_result"
    }
   ],
   "source": [
    "df_d1_train_aug"
   ]
  },
  {
   "cell_type": "markdown",
   "id": "2932f35f-35c2-4dc9-ad9e-a39b27e158d9",
   "metadata": {},
   "source": [
    "#### Analyze and report the predicted sentiment labels for some of the tweets from the disaster dataset. Use at least 1 tweet from each class for your analysis."
   ]
  },
  {
   "cell_type": "code",
   "execution_count": 29,
   "id": "98210a47-5e6c-466d-b0eb-c878870c8e19",
   "metadata": {},
   "outputs": [
    {
     "name": "stdout",
     "output_type": "stream",
     "text": [
      "Examples of negative sentiments:\n",
      "Texts:\n",
      "1. #RockyFire Update => California Hwy. 20 closed in both directions due to Lake County fire - #CAfire #wildfires\n",
      "2. Haha South Tampa is getting flooded hah- WAIT A SECOND I LIVE IN SOUTH TAMPA WHAT AM I GONNA DO WHAT AM I GONNA DO FVCK #flooding\n",
      "3. Damage to school bus on 80 in multi car crash #BREAKING \n",
      "\n",
      "\n",
      "Examples of positive sentiments:\n",
      "Text:\n",
      "1. Our Deeds are the Reason of this #earthquake May ALLAH Forgive us all\n",
      "2. I love fruits\n",
      "3. Summer is lovely\n",
      "\n",
      "\n",
      "Examples of neutral sentiments:\n",
      "Text:\n",
      "1. Forest fire near La Ronge Sask. Canada\n",
      "2. All residents asked to 'shelter in place' are being notified by officers. No other evacuation or shelter in place orders are expected\n",
      "3. 13,000 people receive #wildfires evacuation orders in California \n"
     ]
    }
   ],
   "source": [
    "print(\"Examples of negative sentiments:\")\n",
    "print('Texts:')\n",
    "print(\"1.\", df_d1_train_aug[df_d1_train_aug['sentiment_label'] == 0].iloc[0,0])\n",
    "print(\"2.\", df_d1_train_aug[df_d1_train_aug['sentiment_label'] == 0].iloc[1,0])\n",
    "print(\"3.\", df_d1_train_aug[df_d1_train_aug['sentiment_label'] == 0].iloc[3,0])\n",
    "print(\"\\n\")\n",
    "\n",
    "print(\"Examples of positive sentiments:\")\n",
    "print('Text:')\n",
    "print(\"1.\", df_d1_train_aug[df_d1_train_aug['sentiment_label'] == 2].iloc[0,0])\n",
    "print(\"2.\", df_d1_train_aug[df_d1_train_aug['sentiment_label'] == 2].iloc[1,0])\n",
    "print(\"3.\", df_d1_train_aug[df_d1_train_aug['sentiment_label'] == 2].iloc[2,0])\n",
    "print(\"\\n\")\n",
    "\n",
    "print(\"Examples of neutral sentiments:\")\n",
    "print('Text:')\n",
    "print(\"1.\", df_d1_train_aug[df_d1_train_aug['sentiment_label'] == 1].iloc[0,0])\n",
    "print(\"2.\",df_d1_train_aug[df_d1_train_aug['sentiment_label'] == 1].iloc[1,0])\n",
    "print(\"3.\",df_d1_train_aug[df_d1_train_aug['sentiment_label'] == 1].iloc[2,0])"
   ]
  },
  {
   "cell_type": "markdown",
   "id": "f8f1d8a3-152e-4d2c-9499-4eec04adbdb8",
   "metadata": {},
   "source": [
    "As shown in the examples above for the predicted negative, positive and nuetral sentiments, it is able to correctly predict the postive sentiments and negative sentiments(disaster tweets) relatively well. However, the neutral sentiments are not that well predicted as alot of the disaster tweets are predicted as neutral."
   ]
  },
  {
   "cell_type": "markdown",
   "id": "75292bab-edf6-411e-800e-d9b369a3b9ec",
   "metadata": {},
   "source": [
    "#### 4. Create another dataset by combining D1 and D2:"
   ]
  },
  {
   "cell_type": "markdown",
   "id": "63ac7e89-941c-42c8-83f0-1f984942de99",
   "metadata": {},
   "source": [
    "Another dataset was also created where the D1 train dataset was merged with the D2 train dataset with both labels and tweets. In this dataset, whereever the labels are missing for each tweet, it is retained as null. The combined dataset is shown below."
   ]
  },
  {
   "cell_type": "code",
   "execution_count": 30,
   "id": "b543f977-8e7f-49ed-8dc3-a2b1461cb9aa",
   "metadata": {},
   "outputs": [],
   "source": [
    "D1_D2_train_combine_df = D1_text_train.merge(D2_text_train, on='text', how='outer').drop(['sentiment'], axis=1)\n",
    "\n",
    "D1_D2_train_combine_df = D1_D2_train_combine_df.rename(columns = {'sentence_embeddings_x': 'sentence_embeddings_D1', 'sentence_embeddings_y': 'sentence_embeddings_D2'})\n",
    "\n",
    "def sentence_embeddings_combine(row):\n",
    "    if np.isnan(row['sentence_embeddings_D1']).all():\n",
    "        return row['sentence_embeddings_D2']\n",
    "    else:\n",
    "        return row['sentence_embeddings_D1']\n",
    "    \n",
    "D1_D2_train_combine_df['sentence_embeddings'] = D1_D2_train_combine_df.apply(sentence_embeddings_combine, axis=1)\n",
    "D1_D2_train_combine_df = D1_D2_train_combine_df.drop(['sentence_embeddings_D1', 'sentence_embeddings_D2'], axis=1)\n"
   ]
  },
  {
   "cell_type": "code",
   "execution_count": 31,
   "id": "d78aacf3-158d-4d2a-8f3d-c195533e4c94",
   "metadata": {},
   "outputs": [
    {
     "data": {
      "text/html": [
       "<div>\n",
       "<style scoped>\n",
       "    .dataframe tbody tr th:only-of-type {\n",
       "        vertical-align: middle;\n",
       "    }\n",
       "\n",
       "    .dataframe tbody tr th {\n",
       "        vertical-align: top;\n",
       "    }\n",
       "\n",
       "    .dataframe thead th {\n",
       "        text-align: right;\n",
       "    }\n",
       "</style>\n",
       "<table border=\"1\" class=\"dataframe\">\n",
       "  <thead>\n",
       "    <tr style=\"text-align: right;\">\n",
       "      <th></th>\n",
       "      <th>text</th>\n",
       "      <th>target</th>\n",
       "      <th>sentiment_label</th>\n",
       "      <th>sentence_embeddings</th>\n",
       "    </tr>\n",
       "  </thead>\n",
       "  <tbody>\n",
       "    <tr>\n",
       "      <th>0</th>\n",
       "      <td>Ted Cruz fires back at Jeb &amp;amp; Bush: ÛÏWe l...</td>\n",
       "      <td>0.0</td>\n",
       "      <td>NaN</td>\n",
       "      <td>[-0.20338654518127441, -0.14267973601818085, -...</td>\n",
       "    </tr>\n",
       "    <tr>\n",
       "      <th>1</th>\n",
       "      <td>This is the first year the Forest Service spen...</td>\n",
       "      <td>1.0</td>\n",
       "      <td>NaN</td>\n",
       "      <td>[-0.32133790850639343, -0.10172615945339203, -...</td>\n",
       "    </tr>\n",
       "    <tr>\n",
       "      <th>2</th>\n",
       "      <td>@lightseraphs pissed at you and could have the...</td>\n",
       "      <td>0.0</td>\n",
       "      <td>NaN</td>\n",
       "      <td>[-0.09641452133655548, -0.19245226681232452, 0...</td>\n",
       "    </tr>\n",
       "    <tr>\n",
       "      <th>3</th>\n",
       "      <td>I'm gonna fight Taylor as soon as I get there.</td>\n",
       "      <td>0.0</td>\n",
       "      <td>NaN</td>\n",
       "      <td>[-0.04530864953994751, -0.041303567588329315, ...</td>\n",
       "    </tr>\n",
       "    <tr>\n",
       "      <th>4</th>\n",
       "      <td>@NicolaClements4 IÛªm not sure that covering ...</td>\n",
       "      <td>0.0</td>\n",
       "      <td>NaN</td>\n",
       "      <td>[-0.4246214032173157, 0.0069144354201853275, 0...</td>\n",
       "    </tr>\n",
       "    <tr>\n",
       "      <th>...</th>\n",
       "      <td>...</td>\n",
       "      <td>...</td>\n",
       "      <td>...</td>\n",
       "      <td>...</td>\n",
       "    </tr>\n",
       "    <tr>\n",
       "      <th>28069</th>\n",
       "      <td>...thanks for the shout out...you might be ri...</td>\n",
       "      <td>NaN</td>\n",
       "      <td>2.0</td>\n",
       "      <td>[-0.09515293687582016, 0.06759532541036606, 0....</td>\n",
       "    </tr>\n",
       "    <tr>\n",
       "      <th>28070</th>\n",
       "      <td>Im going in now, it looks like the sun has gone</td>\n",
       "      <td>NaN</td>\n",
       "      <td>1.0</td>\n",
       "      <td>[-0.07051143795251846, 0.21059899032115936, 0....</td>\n",
       "    </tr>\n",
       "    <tr>\n",
       "      <th>28071</th>\n",
       "      <td>I am soooo saying this phrase now 'Stop be so ...</td>\n",
       "      <td>NaN</td>\n",
       "      <td>1.0</td>\n",
       "      <td>[-0.1425376832485199, 0.03949875757098198, 0.0...</td>\n",
       "    </tr>\n",
       "    <tr>\n",
       "      <th>28072</th>\n",
       "      <td>Morning all  and its a lovely day at last</td>\n",
       "      <td>NaN</td>\n",
       "      <td>2.0</td>\n",
       "      <td>[-0.1805098056793213, -0.27493786811828613, 0....</td>\n",
       "    </tr>\n",
       "    <tr>\n",
       "      <th>28073</th>\n",
       "      <td>Editors read this and nod, writers read this a...</td>\n",
       "      <td>NaN</td>\n",
       "      <td>1.0</td>\n",
       "      <td>[-0.1842319369316101, -0.16171422600746155, 0....</td>\n",
       "    </tr>\n",
       "  </tbody>\n",
       "</table>\n",
       "<p>28074 rows × 4 columns</p>\n",
       "</div>"
      ],
      "text/plain": [
       "                                                    text  target  \\\n",
       "0      Ted Cruz fires back at Jeb &amp; Bush: ÛÏWe l...     0.0   \n",
       "1      This is the first year the Forest Service spen...     1.0   \n",
       "2      @lightseraphs pissed at you and could have the...     0.0   \n",
       "3         I'm gonna fight Taylor as soon as I get there.     0.0   \n",
       "4      @NicolaClements4 IÛªm not sure that covering ...     0.0   \n",
       "...                                                  ...     ...   \n",
       "28069   ...thanks for the shout out...you might be ri...     NaN   \n",
       "28070    Im going in now, it looks like the sun has gone     NaN   \n",
       "28071  I am soooo saying this phrase now 'Stop be so ...     NaN   \n",
       "28072          Morning all  and its a lovely day at last     NaN   \n",
       "28073  Editors read this and nod, writers read this a...     NaN   \n",
       "\n",
       "       sentiment_label                                sentence_embeddings  \n",
       "0                  NaN  [-0.20338654518127441, -0.14267973601818085, -...  \n",
       "1                  NaN  [-0.32133790850639343, -0.10172615945339203, -...  \n",
       "2                  NaN  [-0.09641452133655548, -0.19245226681232452, 0...  \n",
       "3                  NaN  [-0.04530864953994751, -0.041303567588329315, ...  \n",
       "4                  NaN  [-0.4246214032173157, 0.0069144354201853275, 0...  \n",
       "...                ...                                                ...  \n",
       "28069              2.0  [-0.09515293687582016, 0.06759532541036606, 0....  \n",
       "28070              1.0  [-0.07051143795251846, 0.21059899032115936, 0....  \n",
       "28071              1.0  [-0.1425376832485199, 0.03949875757098198, 0.0...  \n",
       "28072              2.0  [-0.1805098056793213, -0.27493786811828613, 0....  \n",
       "28073              1.0  [-0.1842319369316101, -0.16171422600746155, 0....  \n",
       "\n",
       "[28074 rows x 4 columns]"
      ]
     },
     "execution_count": 31,
     "metadata": {},
     "output_type": "execute_result"
    }
   ],
   "source": [
    "D1_D2_train_combine_df"
   ]
  },
  {
   "cell_type": "markdown",
   "id": "1b4538ee-eec9-498b-8b15-7a9b41c065a7",
   "metadata": {},
   "source": [
    "#### 5. Train M for both T1 and T2 on D12 by minimizing a weighted loss, λ1l1 + λ2l2 where λs are positive scalar weights between and 1: higher the λ more the emphasis on corresponding task while training; l1, l2 are task-specific loss functions. Call this model MD12.\n"
   ]
  },
  {
   "cell_type": "markdown",
   "id": "e4968df8-2fcd-4eab-9a8d-6bfbf7423c8b",
   "metadata": {},
   "source": [
    "A multitask learning(MTL) model was built using the same architecture as the individual models stated in previous sections. Using the merged dataset in Section 4, the model is trained for both tasks. A simple schematic of the model is shown below."
   ]
  },
  {
   "attachments": {
    "3fc3b42a-8b98-4b85-8a84-7e2566adfd28.png": {
     "image/png": "[encoded data removed]"
    }
   },
   "cell_type": "markdown",
   "id": "a51835f2-6a17-4953-8604-c1538a15429c",
   "metadata": {},
   "source": [
    "![hardparameter.png](attachment:3fc3b42a-8b98-4b85-8a84-7e2566adfd28.png)"
   ]
  },
  {
   "cell_type": "markdown",
   "id": "d4d4e0f4-f8d4-4b69-bb62-1864624b36e7",
   "metadata": {},
   "source": [
    "This MTL model is described as a hard parameter sharing model where both the tasks share the same hidden layers. Therefore, the weights are the same for the hidden layers for both the tasks. A hyperparameter term lambda1 and lambda2 is used to combine the loss function for the gradients to be computed and the weights to be updated in each batch as part of the training.\n",
    "\n",
    "#### When the label of a data sample is , the corresponding loss is considered as 0. What is the effect of this during network training?\n",
    "\n",
    "If a label is null for a particular observation, the loss is calculated as zero for that particular task. The loss from this lable is not use for backpropagation to update the weights for the shared hidden layers. This just means that the model is trained focusing on the task which has a label and not focus on the task where the label is null as the weights are updated at each batch based on the combined loss function. \n",
    "\n",
    "The model MD12 is trained using the combined dataset and the performance of the model is evaluated using the validation set(20% split) of the augmented dataset. A lambda value of 0.5 is used for both lambdas. The evaluation in terms of f1 score for task 1 and accuracy score for task 2 is shown below. The confusion matrices for both tasks on the validation dataset are also detailed below."
   ]
  },
  {
   "cell_type": "code",
   "execution_count": 32,
   "id": "131b1e1b-1726-4373-a364-7684d2fd075d",
   "metadata": {},
   "outputs": [],
   "source": [
    "#Multi-task model Architecture\n",
    "class MultiTaskNeuralNetwork(nn.Module):\n",
    "    def __init__(self, n_classes_task1, n_classes_task2):\n",
    "        super().__init__()\n",
    "        self.lin1 = nn.Linear(768, 1024)\n",
    "        self.lin2 = nn.Linear(1024, 512)\n",
    "        self.lin3 = nn.Linear(512, 128)\n",
    "        self.dropout = nn.Dropout(0.3)\n",
    "        \n",
    "        # Task-specific output layers\n",
    "        self.out_task1 = nn.Linear(128, n_classes_task1)\n",
    "        self.out_task2 = nn.Linear(128, n_classes_task2)\n",
    "        \n",
    "    def forward(self, x, task):\n",
    "        x = self.lin1(x)\n",
    "        x = nn.ReLU()(x)\n",
    "        x = self.dropout(x)\n",
    "        x = self.lin2(x)\n",
    "        x = nn.ReLU()(x)\n",
    "        x = self.dropout(x)\n",
    "        x = self.lin3(x)\n",
    "        x = nn.ReLU()(x)\n",
    "        x = self.dropout(x)\n",
    "\n",
    "        # Task-specific outputs\n",
    "        if task == 1:\n",
    "            return self.out_task1(x)\n",
    "        if task == 2:\n",
    "            return self.out_task2(x)"
   ]
  },
  {
   "cell_type": "code",
   "execution_count": 34,
   "id": "9206debe-d8d9-41b8-845f-1a8df1916a70",
   "metadata": {},
   "outputs": [],
   "source": [
    "D12_train_data = TensorDataset(torch.from_numpy(np.vstack(D1_D2_train_combine_df['sentence_embeddings'].values)).type(torch.float32), torch.from_numpy(D1_D2_train_combine_df['target'].values), torch.from_numpy(D1_D2_train_combine_df['sentiment_label'].values))\n",
    "D12_train_dataloader = DataLoader(D12_train_data, batch_size=64, shuffle=True)\n",
    "\n"
   ]
  },
  {
   "cell_type": "code",
   "execution_count": 35,
   "id": "a0164116-454c-4179-8526-922e0973b8c2",
   "metadata": {},
   "outputs": [],
   "source": [
    "test_dataset = TensorDataset(torch.from_numpy(D1_D2_train_combine_df['target'].values))\n",
    "test_dataloader = DataLoader(test_dataset, batch_size=28074, shuffle=True)"
   ]
  },
  {
   "cell_type": "markdown",
   "id": "a29cd8b3-4c0c-490e-b755-719430e807e2",
   "metadata": {},
   "source": [
    "#### After training with λ1 = λ2 = 0.5, evaluate MD12 on D1_hat_val and report the performance for both the tasks. Print confusion matrices for both."
   ]
  },
  {
   "cell_type": "code",
   "execution_count": 36,
   "id": "f2392cee-00f0-4ba6-95e9-4b7fbb07859c",
   "metadata": {},
   "outputs": [
    {
     "name": "stdout",
     "output_type": "stream",
     "text": [
      "Epoch 1, Loss: 0.5301852797185641\n",
      "Epoch 2, Loss: 0.4304850555633901\n",
      "Epoch 3, Loss: 0.41082929468507917\n",
      "Epoch 4, Loss: 0.40112957229375296\n",
      "Epoch 5, Loss: 0.39383074817733504\n",
      "Epoch 6, Loss: 0.3895439106402473\n",
      "Epoch 7, Loss: 0.38536120038097704\n",
      "Epoch 8, Loss: 0.3803299713650706\n",
      "Epoch 9, Loss: 0.3758257447926493\n",
      "Epoch 10, Loss: 0.37180413068155493\n",
      "Epoch 11, Loss: 0.36785031770247806\n",
      "Epoch 12, Loss: 0.3660173841788177\n",
      "Epoch 13, Loss: 0.36170643554461573\n",
      "Epoch 14, Loss: 0.35800651795228683\n",
      "Epoch 15, Loss: 0.35379083461397604\n",
      "Epoch 16, Loss: 0.34999145268715054\n",
      "Epoch 17, Loss: 0.34694199725680036\n",
      "Epoch 18, Loss: 0.3426519400505922\n",
      "Epoch 19, Loss: 0.33846259049239624\n",
      "Epoch 20, Loss: 0.33417507795646684\n"
     ]
    }
   ],
   "source": [
    "# Train model with lambda1 = 0.5 and lambda2 = 0.5 - Hyperparameters for the loss functions\n",
    "torch.manual_seed(rng)\n",
    "torch.cuda.manual_seed(rng)\n",
    "torch.cuda.manual_seed_all(rng)\n",
    "np.random.seed(rng)\n",
    "random.seed(rng)\n",
    "torch.backends.cudnn.benchmark = False\n",
    "torch.backends.cudnn.deterministic = True\n",
    "\n",
    "lambda_1 = 0.5\n",
    "lambda_2 = 0.5\n",
    "epochs = 20\n",
    "\n",
    "MD_12 = MultiTaskNeuralNetwork(n_classes_task1=2, n_classes_task2=3)\n",
    "\n",
    "# Define separate loss functions for each task\n",
    "criterion_task1 = nn.CrossEntropyLoss()\n",
    "criterion_task2 = nn.CrossEntropyLoss()\n",
    "\n",
    "# Define the optimizer\n",
    "optimizer = torch.optim.Adam(MD_12.parameters(), lr=0.0001)\n",
    "\n",
    "# Training loop\n",
    "for epoch in range(epochs):\n",
    "    running_loss = 0.0\n",
    "    for (inputs, labels_task1, labels_task2) in D12_train_dataloader:\n",
    "        # Zero the parameter gradients\n",
    "        optimizer.zero_grad()\n",
    "        \n",
    "        idx1 = labels_task1 != np.nan\n",
    "        idx2 = labels_task2 != np.nan\n",
    "        input1 = inputs[idx1]\n",
    "        input2 = inputs[idx2]\n",
    "        \n",
    "        # Forward pass\n",
    "        #outputs_task1, outputs_task2 = MD_12(inputs)\n",
    "        outputs_task1 = MD_12(input1, task=1)\n",
    "        outputs_task2 = MD_12(input2, task=2)\n",
    "        \n",
    "        #print(labels_task1)\n",
    "        # Compute the losses for each task\n",
    "        loss_task1 = criterion_task1(outputs_task1, (labels_task1[idx1]).type(torch.LongTensor))\n",
    "        loss_task2 = criterion_task2(outputs_task2, (labels_task2[idx2]).type(torch.LongTensor))\n",
    "\n",
    "        # Combine the losses with the hyperparameters as factors\n",
    "        loss = lambda_1 * loss_task1 + lambda_2 * loss_task2\n",
    "\n",
    "        # Backward pass and optimization\n",
    "        loss.backward()\n",
    "        optimizer.step()\n",
    "\n",
    "        # Accumulate the running loss\n",
    "        running_loss += loss.item()\n",
    "\n",
    "    # Print the average loss for this epoch\n",
    "    print(f\"Epoch {epoch + 1}, Loss: {running_loss / len(D12_train_dataloader)}\")"
   ]
  },
  {
   "cell_type": "code",
   "execution_count": 37,
   "id": "275f87cd-7677-48ef-9668-21dc2edc9b7e",
   "metadata": {},
   "outputs": [],
   "source": [
    "D1_hat_train, D1_hat_val = train_test_split(df_d1_train_aug, test_size=0.2, random_state=0)"
   ]
  },
  {
   "cell_type": "code",
   "execution_count": 38,
   "id": "27c46c77-23ad-4720-9e08-f7d24e42535b",
   "metadata": {},
   "outputs": [],
   "source": [
    "#Dataloader for D1_hat for validation\n",
    "D1_hat_val_data = TensorDataset(torch.from_numpy(np.vstack(D1_hat_val['sentence_embeddings'].values)).type(torch.float32), torch.from_numpy(D1_hat_val['target'].values).type(torch.LongTensor), torch.from_numpy(D1_hat_val['sentiment_label'].values).type(torch.LongTensor))\n",
    "D1_hat_val_dataloader = DataLoader(D1_hat_val_data, batch_size=512)"
   ]
  },
  {
   "cell_type": "code",
   "execution_count": 506,
   "id": "41006d28-083f-4206-8a8f-e5d904c3b4c7",
   "metadata": {},
   "outputs": [],
   "source": [
    "#Evaluation of model using D1_hat validation data\n",
    "torch.manual_seed(rng)\n",
    "torch.cuda.manual_seed(rng)\n",
    "torch.cuda.manual_seed_all(rng)\n",
    "np.random.seed(rng)\n",
    "random.seed(rng)\n",
    "torch.backends.cudnn.benchmark = False\n",
    "torch.backends.cudnn.deterministic = True\n",
    "\n",
    "truth1 = []\n",
    "truth2 = []\n",
    "class_probs_t1 = []\n",
    "class_probs_t2 = []\n",
    "class_preds_t1 = []\n",
    "class_preds_t2 = []\n",
    "\n",
    "with torch.no_grad():\n",
    "    for data in D1_hat_val_dataloader:\n",
    "        x, y1, y2 = data\n",
    "        output_t1 = MD_12(x, task = 1)\n",
    "        output_t2 = MD_12(x, task = 2)\n",
    "        \n",
    "        class_probs_t1_batch = [nn.Softmax(dim=0)(el) for el in output_t1]\n",
    "        class_probs_t2_batch = [nn.Softmax(dim=0)(el) for el in output_t2]\n",
    "        \n",
    "        _, class_preds_t1_batch = torch.max(output_t1, 1)\n",
    "        _, class_preds_t2_batch = torch.max(output_t2, 1)\n",
    "\n",
    "        class_probs_t1.append(class_probs_t1_batch)\n",
    "        class_probs_t2.append(class_probs_t2_batch)\n",
    "        \n",
    "        class_preds_t1.append(class_preds_t1_batch)\n",
    "        class_preds_t2.append(class_preds_t2_batch)\n",
    "        \n",
    "        truth1.extend([l.item() for l in y1])\n",
    "        truth2.extend([l.item() for l in y2])\n",
    "\n",
    "val_probs_t1 = torch.cat([torch.stack(batch) for batch in class_probs_t1])\n",
    "val_probs_t2 = torch.cat([torch.stack(batch) for batch in class_probs_t2])\n",
    "val_preds_t1 = torch.cat(class_preds_t1)\n",
    "val_preds_t2 = torch.cat(class_preds_t2)"
   ]
  },
  {
   "cell_type": "code",
   "execution_count": 507,
   "id": "e1ffdfd6-dd0c-4051-a388-41ad7abff14c",
   "metadata": {},
   "outputs": [
    {
     "name": "stdout",
     "output_type": "stream",
     "text": [
      "The f1 score of MD12 based on the first task is 0.7418502202643172\n",
      "The accuracy score of MD12 based on the second task is 0.41628365068942874\n"
     ]
    }
   ],
   "source": [
    "#Task 1 and Task 2 performance score for lambda1=0.5 and lambda2=0.5\n",
    "perf_t1_MD12 = f1_score(truth1, val_preds_t1)\n",
    "print(f'The f1 score of MD12 based on the first task is {perf_t1_MD12}')\n",
    "\n",
    "perf_t2_MD12 = accuracy_score(truth2, val_preds_t2)\n",
    "print(f'The accuracy score of MD12 based on the second task is {perf_t2_MD12}')"
   ]
  },
  {
   "cell_type": "code",
   "execution_count": 508,
   "id": "44e5cb80-8a08-4eda-b1f7-2690380bb4ae",
   "metadata": {},
   "outputs": [
    {
     "name": "stdout",
     "output_type": "stream",
     "text": [
      "the confusion matrix of task 1 from MD12 model is:\n"
     ]
    },
    {
     "data": {
      "text/plain": [
       "<sklearn.metrics._plot.confusion_matrix.ConfusionMatrixDisplay at 0x2cc4d9250>"
      ]
     },
     "execution_count": 508,
     "metadata": {},
     "output_type": "execute_result"
    },
    {
     "data": {
      "image/png": "[encoded data removed]",
      "text/plain": [
       "<Figure size 500x500 with 2 Axes>"
      ]
     },
     "metadata": {},
     "output_type": "display_data"
    }
   ],
   "source": [
    "#Confusion Matrix for task 1 for lambda1=0.5 and lambda2=0.5\n",
    "print('the confusion matrix of task 1 from MD12 model is:')\n",
    "fig, _ = plt.subplots(nrows=1, figsize=(5,5))\n",
    "ax = plt.subplot(1, 1, 1)\n",
    "ax.grid(False)\n",
    "\n",
    "disp = ConfusionMatrixDisplay(confusion_matrix(truth1, val_preds_t1, labels=[0,1]), display_labels=[0,1])\n",
    "disp.plot(ax=ax)"
   ]
  },
  {
   "cell_type": "code",
   "execution_count": 509,
   "id": "874fcdba-57e1-420b-b4dd-c926caf7e11e",
   "metadata": {},
   "outputs": [
    {
     "name": "stdout",
     "output_type": "stream",
     "text": [
      "the confusion matrix of task 2 from MD12 model is:\n"
     ]
    },
    {
     "data": {
      "text/plain": [
       "<sklearn.metrics._plot.confusion_matrix.ConfusionMatrixDisplay at 0x2c6602f10>"
      ]
     },
     "execution_count": 509,
     "metadata": {},
     "output_type": "execute_result"
    },
    {
     "data": {
      "image/png": "[encoded data removed]",
      "text/plain": [
       "<Figure size 500x500 with 2 Axes>"
      ]
     },
     "metadata": {},
     "output_type": "display_data"
    }
   ],
   "source": [
    "#Confusion Matrix for task 2 for lambda1=0.5 and lambda2=0.5\n",
    "print('the confusion matrix of task 2 from MD12 model is:')\n",
    "fig, _ = plt.subplots(nrows=1, figsize=(5,5))\n",
    "ax = plt.subplot(1, 1, 1)\n",
    "ax.grid(False)\n",
    "\n",
    "disp = ConfusionMatrixDisplay(confusion_matrix(truth2, val_preds_t2, labels=[0,1,2]), display_labels=[0,1,2])\n",
    "disp.plot(ax=ax)"
   ]
  },
  {
   "cell_type": "markdown",
   "id": "67ba65c7-0380-43a4-9ff0-cc7a8bf6afc8",
   "metadata": {},
   "source": [
    "### 6. Obtain the best values of the hyperparameters to optimise for classification for Task 1."
   ]
  },
  {
   "cell_type": "markdown",
   "id": "653d5c00-53ec-497b-a3e1-814b6312d2ae",
   "metadata": {},
   "source": [
    "To optimise the model based on our primary task 1 performance, the hyperparameters lambda1 and lambda2 are gridsearched(each lambda ranging from 0 to 1) to find the best combination that gives the best performance for task 1 which is our primary task. The results of the hyperparameter tuning exercise is shown below."
   ]
  },
  {
   "cell_type": "code",
   "execution_count": 524,
   "id": "b50ebc62-5918-4837-a0c1-c7b88212457d",
   "metadata": {},
   "outputs": [],
   "source": [
    "## Create a function to train and evaluate the model based on a given \n",
    "## lambda1 and lambda2\n",
    "\n",
    "def train_and_evaluate_model(lambda_1, lambda_2, train_dataloader, val_dataloader):\n",
    "    \n",
    "    torch.manual_seed(rng)\n",
    "    torch.cuda.manual_seed(rng)\n",
    "    torch.cuda.manual_seed_all(rng)\n",
    "    np.random.seed(rng)\n",
    "    random.seed(rng)\n",
    "    torch.backends.cudnn.benchmark = False\n",
    "    torch.backends.cudnn.deterministic = True\n",
    "    \n",
    "    MD_12 = MultiTaskNeuralNetwork(n_classes_task1=2, n_classes_task2=3)\n",
    "\n",
    "    epochs = 20\n",
    "\n",
    "    # Define separate loss functions for each task\n",
    "    criterion_task1 = nn.CrossEntropyLoss()\n",
    "    criterion_task2 = nn.CrossEntropyLoss()\n",
    "\n",
    "    # Define the optimizer\n",
    "    optimizer = torch.optim.Adam(MD_12.parameters(), lr=0.0001)\n",
    "\n",
    "    # Training loop\n",
    "    for epoch in range(epochs):\n",
    "        running_loss = 0.0\n",
    "        for (inputs, labels_task1, labels_task2) in train_dataloader:\n",
    "            # Zero the parameter gradients\n",
    "            optimizer.zero_grad()\n",
    "            \n",
    "            idx1 = labels_task1 != np.nan\n",
    "            idx2 = labels_task2 != np.nan\n",
    "            input1 = inputs[idx1]\n",
    "            input2 = inputs[idx2]\n",
    "\n",
    "            # Forward pass\n",
    "            outputs_task1 = MD_12(input1, task=1)\n",
    "            outputs_task2 = MD_12(input2, task=2)\n",
    "\n",
    "            # Compute the losses for each task\n",
    "            loss_task1 = criterion_task1(outputs_task1, (labels_task1[idx1]).type(torch.LongTensor))\n",
    "            loss_task2 = criterion_task2(outputs_task2, (labels_task2[idx2]).type(torch.LongTensor))\n",
    "\n",
    "            # Combine the losses with the hyperparameters as factors\n",
    "            loss = lambda_1 * loss_task1 + lambda_2 * loss_task2\n",
    "\n",
    "            # Backward pass and optimization\n",
    "            loss.backward()\n",
    "            optimizer.step()\n",
    "\n",
    "            # Accumulate the running loss\n",
    "            running_loss += loss.item()\n",
    "\n",
    "        # # Print the average loss for this epoch\n",
    "        #print(f\"Epoch {epoch + 1}, Loss: {running_loss / len(D12_train_dataloader)}\")\n",
    "\n",
    "    #Evalution of model\n",
    "    torch.manual_seed(rng)\n",
    "    torch.cuda.manual_seed(rng)\n",
    "    torch.cuda.manual_seed_all(rng)\n",
    "    np.random.seed(rng)\n",
    "    random.seed(rng)\n",
    "    torch.backends.cudnn.benchmark = False\n",
    "    torch.backends.cudnn.deterministic = True\n",
    "    truth1 = []\n",
    "    truth2 = []\n",
    "    class_probs_t1 = []\n",
    "    class_probs_t2 = []\n",
    "    class_preds_t1 = []\n",
    "    class_preds_t2 = []\n",
    "    \n",
    "    with torch.no_grad():\n",
    "        for data in val_dataloader:\n",
    "            x, y1, y2 = data\n",
    "            output_t1 = MD_12(x, task = 1)\n",
    "            output_t2 = MD_12(x, task = 2)\n",
    "\n",
    "            class_probs_t1_batch = [nn.Softmax(dim=0)(el) for el in output_t1]\n",
    "            class_probs_t2_batch = [nn.Softmax(dim=0)(el) for el in output_t2]\n",
    "\n",
    "            _, class_preds_t1_batch = torch.max(output_t1, 1)\n",
    "            _, class_preds_t2_batch = torch.max(output_t2, 1)\n",
    "\n",
    "            class_probs_t1.append(class_probs_t1_batch)\n",
    "            class_probs_t2.append(class_probs_t2_batch)\n",
    "\n",
    "            class_preds_t1.append(class_preds_t1_batch)\n",
    "            class_preds_t2.append(class_preds_t2_batch)\n",
    "\n",
    "            truth1.extend([l.item() for l in y1])\n",
    "            truth2.extend([l.item() for l in y2])\n",
    "\n",
    "    val_probs_t1 = torch.cat([torch.stack(batch) for batch in class_probs_t1])\n",
    "    val_probs_t2 = torch.cat([torch.stack(batch) for batch in class_probs_t2])\n",
    "    val_preds_t1 = torch.cat(class_preds_t1)\n",
    "    val_preds_t2 = torch.cat(class_preds_t2)    \n",
    "    \n",
    "    perf_t1_MD12 = f1_score(truth1, val_preds_t1)\n",
    "    perf_t2_MD12 = accuracy_score(truth2, val_preds_t2)    \n",
    "\n",
    "    return perf_t1_MD12, perf_t2_MD12\n"
   ]
  },
  {
   "cell_type": "code",
   "execution_count": 525,
   "id": "a83b2d4e-e805-4fc9-97ed-fb59d3507a9f",
   "metadata": {},
   "outputs": [
    {
     "name": "stdout",
     "output_type": "stream",
     "text": [
      "Lambda_1: 0, Lambda_2: 0, Task 1 Validation f1_score: 0.5863039399624765\n",
      "Lambda_1: 0, Lambda_2: 0.25, Task 1 Validation f1_score: 0.008849557522123894\n",
      "Lambda_1: 0, Lambda_2: 0.5, Task 1 Validation f1_score: 0.0029629629629629632\n",
      "Lambda_1: 0, Lambda_2: 0.75, Task 1 Validation f1_score: 0.0029761904761904765\n",
      "Lambda_1: 0, Lambda_2: 1.0, Task 1 Validation f1_score: 0.0\n",
      "Lambda_1: 0.25, Lambda_2: 0, Task 1 Validation f1_score: 0.7530017152658661\n",
      "Lambda_1: 0.25, Lambda_2: 0.25, Task 1 Validation f1_score: 0.7542147293700089\n",
      "Lambda_1: 0.25, Lambda_2: 0.5, Task 1 Validation f1_score: 0.74447391688771\n",
      "Lambda_1: 0.25, Lambda_2: 0.75, Task 1 Validation f1_score: 0.7405452946350043\n",
      "Lambda_1: 0.25, Lambda_2: 1.0, Task 1 Validation f1_score: 0.7430025445292621\n",
      "Lambda_1: 0.5, Lambda_2: 0, Task 1 Validation f1_score: 0.7564766839378237\n",
      "Lambda_1: 0.5, Lambda_2: 0.25, Task 1 Validation f1_score: 0.74447391688771\n",
      "Lambda_1: 0.5, Lambda_2: 0.5, Task 1 Validation f1_score: 0.7418502202643172\n",
      "Lambda_1: 0.5, Lambda_2: 0.75, Task 1 Validation f1_score: 0.7383512544802867\n",
      "Lambda_1: 0.5, Lambda_2: 1.0, Task 1 Validation f1_score: 0.7407407407407407\n",
      "Lambda_1: 0.75, Lambda_2: 0, Task 1 Validation f1_score: 0.7547826086956523\n",
      "Lambda_1: 0.75, Lambda_2: 0.25, Task 1 Validation f1_score: 0.741125541125541\n",
      "Lambda_1: 0.75, Lambda_2: 0.5, Task 1 Validation f1_score: 0.74447391688771\n",
      "Lambda_1: 0.75, Lambda_2: 0.75, Task 1 Validation f1_score: 0.7359154929577466\n",
      "Lambda_1: 0.75, Lambda_2: 1.0, Task 1 Validation f1_score: 0.7510993843447669\n",
      "Lambda_1: 1.0, Lambda_2: 0, Task 1 Validation f1_score: 0.7534722222222222\n",
      "Lambda_1: 1.0, Lambda_2: 0.25, Task 1 Validation f1_score: 0.7447916666666666\n",
      "Lambda_1: 1.0, Lambda_2: 0.5, Task 1 Validation f1_score: 0.7482394366197183\n",
      "Lambda_1: 1.0, Lambda_2: 0.75, Task 1 Validation f1_score: 0.7411347517730495\n",
      "Lambda_1: 1.0, Lambda_2: 1.0, Task 1 Validation f1_score: 0.7340425531914894\n"
     ]
    }
   ],
   "source": [
    "#do a gridsearch on lambda1 and lambda2 to find best lambdas for task 1 performance\n",
    "lambda_1_list = [0, 0.25, 0.5, 0.75, 1.0] \n",
    "lambda_2_list = [0, 0.25, 0.5, 0.75, 1.0]\n",
    "best_lambda_1 = None\n",
    "best_lambda_2 = None\n",
    "best_t1_val_perf = 0\n",
    "\n",
    "## Run all combinations of lambda1 and lambda2 to find best combination for best \n",
    "## T1 performance\n",
    "for lambda_1 in lambda_1_list:\n",
    "\n",
    "    for lambda_2 in lambda_2_list:\n",
    "        \n",
    "        task1_val_perf, task2_val_perf = train_and_evaluate_model(lambda_1, lambda_2, D12_train_dataloader, D1_hat_val_dataloader)\n",
    "        \n",
    "        print(f\"Lambda_1: {lambda_1}, Lambda_2: {lambda_2}, Task 1 Validation f1_score: {task1_val_perf}\")\n",
    "        \n",
    "        if task1_val_perf > best_t1_val_perf:\n",
    "            best_t1_val_perf = task1_val_perf\n",
    "            best_lambda_1 = lambda_1\n",
    "            best_lambda_2 = lambda_2"
   ]
  },
  {
   "cell_type": "code",
   "execution_count": 550,
   "id": "d864a3bd-e59f-46c3-b27d-a268a0ab8fd8",
   "metadata": {},
   "outputs": [
    {
     "name": "stdout",
     "output_type": "stream",
     "text": [
      "The best lambda_1 value is: 0.5\n",
      "The best lambda_2 value is: 0\n"
     ]
    }
   ],
   "source": [
    "print(f\"The best lambda_1 value is: {best_lambda_1}\")\n",
    "print(f\"The best lambda_2 value is: {best_lambda_2}\")"
   ]
  },
  {
   "cell_type": "markdown",
   "id": "166993e8-f157-4f64-948a-ddcd2f233bc3",
   "metadata": {},
   "source": [
    "#### 7. Train the model on with the best λs obtained in step 6. Evaluate it on D1test for the tasks and report PerfT1(M*D12|D1test) by participating in the challenge. Submit a screenshot of your leaderboard score and position."
   ]
  },
  {
   "cell_type": "markdown",
   "id": "2e5f8c33-755c-4485-b848-1b5eaa0f7fd3",
   "metadata": {},
   "source": [
    "The best lambdas to use for the best performance for task 1 is lambda1 = 0.5 and lambda2 = 0. These hyperparameters are used to re-train the model. The re-trained optimised for task 1 model is then used to predict the labels for the D1 test dataset to be submitted in Kaggle."
   ]
  },
  {
   "cell_type": "code",
   "execution_count": 39,
   "id": "28080b20-c03b-42e7-95a4-e1e1421945d2",
   "metadata": {},
   "outputs": [
    {
     "name": "stdout",
     "output_type": "stream",
     "text": [
      "Epoch 1, Loss: 0.08508400533535011\n",
      "Epoch 2, Loss: 0.061049835463659094\n",
      "Epoch 3, Loss: 0.05886150733408665\n",
      "Epoch 4, Loss: 0.05695856657252564\n",
      "Epoch 5, Loss: 0.05533848590469985\n",
      "Epoch 6, Loss: 0.05416584508238967\n",
      "Epoch 7, Loss: 0.052747852484014625\n",
      "Epoch 8, Loss: 0.051984266274033755\n",
      "Epoch 9, Loss: 0.051056703271509775\n",
      "Epoch 10, Loss: 0.0503111632762515\n",
      "Epoch 11, Loss: 0.04981572580139804\n",
      "Epoch 12, Loss: 0.04833769537126624\n",
      "Epoch 13, Loss: 0.048265669159676054\n",
      "Epoch 14, Loss: 0.04663654399774799\n",
      "Epoch 15, Loss: 0.046400111095962836\n",
      "Epoch 16, Loss: 0.045006322100597324\n",
      "Epoch 17, Loss: 0.043547674485297706\n",
      "Epoch 18, Loss: 0.0428064103038867\n",
      "Epoch 19, Loss: 0.04138571462659738\n",
      "Epoch 20, Loss: 0.0403988613823433\n"
     ]
    }
   ],
   "source": [
    "# Re-train model with lambda_1 = 0.5 and lambda_2 = 0\n",
    "torch.manual_seed(rng)\n",
    "torch.cuda.manual_seed(rng)\n",
    "torch.cuda.manual_seed_all(rng)\n",
    "np.random.seed(rng)\n",
    "random.seed(rng)\n",
    "torch.backends.cudnn.benchmark = False\n",
    "torch.backends.cudnn.deterministic = True\n",
    "\n",
    "lambda_1 = 0.5\n",
    "lambda_2 = 0.0\n",
    "epochs = 20\n",
    "\n",
    "MD_12_test = MultiTaskNeuralNetwork(n_classes_task1=2, n_classes_task2=3)\n",
    "# Define separate loss functions for each task\n",
    "criterion_task1 = nn.CrossEntropyLoss()\n",
    "criterion_task2 = nn.CrossEntropyLoss()\n",
    "\n",
    "# Define the optimizer\n",
    "optimizer = torch.optim.Adam(MD_12_test.parameters(), lr=0.0001)\n",
    "\n",
    "# Training loop\n",
    "for epoch in range(epochs):\n",
    "    running_loss = 0.0\n",
    "    for (inputs, labels_task1, labels_task2) in D12_train_dataloader:\n",
    "        # Zero the parameter gradients\n",
    "        optimizer.zero_grad()\n",
    "\n",
    "        idx1 = labels_task1 != np.nan\n",
    "        idx2 = labels_task2 != np.nan\n",
    "        input1 = inputs[idx1]\n",
    "        input2 = inputs[idx2]        \n",
    "        \n",
    "        # Forward pass\n",
    "        outputs_task1 = MD_12_test(input1, task=1)\n",
    "        outputs_task2 = MD_12_test(input2, task=2)\n",
    "\n",
    "        # Compute the losses for each task\n",
    "        loss_task1 = criterion_task1(outputs_task1, (labels_task1[idx1]).type(torch.LongTensor))\n",
    "        loss_task2 = criterion_task2(outputs_task2, (labels_task2[idx2]).type(torch.LongTensor))\n",
    "\n",
    "        # Combine the losses with the hyperparameters as factors\n",
    "        loss = lambda_1 * loss_task1 + lambda_2 * loss_task2\n",
    "\n",
    "        # Backward pass and optimization\n",
    "        loss.backward()\n",
    "        optimizer.step()\n",
    "\n",
    "        # Accumulate the running loss\n",
    "        running_loss += loss.item()\n",
    "\n",
    "    # Print the average loss for this epoch\n",
    "    print(f\"Epoch {epoch + 1}, Loss: {running_loss / len(D12_train_dataloader)}\")"
   ]
  },
  {
   "cell_type": "code",
   "execution_count": 40,
   "id": "9881eb50-d901-4f79-9ba2-0befde94a7ed",
   "metadata": {},
   "outputs": [],
   "source": [
    "# load D1 test file with ID column and concat with original D1 test df\n",
    "df_d1_test_id = pd.read_csv('test.csv')\n",
    "df_d1_test_id = df_d1_test_id['id']\n",
    "df_d1_test_final = pd.concat([df_d1_test_id, df_d1_test], axis=1)\n",
    "\n",
    "# D1 test dataset in dataset loader\n",
    "test_dataset = TensorDataset(torch.from_numpy(np.vstack(df_d1_test_final['sentence_embeddings'].values)).type(torch.float32))\n",
    "test_dataloader = DataLoader(test_dataset, batch_size=3263)"
   ]
  },
  {
   "cell_type": "code",
   "execution_count": 627,
   "id": "66eedc69-7823-449b-b521-72f51e8e5c2a",
   "metadata": {},
   "outputs": [],
   "source": [
    "# Predict trained model test dataset to be submitted in Kaggle\n",
    "torch.manual_seed(rng)\n",
    "torch.cuda.manual_seed(rng)\n",
    "torch.cuda.manual_seed_all(rng)\n",
    "np.random.seed(rng)\n",
    "random.seed(rng)\n",
    "torch.backends.cudnn.benchmark = False\n",
    "torch.backends.cudnn.deterministic = True\n",
    "\n",
    "\n",
    "class_probs_t1 = []\n",
    "class_preds_t1 = []\n",
    "with torch.no_grad():\n",
    "    for data in test_dataloader:\n",
    "        x = data\n",
    "        output_t1 = MD_12_test(x[0], task = 1)\n",
    "        \n",
    "        class_probs_t1_batch = [nn.Softmax(dim=0)(el) for el in output_t1]\n",
    "        \n",
    "        _, class_preds_t1_batch = torch.max(output_t1, 1)\n",
    "\n",
    "        class_probs_t1.append(class_probs_t1_batch)\n",
    "        \n",
    "        class_preds_t1.append(class_preds_t1_batch)\n",
    "        \n",
    "\n",
    "#predictions of D1 test data\n",
    "val_probs_t1 = torch.cat([torch.stack(batch) for batch in class_probs_t1])\n",
    "val_preds_t1 = torch.cat(class_preds_t1).numpy()\n",
    "\n",
    "#write prediction of test data to output for submission to kaggle\n",
    "df_d1_MD12_test_preds = df_d1_test_final\n",
    "df_d1_MD12_test_preds['target'] = val_preds_t1.tolist()\n",
    "df_d1_MD12_test_preds = df_d1_MD12_test_preds.drop(['text', 'sentence_embeddings'], axis=1)\n",
    "df_d1_MD12_test_preds.to_csv('test_hard_parameter.csv', index=False)"
   ]
  },
  {
   "cell_type": "markdown",
   "id": "045959ef",
   "metadata": {},
   "source": [
    "### The model resulted in Score of 80.14% in Kaggle.(Please refer screenshot in the zip file)"
   ]
  },
  {
   "cell_type": "markdown",
   "id": "bf80d06d-2d70-4416-ae37-db17d4f47f46",
   "metadata": {},
   "source": [
    "#### 8. In step 7, you performed multi-task learning, where data for the second taskis externally sourced. Is the best value of hyper-parameter λ2 from step 6 zero or positive, i.e., is λ2 = 0 or λ2 > 0 ? What does the value of λ2 convey? Does the externally sourced sentiment data improve the model accuracy for our primary task of disaster classification?"
   ]
  },
  {
   "cell_type": "markdown",
   "id": "3536591b-14c9-4601-b2bf-0782e82ec7ce",
   "metadata": {},
   "source": [
    "As shown in the results above, the best results for predicting task 1 is when lambda2 is zero. This means that when lambda2 is zero, the model is more focused on training for the task 1 as it only updates the weights based on the gradient of the loss function of task 1 during backpropagation. The value of lambda2 conveys the importance we want to give to task 2 prediction when training the model.\n",
    "\n",
    "However, we would expect the model to give the same results as MD1 model in section 1 as lambda2 is zero(loss function for task2 is always zero) and that would mean the backpropagation to update the weights would only be done using loss fuction for task 1. But we are getting better slightly better results with MD12 model compared to MD1 model. This is probably due to using a larger dataset (combine D1 and D2). While training backpropagation per batch, a combination of D1 and D2 data is passed for loss calculation compared to just D1 data alone in MD1 model. Therefore, the backpropagation and loss calculation is different in MD12 model compared to MD1 model even though the loss function is calculated only using D1 dataset for both (lambda2 is zero). \n",
    "\n",
    "Therefore, using the externally sourced sentiment data does improve the overall accuracy of task 1 using the MTL model MD12 compared to only training the model based on D1 train dataset as shown in section 1 as it improves generalizability of the predictions by preventing overfitting to D1 dataset alone."
   ]
  },
  {
   "cell_type": "markdown",
   "id": "9189f66c-8f89-4efe-af79-68f2cc66dbfb",
   "metadata": {},
   "source": [
    "#### 9. For multi-task learning why is the augmented dataset D1_hat used only for testing but not for training?"
   ]
  },
  {
   "cell_type": "markdown",
   "id": "79f0a56d-6cb5-440c-929e-0c356943e43b",
   "metadata": {},
   "source": [
    "The augmented dataset is used only for testing and not for training due to the fact that the labels used for sentiments in the augmented dataset are not true labels and are predicted from the model trained using the D2 dataset. As the prediction accuracy is low for the model trained using the D2 dataset as shown in Section 2, the labels will not be suitable for training them as true labels in the MTL model. Since we are testing for our primary task, the augmented dataset can be used for testing as the labels for task 1 are true labels in the augmented dataset."
   ]
  },
  {
   "cell_type": "markdown",
   "id": "c56f23dd",
   "metadata": {},
   "source": [
    "# Part IV: Random Forest"
   ]
  },
  {
   "cell_type": "markdown",
   "id": "8bf123b4",
   "metadata": {},
   "source": [
    "#### 1. How can the MTL strategy of loss combination in question 5 (part III) be used with a Random Forest? Explain.\n",
    "\n",
    "Random Forests are a type of decision tree-based ensemble model that doesn't use a loss function during training. Instead, the Random Forest algorithm trains decision trees on random subsets of the input data and features, and combines the results to make predictions.One way to do this is to modify the splitting criterion of the decision trees to take into account the multi-task objective\n",
    "\n",
    "The Information Gain and Gain Ratio criteria of each split Si is calculated by combine the main classification\n",
    "task and the second task, showing below.\n",
    "\n",
    "MTIG(Si) = MainTaskIG(Si) + weight ∗ SecondTaskIG(Si) \n",
    "\n",
    "In this equation, MainTaskIG(Si) is the information gain of the main task, which is the task that is being optimized in the decision tree split. SecondTaskIG(Si) is the information gain of the extra task, which is a related task that is being considered along with the main task.\n",
    "\n",
    "The weight parameter in the equation is a tuning parameter that determines the relative importance of the main task and the Second task in the decision-making process."
   ]
  },
  {
   "cell_type": "markdown",
   "id": "b5841320",
   "metadata": {},
   "source": [
    "#### 2.  Try the following approach: Use the augmented dataset obtained in question 3 (part III) to train a Random Forest for prediction of label 1, use the predicted sentiment labels for weighting the samples while fitting the Random Forest.Evaluate the model on D1_hat_val and report the performance and print confusion matrix\n",
    "\n",
    "Here we have trained a random forest model using the augmented dataset.We have randomly selected below lambda values(equal sample weights).\n",
    "\n",
    "lambda_p = 0.5\n",
    "lambda_n = 0.5\n",
    "lambda_0 = 0.5"
   ]
  },
  {
   "cell_type": "code",
   "execution_count": 54,
   "id": "793a2542",
   "metadata": {},
   "outputs": [
    {
     "data": {
      "text/html": [
       "<style>#sk-container-id-4 {color: black;background-color: white;}#sk-container-id-4 pre{padding: 0;}#sk-container-id-4 div.sk-toggleable {background-color: white;}#sk-container-id-4 label.sk-toggleable__label {cursor: pointer;display: block;width: 100%;margin-bottom: 0;padding: 0.3em;box-sizing: border-box;text-align: center;}#sk-container-id-4 label.sk-toggleable__label-arrow:before {content: \"▸\";float: left;margin-right: 0.25em;color: #696969;}#sk-container-id-4 label.sk-toggleable__label-arrow:hover:before {color: black;}#sk-container-id-4 div.sk-estimator:hover label.sk-toggleable__label-arrow:before {color: black;}#sk-container-id-4 div.sk-toggleable__content {max-height: 0;max-width: 0;overflow: hidden;text-align: left;background-color: #f0f8ff;}#sk-container-id-4 div.sk-toggleable__content pre {margin: 0.2em;color: black;border-radius: 0.25em;background-color: #f0f8ff;}#sk-container-id-4 input.sk-toggleable__control:checked~div.sk-toggleable__content {max-height: 200px;max-width: 100%;overflow: auto;}#sk-container-id-4 input.sk-toggleable__control:checked~label.sk-toggleable__label-arrow:before {content: \"▾\";}#sk-container-id-4 div.sk-estimator input.sk-toggleable__control:checked~label.sk-toggleable__label {background-color: #d4ebff;}#sk-container-id-4 div.sk-label input.sk-toggleable__control:checked~label.sk-toggleable__label {background-color: #d4ebff;}#sk-container-id-4 input.sk-hidden--visually {border: 0;clip: rect(1px 1px 1px 1px);clip: rect(1px, 1px, 1px, 1px);height: 1px;margin: -1px;overflow: hidden;padding: 0;position: absolute;width: 1px;}#sk-container-id-4 div.sk-estimator {font-family: monospace;background-color: #f0f8ff;border: 1px dotted black;border-radius: 0.25em;box-sizing: border-box;margin-bottom: 0.5em;}#sk-container-id-4 div.sk-estimator:hover {background-color: #d4ebff;}#sk-container-id-4 div.sk-parallel-item::after {content: \"\";width: 100%;border-bottom: 1px solid gray;flex-grow: 1;}#sk-container-id-4 div.sk-label:hover label.sk-toggleable__label {background-color: #d4ebff;}#sk-container-id-4 div.sk-serial::before {content: \"\";position: absolute;border-left: 1px solid gray;box-sizing: border-box;top: 0;bottom: 0;left: 50%;z-index: 0;}#sk-container-id-4 div.sk-serial {display: flex;flex-direction: column;align-items: center;background-color: white;padding-right: 0.2em;padding-left: 0.2em;position: relative;}#sk-container-id-4 div.sk-item {position: relative;z-index: 1;}#sk-container-id-4 div.sk-parallel {display: flex;align-items: stretch;justify-content: center;background-color: white;position: relative;}#sk-container-id-4 div.sk-item::before, #sk-container-id-4 div.sk-parallel-item::before {content: \"\";position: absolute;border-left: 1px solid gray;box-sizing: border-box;top: 0;bottom: 0;left: 50%;z-index: -1;}#sk-container-id-4 div.sk-parallel-item {display: flex;flex-direction: column;z-index: 1;position: relative;background-color: white;}#sk-container-id-4 div.sk-parallel-item:first-child::after {align-self: flex-end;width: 50%;}#sk-container-id-4 div.sk-parallel-item:last-child::after {align-self: flex-start;width: 50%;}#sk-container-id-4 div.sk-parallel-item:only-child::after {width: 0;}#sk-container-id-4 div.sk-dashed-wrapped {border: 1px dashed gray;margin: 0 0.4em 0.5em 0.4em;box-sizing: border-box;padding-bottom: 0.4em;background-color: white;}#sk-container-id-4 div.sk-label label {font-family: monospace;font-weight: bold;display: inline-block;line-height: 1.2em;}#sk-container-id-4 div.sk-label-container {text-align: center;}#sk-container-id-4 div.sk-container {/* jupyter's `normalize.less` sets `[hidden] { display: none; }` but bootstrap.min.css set `[hidden] { display: none !important; }` so we also need the `!important` here to be able to override the default hidden behavior on the sphinx rendered scikit-learn.org. See: https://github.com/scikit-learn/scikit-learn/issues/21755 */display: inline-block !important;position: relative;}#sk-container-id-4 div.sk-text-repr-fallback {display: none;}</style><div id=\"sk-container-id-4\" class=\"sk-top-container\"><div class=\"sk-text-repr-fallback\"><pre>RandomForestClassifier(criterion=&#x27;entropy&#x27;, random_state=0)</pre><b>In a Jupyter environment, please rerun this cell to show the HTML representation or trust the notebook. <br />On GitHub, the HTML representation is unable to render, please try loading this page with nbviewer.org.</b></div><div class=\"sk-container\" hidden><div class=\"sk-item\"><div class=\"sk-estimator sk-toggleable\"><input class=\"sk-toggleable__control sk-hidden--visually\" id=\"sk-estimator-id-4\" type=\"checkbox\" checked><label for=\"sk-estimator-id-4\" class=\"sk-toggleable__label sk-toggleable__label-arrow\">RandomForestClassifier</label><div class=\"sk-toggleable__content\"><pre>RandomForestClassifier(criterion=&#x27;entropy&#x27;, random_state=0)</pre></div></div></div></div></div>"
      ],
      "text/plain": [
       "RandomForestClassifier(criterion='entropy', random_state=0)"
      ]
     },
     "execution_count": 54,
     "metadata": {},
     "output_type": "execute_result"
    }
   ],
   "source": [
    "from sklearn.ensemble import RandomForestClassifier\n",
    "\n",
    "#Extracting the sentence embedding from train data\n",
    "X_train = np.vstack(D1_hat_train['sentence_embeddings'].values)\n",
    "y_train = D1_hat_train['target']\n",
    "train_label_2 = D1_hat_train['sentiment_label']\n",
    "\n",
    "#Extracting the sentence embedding from validation data\n",
    "X_val = np.vstack(D1_hat_val['sentence_embeddings'].values)\n",
    "y_val = D1_hat_val['target']\n",
    "\n",
    "\n",
    "#Sentiment Label Weights chosen randomly: \n",
    "lambda_p = 0.5\n",
    "lambda_n = 0.5\n",
    "lambda_0 = 0.5\n",
    "\n",
    "#Assignng weights to the samples\n",
    "sample_weights_label2 = np.where(train_label_2 == 2, lambda_p,\n",
    "                          np.where(train_label_2 == 0, lambda_n,\n",
    "                          lambda_0))\n",
    "\n",
    "# create a Random Forest model with sample weights\n",
    "model = RandomForestClassifier(n_estimators=100, criterion='entropy', random_state = 0)\n",
    "\n",
    "# fit the model using sample weights\n",
    "model.fit(X_train, y_train, sample_weight = sample_weights_label2)\n",
    "\n",
    "\n",
    "\n"
   ]
  },
  {
   "cell_type": "code",
   "execution_count": 55,
   "id": "32541841",
   "metadata": {},
   "outputs": [],
   "source": [
    "#Running predictions on validation dataset\n",
    "y_val_pred = model.predict(X_val)"
   ]
  },
  {
   "cell_type": "code",
   "execution_count": 56,
   "id": "614894b2",
   "metadata": {},
   "outputs": [
    {
     "name": "stdout",
     "output_type": "stream",
     "text": [
      "The f1 score of Random Forest based on the first task is 0.7335640138408305\n"
     ]
    }
   ],
   "source": [
    "perf_t1_RF = f1_score(y_val, y_val_pred)\n",
    "print(f'The f1 score of Random Forest based on the first task is {perf_t1_RF}')"
   ]
  },
  {
   "cell_type": "code",
   "execution_count": 46,
   "id": "c51e14de",
   "metadata": {},
   "outputs": [
    {
     "name": "stdout",
     "output_type": "stream",
     "text": [
      "the confusion matrix Random Forest based on the first task is:\n"
     ]
    },
    {
     "data": {
      "text/plain": [
       "<sklearn.metrics._plot.confusion_matrix.ConfusionMatrixDisplay at 0x23843ec7550>"
      ]
     },
     "execution_count": 46,
     "metadata": {},
     "output_type": "execute_result"
    },
    {
     "data": {
      "image/png": "[encoded data removed]",
      "text/plain": [
       "<Figure size 500x500 with 2 Axes>"
      ]
     },
     "metadata": {},
     "output_type": "display_data"
    }
   ],
   "source": [
    "print('the confusion matrix Random Forest based on the first task is:')\n",
    "fig, _ = plt.subplots(nrows=1, figsize=(5,5))\n",
    "ax = plt.subplot(1, 1, 1)\n",
    "ax.grid(False)\n",
    "\n",
    "disp = ConfusionMatrixDisplay(confusion_matrix(y_val, y_val_pred, labels=[0,1]), display_labels=[0,1])\n",
    "disp.plot(ax=ax)"
   ]
  },
  {
   "cell_type": "markdown",
   "id": "38519211",
   "metadata": {},
   "source": [
    "### 3. Use any hyper parameter tuning method to find the best values lambdas to maximize PerfT1(M ̂ D train1| ̂ D val1 ). Is the optimal value result in  lambda_p = lambda_n = lambda_0? If not what is the ordering of the lambdas , and what can we infer from this ordering?"
   ]
  },
  {
   "cell_type": "code",
   "execution_count": 57,
   "id": "8806f4fa",
   "metadata": {},
   "outputs": [
    {
     "name": "stdout",
     "output_type": "stream",
     "text": [
      "lambda_p_list  [0.2 0.4 0.6 0.8 1. ]\n",
      "lambda_n_list  [0.2 0.4 0.6 0.8 1. ]\n",
      "lambda_0_list  [0.2 0.4 0.6 0.8 1. ]\n"
     ]
    }
   ],
   "source": [
    "#List of lamdas generated to try different combinations as part of hyperparameter tuning between 0.2 to 1\n",
    "\n",
    "lambda_p_list = np.arange(0.2, 1.1, 0.2)\n",
    "print(\"lambda_p_list \",lambda_p_list)\n",
    "lambda_n_list = np.arange(0.2, 1.1, 0.2)\n",
    "print(\"lambda_n_list \",lambda_n_list)\n",
    "lambda_0_list = np.arange(0.2, 1.1, 0.2)\n",
    "print(\"lambda_0_list \",lambda_0_list)"
   ]
  },
  {
   "cell_type": "code",
   "execution_count": 58,
   "id": "98036900",
   "metadata": {},
   "outputs": [
    {
     "name": "stdout",
     "output_type": "stream",
     "text": [
      "Lambda_p: 0.2, Lambda_n: 0.2, Lambda_0: 0.2, Task 1 Validation f1_score: 0.7372072853425845\n",
      "Lambda_p: 0.2, Lambda_n: 0.2, Lambda_0: 0.4, Task 1 Validation f1_score: 0.7334494773519163\n",
      "Lambda_p: 0.2, Lambda_n: 0.2, Lambda_0: 0.6000000000000001, Task 1 Validation f1_score: 0.7352941176470588\n",
      "Lambda_p: 0.2, Lambda_n: 0.2, Lambda_0: 0.8, Task 1 Validation f1_score: 0.7334494773519163\n",
      "Lambda_p: 0.2, Lambda_n: 0.2, Lambda_0: 1.0, Task 1 Validation f1_score: 0.7236268526591109\n",
      "Lambda_p: 0.2, Lambda_n: 0.4, Lambda_0: 0.2, Task 1 Validation f1_score: 0.7272727272727272\n",
      "Lambda_p: 0.2, Lambda_n: 0.4, Lambda_0: 0.4, Task 1 Validation f1_score: 0.7396551724137931\n",
      "Lambda_p: 0.2, Lambda_n: 0.4, Lambda_0: 0.6000000000000001, Task 1 Validation f1_score: 0.7234416154521511\n",
      "Lambda_p: 0.2, Lambda_n: 0.4, Lambda_0: 0.8, Task 1 Validation f1_score: 0.7226596675415574\n",
      "Lambda_p: 0.2, Lambda_n: 0.4, Lambda_0: 1.0, Task 1 Validation f1_score: 0.7275892080069625\n",
      "Lambda_p: 0.2, Lambda_n: 0.6000000000000001, Lambda_0: 0.2, Task 1 Validation f1_score: 0.7383015597920277\n",
      "Lambda_p: 0.2, Lambda_n: 0.6000000000000001, Lambda_0: 0.4, Task 1 Validation f1_score: 0.7225130890052356\n",
      "Lambda_p: 0.2, Lambda_n: 0.6000000000000001, Lambda_0: 0.6000000000000001, Task 1 Validation f1_score: 0.7263157894736841\n",
      "Lambda_p: 0.2, Lambda_n: 0.6000000000000001, Lambda_0: 0.8, Task 1 Validation f1_score: 0.7333333333333333\n",
      "Lambda_p: 0.2, Lambda_n: 0.6000000000000001, Lambda_0: 1.0, Task 1 Validation f1_score: 0.7362924281984334\n",
      "Lambda_p: 0.2, Lambda_n: 0.8, Lambda_0: 0.2, Task 1 Validation f1_score: 0.7234416154521511\n",
      "Lambda_p: 0.2, Lambda_n: 0.8, Lambda_0: 0.4, Task 1 Validation f1_score: 0.735930735930736\n",
      "Lambda_p: 0.2, Lambda_n: 0.8, Lambda_0: 0.6000000000000001, Task 1 Validation f1_score: 0.7326906222611743\n",
      "Lambda_p: 0.2, Lambda_n: 0.8, Lambda_0: 0.8, Task 1 Validation f1_score: 0.7275892080069625\n",
      "Lambda_p: 0.2, Lambda_n: 0.8, Lambda_0: 1.0, Task 1 Validation f1_score: 0.7362924281984334\n",
      "Lambda_p: 0.2, Lambda_n: 1.0, Lambda_0: 0.2, Task 1 Validation f1_score: 0.7211961301671065\n",
      "Lambda_p: 0.2, Lambda_n: 1.0, Lambda_0: 0.4, Task 1 Validation f1_score: 0.7261592300962381\n",
      "Lambda_p: 0.2, Lambda_n: 1.0, Lambda_0: 0.6000000000000001, Task 1 Validation f1_score: 0.7309377738825591\n",
      "Lambda_p: 0.2, Lambda_n: 1.0, Lambda_0: 0.8, Task 1 Validation f1_score: 0.7290209790209791\n",
      "Lambda_p: 0.2, Lambda_n: 1.0, Lambda_0: 1.0, Task 1 Validation f1_score: 0.7312390924956369\n",
      "Lambda_p: 0.4, Lambda_n: 0.2, Lambda_0: 0.2, Task 1 Validation f1_score: 0.7320034692107545\n",
      "Lambda_p: 0.4, Lambda_n: 0.2, Lambda_0: 0.4, Task 1 Validation f1_score: 0.7234782608695651\n",
      "Lambda_p: 0.4, Lambda_n: 0.2, Lambda_0: 0.6000000000000001, Task 1 Validation f1_score: 0.7312013828867762\n",
      "Lambda_p: 0.4, Lambda_n: 0.2, Lambda_0: 0.8, Task 1 Validation f1_score: 0.7263249348392702\n",
      "Lambda_p: 0.4, Lambda_n: 0.2, Lambda_0: 1.0, Task 1 Validation f1_score: 0.7301310043668122\n",
      "Lambda_p: 0.4, Lambda_n: 0.4, Lambda_0: 0.2, Task 1 Validation f1_score: 0.735191637630662\n",
      "Lambda_p: 0.4, Lambda_n: 0.4, Lambda_0: 0.4, Task 1 Validation f1_score: 0.7372072853425845\n",
      "Lambda_p: 0.4, Lambda_n: 0.4, Lambda_0: 0.6000000000000001, Task 1 Validation f1_score: 0.7312013828867762\n",
      "Lambda_p: 0.4, Lambda_n: 0.4, Lambda_0: 0.8, Task 1 Validation f1_score: 0.7334494773519163\n",
      "Lambda_p: 0.4, Lambda_n: 0.4, Lambda_0: 1.0, Task 1 Validation f1_score: 0.7248908296943232\n",
      "Lambda_p: 0.4, Lambda_n: 0.6000000000000001, Lambda_0: 0.2, Task 1 Validation f1_score: 0.7271142109851787\n",
      "Lambda_p: 0.4, Lambda_n: 0.6000000000000001, Lambda_0: 0.4, Task 1 Validation f1_score: 0.7351164797238999\n",
      "Lambda_p: 0.4, Lambda_n: 0.6000000000000001, Lambda_0: 0.6000000000000001, Task 1 Validation f1_score: 0.7335640138408305\n",
      "Lambda_p: 0.4, Lambda_n: 0.6000000000000001, Lambda_0: 0.8, Task 1 Validation f1_score: 0.7275922671353251\n",
      "Lambda_p: 0.4, Lambda_n: 0.6000000000000001, Lambda_0: 1.0, Task 1 Validation f1_score: 0.7272727272727272\n",
      "Lambda_p: 0.4, Lambda_n: 0.8, Lambda_0: 0.2, Task 1 Validation f1_score: 0.7290209790209791\n",
      "Lambda_p: 0.4, Lambda_n: 0.8, Lambda_0: 0.4, Task 1 Validation f1_score: 0.7272727272727272\n",
      "Lambda_p: 0.4, Lambda_n: 0.8, Lambda_0: 0.6000000000000001, Task 1 Validation f1_score: 0.7336244541484715\n",
      "Lambda_p: 0.4, Lambda_n: 0.8, Lambda_0: 0.8, Task 1 Validation f1_score: 0.7396551724137931\n",
      "Lambda_p: 0.4, Lambda_n: 0.8, Lambda_0: 1.0, Task 1 Validation f1_score: 0.7260034904013961\n",
      "Lambda_p: 0.4, Lambda_n: 1.0, Lambda_0: 0.2, Task 1 Validation f1_score: 0.7328646748681897\n",
      "Lambda_p: 0.4, Lambda_n: 1.0, Lambda_0: 0.4, Task 1 Validation f1_score: 0.7283842794759826\n",
      "Lambda_p: 0.4, Lambda_n: 1.0, Lambda_0: 0.6000000000000001, Task 1 Validation f1_score: 0.7283842794759826\n",
      "Lambda_p: 0.4, Lambda_n: 1.0, Lambda_0: 0.8, Task 1 Validation f1_score: 0.7304347826086957\n",
      "Lambda_p: 0.4, Lambda_n: 1.0, Lambda_0: 1.0, Task 1 Validation f1_score: 0.7393199651264167\n",
      "Lambda_p: 0.6000000000000001, Lambda_n: 0.2, Lambda_0: 0.2, Task 1 Validation f1_score: 0.7321739130434782\n",
      "Lambda_p: 0.6000000000000001, Lambda_n: 0.2, Lambda_0: 0.4, Task 1 Validation f1_score: 0.7227036395147313\n",
      "Lambda_p: 0.6000000000000001, Lambda_n: 0.2, Lambda_0: 0.6000000000000001, Task 1 Validation f1_score: 0.7305699481865285\n",
      "Lambda_p: 0.6000000000000001, Lambda_n: 0.2, Lambda_0: 0.8, Task 1 Validation f1_score: 0.7248908296943232\n",
      "Lambda_p: 0.6000000000000001, Lambda_n: 0.2, Lambda_0: 1.0, Task 1 Validation f1_score: 0.7264808362369338\n",
      "Lambda_p: 0.6000000000000001, Lambda_n: 0.4, Lambda_0: 0.2, Task 1 Validation f1_score: 0.731537793223284\n",
      "Lambda_p: 0.6000000000000001, Lambda_n: 0.4, Lambda_0: 0.4, Task 1 Validation f1_score: 0.7320034692107545\n",
      "Lambda_p: 0.6000000000000001, Lambda_n: 0.4, Lambda_0: 0.6000000000000001, Task 1 Validation f1_score: 0.7361111111111112\n",
      "Lambda_p: 0.6000000000000001, Lambda_n: 0.4, Lambda_0: 0.8, Task 1 Validation f1_score: 0.7323452484742806\n",
      "Lambda_p: 0.6000000000000001, Lambda_n: 0.4, Lambda_0: 1.0, Task 1 Validation f1_score: 0.731408573928259\n",
      "Lambda_p: 0.6000000000000001, Lambda_n: 0.6000000000000001, Lambda_0: 0.2, Task 1 Validation f1_score: 0.736196319018405\n",
      "Lambda_p: 0.6000000000000001, Lambda_n: 0.6000000000000001, Lambda_0: 0.4, Task 1 Validation f1_score: 0.7264808362369338\n",
      "Lambda_p: 0.6000000000000001, Lambda_n: 0.6000000000000001, Lambda_0: 0.6000000000000001, Task 1 Validation f1_score: 0.7329299913569576\n",
      "Lambda_p: 0.6000000000000001, Lambda_n: 0.6000000000000001, Lambda_0: 0.8, Task 1 Validation f1_score: 0.7218831734960767\n",
      "Lambda_p: 0.6000000000000001, Lambda_n: 0.6000000000000001, Lambda_0: 1.0, Task 1 Validation f1_score: 0.735930735930736\n",
      "Lambda_p: 0.6000000000000001, Lambda_n: 0.8, Lambda_0: 0.2, Task 1 Validation f1_score: 0.723292469352014\n",
      "Lambda_p: 0.6000000000000001, Lambda_n: 0.8, Lambda_0: 0.4, Task 1 Validation f1_score: 0.731665228645384\n",
      "Lambda_p: 0.6000000000000001, Lambda_n: 0.8, Lambda_0: 0.6000000000000001, Task 1 Validation f1_score: 0.7280625543006081\n",
      "Lambda_p: 0.6000000000000001, Lambda_n: 0.8, Lambda_0: 0.8, Task 1 Validation f1_score: 0.7335640138408305\n",
      "Lambda_p: 0.6000000000000001, Lambda_n: 0.8, Lambda_0: 1.0, Task 1 Validation f1_score: 0.7310704960835509\n",
      "Lambda_p: 0.6000000000000001, Lambda_n: 1.0, Lambda_0: 0.2, Task 1 Validation f1_score: 0.7275922671353251\n",
      "Lambda_p: 0.6000000000000001, Lambda_n: 1.0, Lambda_0: 0.4, Task 1 Validation f1_score: 0.733800350262697\n",
      "Lambda_p: 0.6000000000000001, Lambda_n: 1.0, Lambda_0: 0.6000000000000001, Task 1 Validation f1_score: 0.7342657342657342\n",
      "Lambda_p: 0.6000000000000001, Lambda_n: 1.0, Lambda_0: 0.8, Task 1 Validation f1_score: 0.7304347826086957\n",
      "Lambda_p: 0.6000000000000001, Lambda_n: 1.0, Lambda_0: 1.0, Task 1 Validation f1_score: 0.7288578901482127\n",
      "Lambda_p: 0.8, Lambda_n: 0.2, Lambda_0: 0.2, Task 1 Validation f1_score: 0.7340241796200345\n",
      "Lambda_p: 0.8, Lambda_n: 0.2, Lambda_0: 0.4, Task 1 Validation f1_score: 0.7297762478485369\n",
      "Lambda_p: 0.8, Lambda_n: 0.2, Lambda_0: 0.6000000000000001, Task 1 Validation f1_score: 0.7180385288966725\n",
      "Lambda_p: 0.8, Lambda_n: 0.2, Lambda_0: 0.8, Task 1 Validation f1_score: 0.7340241796200345\n",
      "Lambda_p: 0.8, Lambda_n: 0.2, Lambda_0: 1.0, Task 1 Validation f1_score: 0.7271142109851787\n",
      "Lambda_p: 0.8, Lambda_n: 0.4, Lambda_0: 0.2, Task 1 Validation f1_score: 0.7310704960835509\n",
      "Lambda_p: 0.8, Lambda_n: 0.4, Lambda_0: 0.4, Task 1 Validation f1_score: 0.7320034692107545\n",
      "Lambda_p: 0.8, Lambda_n: 0.4, Lambda_0: 0.6000000000000001, Task 1 Validation f1_score: 0.7376623376623377\n",
      "Lambda_p: 0.8, Lambda_n: 0.4, Lambda_0: 0.8, Task 1 Validation f1_score: 0.7234782608695651\n",
      "Lambda_p: 0.8, Lambda_n: 0.4, Lambda_0: 1.0, Task 1 Validation f1_score: 0.7294938917975567\n",
      "Lambda_p: 0.8, Lambda_n: 0.6000000000000001, Lambda_0: 0.2, Task 1 Validation f1_score: 0.7253705318221446\n",
      "Lambda_p: 0.8, Lambda_n: 0.6000000000000001, Lambda_0: 0.4, Task 1 Validation f1_score: 0.7269534679543459\n",
      "Lambda_p: 0.8, Lambda_n: 0.6000000000000001, Lambda_0: 0.6000000000000001, Task 1 Validation f1_score: 0.7339130434782609\n",
      "Lambda_p: 0.8, Lambda_n: 0.6000000000000001, Lambda_0: 0.8, Task 1 Validation f1_score: 0.7225130890052356\n",
      "Lambda_p: 0.8, Lambda_n: 0.6000000000000001, Lambda_0: 1.0, Task 1 Validation f1_score: 0.7261698440207972\n",
      "Lambda_p: 0.8, Lambda_n: 0.8, Lambda_0: 0.2, Task 1 Validation f1_score: 0.7261592300962381\n",
      "Lambda_p: 0.8, Lambda_n: 0.8, Lambda_0: 0.4, Task 1 Validation f1_score: 0.735191637630662\n",
      "Lambda_p: 0.8, Lambda_n: 0.8, Lambda_0: 0.6000000000000001, Task 1 Validation f1_score: 0.7365684575389948\n",
      "Lambda_p: 0.8, Lambda_n: 0.8, Lambda_0: 0.8, Task 1 Validation f1_score: 0.7372072853425845\n",
      "Lambda_p: 0.8, Lambda_n: 0.8, Lambda_0: 1.0, Task 1 Validation f1_score: 0.7282229965156795\n",
      "Lambda_p: 0.8, Lambda_n: 1.0, Lambda_0: 0.2, Task 1 Validation f1_score: 0.7296587926509186\n",
      "Lambda_p: 0.8, Lambda_n: 1.0, Lambda_0: 0.4, Task 1 Validation f1_score: 0.7329842931937173\n",
      "Lambda_p: 0.8, Lambda_n: 1.0, Lambda_0: 0.6000000000000001, Task 1 Validation f1_score: 0.7445887445887446\n",
      "Lambda_p: 0.8, Lambda_n: 1.0, Lambda_0: 0.8, Task 1 Validation f1_score: 0.7288578901482127\n",
      "Lambda_p: 0.8, Lambda_n: 1.0, Lambda_0: 1.0, Task 1 Validation f1_score: 0.734835355285962\n",
      "Lambda_p: 1.0, Lambda_n: 0.2, Lambda_0: 0.2, Task 1 Validation f1_score: 0.7253705318221446\n",
      "Lambda_p: 1.0, Lambda_n: 0.2, Lambda_0: 0.4, Task 1 Validation f1_score: 0.7288578901482127\n",
      "Lambda_p: 1.0, Lambda_n: 0.2, Lambda_0: 0.6000000000000001, Task 1 Validation f1_score: 0.7307359307359307\n",
      "Lambda_p: 1.0, Lambda_n: 0.2, Lambda_0: 0.8, Task 1 Validation f1_score: 0.7294727744165947\n",
      "Lambda_p: 1.0, Lambda_n: 0.2, Lambda_0: 1.0, Task 1 Validation f1_score: 0.7266375545851528\n",
      "Lambda_p: 1.0, Lambda_n: 0.4, Lambda_0: 0.2, Task 1 Validation f1_score: 0.7288428324697755\n",
      "Lambda_p: 1.0, Lambda_n: 0.4, Lambda_0: 0.4, Task 1 Validation f1_score: 0.7307692307692308\n",
      "Lambda_p: 1.0, Lambda_n: 0.4, Lambda_0: 0.6000000000000001, Task 1 Validation f1_score: 0.7271142109851787\n",
      "Lambda_p: 1.0, Lambda_n: 0.4, Lambda_0: 0.8, Task 1 Validation f1_score: 0.7183958151700087\n",
      "Lambda_p: 1.0, Lambda_n: 0.4, Lambda_0: 1.0, Task 1 Validation f1_score: 0.720626631853786\n",
      "Lambda_p: 1.0, Lambda_n: 0.6000000000000001, Lambda_0: 0.2, Task 1 Validation f1_score: 0.7340889276373147\n",
      "Lambda_p: 1.0, Lambda_n: 0.6000000000000001, Lambda_0: 0.4, Task 1 Validation f1_score: 0.7298245614035088\n",
      "Lambda_p: 1.0, Lambda_n: 0.6000000000000001, Lambda_0: 0.6000000000000001, Task 1 Validation f1_score: 0.7376623376623377\n",
      "Lambda_p: 1.0, Lambda_n: 0.6000000000000001, Lambda_0: 0.8, Task 1 Validation f1_score: 0.7291849255039438\n",
      "Lambda_p: 1.0, Lambda_n: 0.6000000000000001, Lambda_0: 1.0, Task 1 Validation f1_score: 0.7310704960835509\n",
      "Lambda_p: 1.0, Lambda_n: 0.8, Lambda_0: 0.2, Task 1 Validation f1_score: 0.732638888888889\n",
      "Lambda_p: 1.0, Lambda_n: 0.8, Lambda_0: 0.4, Task 1 Validation f1_score: 0.7237762237762237\n",
      "Lambda_p: 1.0, Lambda_n: 0.8, Lambda_0: 0.6000000000000001, Task 1 Validation f1_score: 0.7349397590361445\n",
      "Lambda_p: 1.0, Lambda_n: 0.8, Lambda_0: 0.8, Task 1 Validation f1_score: 0.7324675324675324\n",
      "Lambda_p: 1.0, Lambda_n: 0.8, Lambda_0: 1.0, Task 1 Validation f1_score: 0.7244094488188976\n",
      "Lambda_p: 1.0, Lambda_n: 1.0, Lambda_0: 0.2, Task 1 Validation f1_score: 0.7266375545851528\n",
      "Lambda_p: 1.0, Lambda_n: 1.0, Lambda_0: 0.4, Task 1 Validation f1_score: 0.7299396031061259\n",
      "Lambda_p: 1.0, Lambda_n: 1.0, Lambda_0: 0.6000000000000001, Task 1 Validation f1_score: 0.7223672758920799\n",
      "Lambda_p: 1.0, Lambda_n: 1.0, Lambda_0: 0.8, Task 1 Validation f1_score: 0.7269565217391305\n",
      "Lambda_p: 1.0, Lambda_n: 1.0, Lambda_0: 1.0, Task 1 Validation f1_score: 0.7335640138408305\n"
     ]
    }
   ],
   "source": [
    "best_lambda_p = None\n",
    "best_lambda_n = None\n",
    "best_lambda_0 = None\n",
    "best_perf_t1_RF = 0\n",
    "\n",
    "for lambda_p in lambda_p_list:\n",
    "\n",
    "    for lambda_n in lambda_n_list:\n",
    "        \n",
    "        for lambda_0 in lambda_0_list:\n",
    "            \n",
    "            sample_weights_label2 = np.where(train_label_2 == 2, lambda_p,\n",
    "                          np.where(train_label_2 == 0, lambda_n,\n",
    "                          lambda_0))\n",
    "            # fit the model using sample weights\n",
    "            model = RandomForestClassifier(n_estimators=100, criterion='entropy', random_state = 0)\n",
    "            model.fit(X_train, y_train, sample_weight = sample_weights_label2)\n",
    "            y_val_pred = model.predict(X_val)\n",
    "            perf_t1_RF = f1_score(y_val, y_val_pred)\n",
    "            \n",
    "            print(f\"Lambda_p: {lambda_p}, Lambda_n: {lambda_n}, Lambda_0: {lambda_0}, Task 1 Validation f1_score: {perf_t1_RF}\")\n",
    "            \n",
    "            if perf_t1_RF > best_perf_t1_RF:\n",
    "                best_perf_t1_RF = perf_t1_RF\n",
    "                best_lambda_p = lambda_p\n",
    "                best_lambda_n = lambda_n\n",
    "                best_lambda_0 = lambda_0\n"
   ]
  },
  {
   "cell_type": "code",
   "execution_count": 59,
   "id": "d25f9741",
   "metadata": {},
   "outputs": [
    {
     "data": {
      "text/plain": [
       "0.7445887445887446"
      ]
     },
     "execution_count": 59,
     "metadata": {},
     "output_type": "execute_result"
    }
   ],
   "source": [
    "#Best F1-Score on validation data\n",
    "best_perf_t1_RF"
   ]
  },
  {
   "cell_type": "code",
   "execution_count": 60,
   "id": "5575029e",
   "metadata": {},
   "outputs": [
    {
     "data": {
      "text/plain": [
       "0.8"
      ]
     },
     "execution_count": 60,
     "metadata": {},
     "output_type": "execute_result"
    }
   ],
   "source": [
    "#Best Weights for postive samples\n",
    "best_lambda_p"
   ]
  },
  {
   "cell_type": "code",
   "execution_count": 61,
   "id": "060c4f44",
   "metadata": {},
   "outputs": [
    {
     "data": {
      "text/plain": [
       "1.0"
      ]
     },
     "execution_count": 61,
     "metadata": {},
     "output_type": "execute_result"
    }
   ],
   "source": [
    "#Best Weights for negative samples\n",
    "best_lambda_n"
   ]
  },
  {
   "cell_type": "code",
   "execution_count": 62,
   "id": "633b859d",
   "metadata": {},
   "outputs": [
    {
     "data": {
      "text/plain": [
       "0.6000000000000001"
      ]
     },
     "execution_count": 62,
     "metadata": {},
     "output_type": "execute_result"
    }
   ],
   "source": [
    "#Best Weights for neutral samples\n",
    "best_lambda_0"
   ]
  },
  {
   "cell_type": "markdown",
   "id": "27a1243f",
   "metadata": {},
   "source": [
    "The optimal values does not result in best_lambda_p = best_lambda_n = best_lambda_0.\n",
    "\n",
    "lambda_p = 0.8\n",
    "lambda_n = 1.0\n",
    "lambda_0 = 0.6\n",
    "\n",
    "#### best_lambda_n > best_lambda_p > best_lambda_0\n",
    "\n",
    "\n",
    "This indicates that the model is encouraged to rely more heavily on Negative sentiment data samples when compared to positive and neutral data."
   ]
  },
  {
   "cell_type": "markdown",
   "id": "a6528bac-4a3a-4437-a35f-e57a3db04e6f",
   "metadata": {},
   "source": [
    "The model is then retrained using the optimal lambdas and used to predict on the test dataset. The results of the prediction are then submitted in Kaggle."
   ]
  },
  {
   "cell_type": "code",
   "execution_count": 71,
   "id": "cea65558",
   "metadata": {},
   "outputs": [
    {
     "data": {
      "text/html": [
       "<style>#sk-container-id-6 {color: black;background-color: white;}#sk-container-id-6 pre{padding: 0;}#sk-container-id-6 div.sk-toggleable {background-color: white;}#sk-container-id-6 label.sk-toggleable__label {cursor: pointer;display: block;width: 100%;margin-bottom: 0;padding: 0.3em;box-sizing: border-box;text-align: center;}#sk-container-id-6 label.sk-toggleable__label-arrow:before {content: \"▸\";float: left;margin-right: 0.25em;color: #696969;}#sk-container-id-6 label.sk-toggleable__label-arrow:hover:before {color: black;}#sk-container-id-6 div.sk-estimator:hover label.sk-toggleable__label-arrow:before {color: black;}#sk-container-id-6 div.sk-toggleable__content {max-height: 0;max-width: 0;overflow: hidden;text-align: left;background-color: #f0f8ff;}#sk-container-id-6 div.sk-toggleable__content pre {margin: 0.2em;color: black;border-radius: 0.25em;background-color: #f0f8ff;}#sk-container-id-6 input.sk-toggleable__control:checked~div.sk-toggleable__content {max-height: 200px;max-width: 100%;overflow: auto;}#sk-container-id-6 input.sk-toggleable__control:checked~label.sk-toggleable__label-arrow:before {content: \"▾\";}#sk-container-id-6 div.sk-estimator input.sk-toggleable__control:checked~label.sk-toggleable__label {background-color: #d4ebff;}#sk-container-id-6 div.sk-label input.sk-toggleable__control:checked~label.sk-toggleable__label {background-color: #d4ebff;}#sk-container-id-6 input.sk-hidden--visually {border: 0;clip: rect(1px 1px 1px 1px);clip: rect(1px, 1px, 1px, 1px);height: 1px;margin: -1px;overflow: hidden;padding: 0;position: absolute;width: 1px;}#sk-container-id-6 div.sk-estimator {font-family: monospace;background-color: #f0f8ff;border: 1px dotted black;border-radius: 0.25em;box-sizing: border-box;margin-bottom: 0.5em;}#sk-container-id-6 div.sk-estimator:hover {background-color: #d4ebff;}#sk-container-id-6 div.sk-parallel-item::after {content: \"\";width: 100%;border-bottom: 1px solid gray;flex-grow: 1;}#sk-container-id-6 div.sk-label:hover label.sk-toggleable__label {background-color: #d4ebff;}#sk-container-id-6 div.sk-serial::before {content: \"\";position: absolute;border-left: 1px solid gray;box-sizing: border-box;top: 0;bottom: 0;left: 50%;z-index: 0;}#sk-container-id-6 div.sk-serial {display: flex;flex-direction: column;align-items: center;background-color: white;padding-right: 0.2em;padding-left: 0.2em;position: relative;}#sk-container-id-6 div.sk-item {position: relative;z-index: 1;}#sk-container-id-6 div.sk-parallel {display: flex;align-items: stretch;justify-content: center;background-color: white;position: relative;}#sk-container-id-6 div.sk-item::before, #sk-container-id-6 div.sk-parallel-item::before {content: \"\";position: absolute;border-left: 1px solid gray;box-sizing: border-box;top: 0;bottom: 0;left: 50%;z-index: -1;}#sk-container-id-6 div.sk-parallel-item {display: flex;flex-direction: column;z-index: 1;position: relative;background-color: white;}#sk-container-id-6 div.sk-parallel-item:first-child::after {align-self: flex-end;width: 50%;}#sk-container-id-6 div.sk-parallel-item:last-child::after {align-self: flex-start;width: 50%;}#sk-container-id-6 div.sk-parallel-item:only-child::after {width: 0;}#sk-container-id-6 div.sk-dashed-wrapped {border: 1px dashed gray;margin: 0 0.4em 0.5em 0.4em;box-sizing: border-box;padding-bottom: 0.4em;background-color: white;}#sk-container-id-6 div.sk-label label {font-family: monospace;font-weight: bold;display: inline-block;line-height: 1.2em;}#sk-container-id-6 div.sk-label-container {text-align: center;}#sk-container-id-6 div.sk-container {/* jupyter's `normalize.less` sets `[hidden] { display: none; }` but bootstrap.min.css set `[hidden] { display: none !important; }` so we also need the `!important` here to be able to override the default hidden behavior on the sphinx rendered scikit-learn.org. See: https://github.com/scikit-learn/scikit-learn/issues/21755 */display: inline-block !important;position: relative;}#sk-container-id-6 div.sk-text-repr-fallback {display: none;}</style><div id=\"sk-container-id-6\" class=\"sk-top-container\"><div class=\"sk-text-repr-fallback\"><pre>RandomForestClassifier(criterion=&#x27;entropy&#x27;, random_state=0)</pre><b>In a Jupyter environment, please rerun this cell to show the HTML representation or trust the notebook. <br />On GitHub, the HTML representation is unable to render, please try loading this page with nbviewer.org.</b></div><div class=\"sk-container\" hidden><div class=\"sk-item\"><div class=\"sk-estimator sk-toggleable\"><input class=\"sk-toggleable__control sk-hidden--visually\" id=\"sk-estimator-id-6\" type=\"checkbox\" checked><label for=\"sk-estimator-id-6\" class=\"sk-toggleable__label sk-toggleable__label-arrow\">RandomForestClassifier</label><div class=\"sk-toggleable__content\"><pre>RandomForestClassifier(criterion=&#x27;entropy&#x27;, random_state=0)</pre></div></div></div></div></div>"
      ],
      "text/plain": [
       "RandomForestClassifier(criterion='entropy', random_state=0)"
      ]
     },
     "execution_count": 71,
     "metadata": {},
     "output_type": "execute_result"
    }
   ],
   "source": [
    "# Using best Lamba values we got from grid search\n",
    "\n",
    "#Sentiment Label Weights\n",
    "lambda_p = 0.8\n",
    "lambda_n = 1.0\n",
    "lambda_0 = 0.6\n",
    "\n",
    "\n",
    "sample_weights_label2 = np.where(train_label_2 == 2, lambda_p,\n",
    "                          np.where(train_label_2 == 0, lambda_n,\n",
    "                          lambda_0))\n",
    "\n",
    "# create a Random Forest model with sample weights\n",
    "model = RandomForestClassifier(n_estimators=100, criterion='entropy', random_state = 0)\n",
    "\n",
    "# fit the model using sample weights\n",
    "model.fit(X_train, y_train, sample_weight = sample_weights_label2)"
   ]
  },
  {
   "cell_type": "code",
   "execution_count": 74,
   "id": "95add3ba",
   "metadata": {},
   "outputs": [
    {
     "name": "stdout",
     "output_type": "stream",
     "text": [
      "The f1 score of Random Forest based on the first task is 0.7334494773519163\n"
     ]
    }
   ],
   "source": [
    "y_val_pred = model.predict(X_val)\n",
    "\n",
    "perf_t1_RF = f1_score(y_val, y_val_pred)\n",
    "print(f'The f1 score of Random Forest based on the first task is {perf_t1_RF}')"
   ]
  },
  {
   "cell_type": "code",
   "execution_count": 91,
   "id": "8b573f86",
   "metadata": {},
   "outputs": [],
   "source": [
    "X_test = np.vstack(df_d1_test['sentence_embeddings'].values)"
   ]
  },
  {
   "cell_type": "code",
   "execution_count": 92,
   "id": "f95e6f73",
   "metadata": {},
   "outputs": [],
   "source": [
    "y_test_pred = model.predict(X_test)"
   ]
  },
  {
   "cell_type": "code",
   "execution_count": 93,
   "id": "d5080c5a",
   "metadata": {},
   "outputs": [],
   "source": [
    "output = pd.DataFrame({'id': df_d1_test.id,\n",
    "                       'target': y_test_pred})"
   ]
  },
  {
   "cell_type": "code",
   "execution_count": 94,
   "id": "366c7234",
   "metadata": {},
   "outputs": [],
   "source": [
    "output.to_csv('submission.csv')"
   ]
  },
  {
   "cell_type": "markdown",
   "id": "6483ac97",
   "metadata": {},
   "source": [
    "### The model resulted in Score of 79.16% in Kaggle.(Please refer screenshot in the zip file)"
   ]
  },
  {
   "cell_type": "markdown",
   "id": "97ecdb90-2271-4a4b-a769-ec8efcfce42e",
   "metadata": {},
   "source": [
    "# V. Further Exploration"
   ]
  },
  {
   "cell_type": "markdown",
   "id": "29231080-8e91-4f5d-a65c-ed3bec2e4a4b",
   "metadata": {},
   "source": [
    "## 1. Soft-Parameter Sharing Multi-Task Learning Model"
   ]
  },
  {
   "cell_type": "markdown",
   "id": "2957c7ad-a4ba-4e4d-b928-22ba488a4b53",
   "metadata": {},
   "source": [
    "Similar to the hard parameter sharing MTL model shown in section 5, a soft-parameter sharing MTL model was explored. A simple schematic of the soft parameter sharing model is shown below."
   ]
  },
  {
   "attachments": {
    "bdacbc2e-2c78-4a54-ab13-7ff230c250fd.png": {
     "image/png": "[encoded data removed]"
    }
   },
   "cell_type": "markdown",
   "id": "53038606-4d17-4ace-8547-c21a91fd76bd",
   "metadata": {},
   "source": [
    "![softparameter.png](attachment:bdacbc2e-2c78-4a54-ab13-7ff230c250fd.png)"
   ]
  },
  {
   "cell_type": "markdown",
   "id": "cf7dba5e-64d6-4ba5-8b8a-c70fdd896714",
   "metadata": {},
   "source": [
    "In this model, instead of both tasks sharing the hidden layers and the same weights, each task has its own model and hidden layers. However, the weights of the hidden layers are regularised to train the weights to be similar but not the same (as in hard parameter sharing MTL model). This may give some flexibility in the model to learn specific components of each tasks even though the weights are similar for both tasks.\n",
    "\n",
    "For this MTL model, two models (with the same architecture) are trained separately with its own loss function and optimiser for each task. However, each loss function for each task has a regularisation term which takes into account the difference in weights of the hidden layers between the two tasks models. This is to train both models to have similar weights in their hidden layers. A hyperparameter lambda is used to test the magnitude of the regularisation term that is needed to give the best results based on the requirements.\n",
    "\n",
    "For our case, since the primary task is task 1, we would like to hyper parameter tune the lambda to give the best performance for task 1 based on the validation set. \n",
    "The performance of the model for task1 using lambda=0.1 based on the validation dataset is shown below."
   ]
  },
  {
   "cell_type": "code",
   "execution_count": 434,
   "id": "83779f2c-53f3-4311-9734-0e5805e3e2f4",
   "metadata": {},
   "outputs": [],
   "source": [
    "## Soft parameter sharing model\n",
    "class NeuralNetworkTask1(nn.Module):\n",
    "    \n",
    "    torch.manual_seed(rng)\n",
    "    torch.cuda.manual_seed(rng)\n",
    "    torch.cuda.manual_seed_all(rng)\n",
    "    np.random.seed(rng)\n",
    "    random.seed(rng)\n",
    "    torch.backends.cudnn.benchmark = False\n",
    "    torch.backends.cudnn.deterministic = True\n",
    "    \n",
    "    def __init__(self, n_classes):\n",
    "        super().__init__()\n",
    "        self.lin1 = nn.Linear(768, 1024)\n",
    "        self.lin2 = nn.Linear(1024, 512)\n",
    "        self.lin3 = nn.Linear(512, 128)\n",
    "        self.lin4 = nn.Linear(128, n_classes)\n",
    "        self.dropout = nn.Dropout(0.3)\n",
    "        \n",
    "    def forward(self, x):\n",
    "        x = self.lin1(x)\n",
    "        x = nn.ReLU()(x)\n",
    "        x = self.dropout(x)\n",
    "        x = self.lin2(x)\n",
    "        x = nn.ReLU()(x)\n",
    "        x = self.dropout(x)\n",
    "        x = self.lin3(x)\n",
    "        x = nn.ReLU()(x)\n",
    "        x = self.dropout(x)\n",
    "        x = self.lin4(x)\n",
    "        \n",
    "        return x\n",
    "\n",
    "class NeuralNetworkTask2(nn.Module):\n",
    " \n",
    "    torch.manual_seed(rng)\n",
    "    torch.cuda.manual_seed(rng)\n",
    "    torch.cuda.manual_seed_all(rng)\n",
    "    np.random.seed(rng)\n",
    "    random.seed(rng)\n",
    "    torch.backends.cudnn.benchmark = False\n",
    "    torch.backends.cudnn.deterministic = True\n",
    "    \n",
    "    def __init__(self, n_classes):\n",
    "        super().__init__()\n",
    "        self.lin1 = nn.Linear(768, 1024)\n",
    "        self.lin2 = nn.Linear(1024, 512)\n",
    "        self.lin3 = nn.Linear(512, 128)\n",
    "        self.lin4 = nn.Linear(128, n_classes)\n",
    "        self.dropout = nn.Dropout(0.3)\n",
    "        \n",
    "    def forward(self, x):\n",
    "        x = self.lin1(x)\n",
    "        x = nn.ReLU()(x)\n",
    "        x = self.dropout(x)\n",
    "        x = self.lin2(x)\n",
    "        x = nn.ReLU()(x)\n",
    "        x = self.dropout(x)\n",
    "        x = self.lin3(x)\n",
    "        x = nn.ReLU()(x)\n",
    "        x = self.dropout(x)\n",
    "        x = self.lin4(x)\n",
    "        \n",
    "        return x"
   ]
  },
  {
   "cell_type": "code",
   "execution_count": 529,
   "id": "21c39094-184c-4674-815f-764119e9eff3",
   "metadata": {},
   "outputs": [
    {
     "name": "stdout",
     "output_type": "stream",
     "text": [
      "Epoch 1/20: Loss Task1 - 1.7796974171436728, Loss Task2 - 2.4929786027156684\n",
      "Epoch 2/20: Loss Task1 - 0.14330778666400693, Loss Task2 - 0.7699569803164055\n",
      "Epoch 3/20: Loss Task1 - 0.13460774347186089, Loss Task2 - 0.7224347383666418\n",
      "Epoch 4/20: Loss Task1 - 0.131738688542183, Loss Task2 - 0.7041303356579062\n",
      "Epoch 5/20: Loss Task1 - 0.12957237476741806, Loss Task2 - 0.6879893787086417\n",
      "Epoch 6/20: Loss Task1 - 0.12726653213686986, Loss Task2 - 0.6800424119877653\n",
      "Epoch 7/20: Loss Task1 - 0.1265561264390147, Loss Task2 - 0.6731941377519204\n",
      "Epoch 8/20: Loss Task1 - 0.12478403531541042, Loss Task2 - 0.6670736719372604\n",
      "Epoch 9/20: Loss Task1 - 0.12249534221573952, Loss Task2 - 0.6603916436773226\n",
      "Epoch 10/20: Loss Task1 - 0.12183544721988991, Loss Task2 - 0.6565559153404757\n",
      "Epoch 11/20: Loss Task1 - 0.11973598970265757, Loss Task2 - 0.6499168625046289\n",
      "Epoch 12/20: Loss Task1 - 0.12081223423327564, Loss Task2 - 0.6459251269528425\n",
      "Epoch 13/20: Loss Task1 - 0.11901708351180874, Loss Task2 - 0.6396629025561391\n",
      "Epoch 14/20: Loss Task1 - 0.11790724054555958, Loss Task2 - 0.6369388385894358\n",
      "Epoch 15/20: Loss Task1 - 0.11725888773798943, Loss Task2 - 0.633535653556398\n",
      "Epoch 16/20: Loss Task1 - 0.11591038499494212, Loss Task2 - 0.6286621890062624\n",
      "Epoch 17/20: Loss Task1 - 0.11453722890016702, Loss Task2 - 0.6245511800118623\n",
      "Epoch 18/20: Loss Task1 - 0.11403365630512222, Loss Task2 - 0.6189189012881564\n",
      "Epoch 19/20: Loss Task1 - 0.11320259998253375, Loss Task2 - 0.6125335980520704\n",
      "Epoch 20/20: Loss Task1 - 0.11106275994084555, Loss Task2 - 0.6109236001561063\n"
     ]
    }
   ],
   "source": [
    "# Training the softparameter sharing model for lambda = 0.1\n",
    "torch.manual_seed(rng)\n",
    "torch.cuda.manual_seed(rng)\n",
    "torch.cuda.manual_seed_all(rng)\n",
    "np.random.seed(rng)\n",
    "random.seed(rng)\n",
    "torch.backends.cudnn.benchmark = False\n",
    "torch.backends.cudnn.deterministic = True\n",
    "\n",
    "network1 = NeuralNetworkTask1(2)\n",
    "network2 = NeuralNetworkTask2(3)\n",
    "\n",
    "# Define the loss functions\n",
    "criterion_task1 = torch.nn.CrossEntropyLoss()\n",
    "criterion_task2 = torch.nn.CrossEntropyLoss()\n",
    "\n",
    "# Define the optimizers\n",
    "optimizer1 = torch.optim.Adam(network1.parameters(), lr=0.0001)\n",
    "optimizer2 = torch.optim.Adam(network2.parameters(), lr=0.0001)\n",
    "\n",
    "# Hyperparameter for controlling the weight similarity\n",
    "lambda_value = 0.1\n",
    "\n",
    "# Training loop\n",
    "n_epochs = 20\n",
    "for epoch in range(n_epochs):\n",
    "    l1 = 0\n",
    "    l2 = 0\n",
    "    num_batches = 0\n",
    "    for (inputs, labels_task1, labels_task2) in D12_train_dataloader:\n",
    "\n",
    "        idx1 = labels_task1 != np.nan\n",
    "        idx2 = labels_task2 != np.nan\n",
    "        input1 = inputs[idx1]\n",
    "        input2 = inputs[idx2] \n",
    "\n",
    "        #optimizer2.zero_grad()\n",
    "        # Forward pass for both tasks\n",
    "        outputs_task1 = network1(input1)\n",
    "        outputs_task2 = network2(input2)\n",
    "\n",
    "        # Calculate the losses for both tasks\n",
    "        loss_task1 = criterion_task1(outputs_task1, (labels_task1[idx1]).type(torch.LongTensor))\n",
    "        loss_task2 = criterion_task2(outputs_task2, (labels_task2[idx2]).type(torch.LongTensor))\n",
    "\n",
    "        # Calculate the regularization term\n",
    "        regularization_term = (\n",
    "            torch.norm(network1.lin1.weight - network2.lin1.weight, 2) +\n",
    "            torch.norm(network1.lin2.weight - network2.lin2.weight, 2) +\n",
    "            torch.norm(network1.lin3.weight - network2.lin3.weight, 2)\n",
    "        )\n",
    "\n",
    "        # Add the regularization term to the losses\n",
    "        total_loss_task1 = loss_task1 + + lambda_value * regularization_term\n",
    "        total_loss_task2 = loss_task2 + lambda_value * regularization_term\n",
    "\n",
    "        # Backward pass and optimization\n",
    "        total_loss_task1.backward(retain_graph=True)\n",
    "        total_loss_task2.backward()\n",
    "        optimizer1.step()\n",
    "        optimizer2.step()\n",
    "        \n",
    "        # Zero the parameter gradients\n",
    "        optimizer1.zero_grad()\n",
    "        optimizer2.zero_grad()\n",
    "\n",
    "        l1 += total_loss_task1.detach().item()\n",
    "        l2 += total_loss_task2.detach().item()\n",
    "        \n",
    "        num_batches += 1\n",
    "    # Print the losses for the current epoch\n",
    "   # print(f\"Epoch {epoch + 1}/{n_epochs}: Loss Task1 - {loss_task1.item():.4f}, Loss Task2 - {loss_task2.item():.4f}\")\n",
    "    print(f\"Epoch {epoch + 1}/{n_epochs}: Loss Task1 - {l1/num_batches}, Loss Task2 - {l2/num_batches}\")    \n",
    "    "
   ]
  },
  {
   "cell_type": "code",
   "execution_count": 530,
   "id": "c5ddb134-899b-4fcc-ad73-d53e751b11d3",
   "metadata": {},
   "outputs": [],
   "source": [
    "# Evaluation of softparameter model with lambda = 0.1\n",
    "torch.manual_seed(rng)\n",
    "torch.cuda.manual_seed(rng)\n",
    "torch.cuda.manual_seed_all(rng)\n",
    "np.random.seed(rng)\n",
    "random.seed(rng)\n",
    "torch.backends.cudnn.benchmark = False\n",
    "torch.backends.cudnn.deterministic = True\n",
    "\n",
    "\n",
    "truth1 = []\n",
    "truth2 = []\n",
    "class_probs_t1 = []\n",
    "class_probs_t2 = []\n",
    "class_preds_t1 = []\n",
    "class_preds_t2 = []\n",
    "with torch.no_grad():\n",
    "    for data in D1_hat_val_dataloader:\n",
    "        x, y1, y2 = data\n",
    "        output_t1 = network1(x)\n",
    "        output_t2 = network2(x)\n",
    "\n",
    "        class_probs_t1_batch = [nn.Softmax(dim=0)(el) for el in output_t1]\n",
    "        class_probs_t2_batch = [nn.Softmax(dim=0)(el) for el in output_t2]\n",
    "\n",
    "        _, class_preds_t1_batch = torch.max(output_t1, 1)\n",
    "        _, class_preds_t2_batch = torch.max(output_t2, 1)\n",
    "\n",
    "        class_probs_t1.append(class_probs_t1_batch)\n",
    "        class_probs_t2.append(class_probs_t2_batch)\n",
    "\n",
    "        class_preds_t1.append(class_preds_t1_batch)\n",
    "        class_preds_t2.append(class_preds_t2_batch)\n",
    "        \n",
    "        truth1.extend([l.item() for l in y1])\n",
    "        truth2.extend([l.item() for l in y2])\n",
    "\n",
    "val_probs_t1 = torch.cat([torch.stack(batch) for batch in class_probs_t1])\n",
    "val_probs_t2 = torch.cat([torch.stack(batch) for batch in class_probs_t2])\n",
    "val_preds_t1 = torch.cat(class_preds_t1)\n",
    "val_preds_t2 = torch.cat(class_preds_t2)"
   ]
  },
  {
   "cell_type": "code",
   "execution_count": 531,
   "id": "fe0aafde-e7c2-4417-9122-d5971139c704",
   "metadata": {},
   "outputs": [
    {
     "name": "stdout",
     "output_type": "stream",
     "text": [
      "The f1 score of soft parameter sharing model based on the first task is 0.7550854353132629\n"
     ]
    }
   ],
   "source": [
    "perf_t1_network1 = f1_score(truth1, val_preds_t1)\n",
    "print(f'The f1 score of soft parameter sharing model based on the first task is {perf_t1_network1}')\n"
   ]
  },
  {
   "cell_type": "markdown",
   "id": "33b1a3bf-005d-432e-8534-4a293a501cd1",
   "metadata": {},
   "source": [
    "Ranging lambda from 0 to 1, the best hyperparameter was found by gridsearch to give the best performance for task 1 using this MTL model. "
   ]
  },
  {
   "cell_type": "code",
   "execution_count": 543,
   "id": "3df01a3e-0ae4-4ff4-895b-53e37f9d2467",
   "metadata": {},
   "outputs": [],
   "source": [
    "# function to train and evaluate model for each lambda for soft parameter sharing model\n",
    "def train_and_evaluate_model_1(network1, network2, lambda_value, train_dataloader, val_dataloader):\n",
    "\n",
    "\n",
    "    epochs = 20\n",
    "\n",
    "    # Define separate loss functions for each task\n",
    "    criterion_task1 = nn.CrossEntropyLoss()\n",
    "    criterion_task2 = nn.CrossEntropyLoss()\n",
    "\n",
    "    # Define the optimizer\n",
    "    optimizer1 = torch.optim.Adam(network1.parameters(), lr=0.0001)\n",
    "    optimizer2 = torch.optim.Adam(network2.parameters(), lr=0.0001)\n",
    "\n",
    "    # Training loop\n",
    "    for epoch in range(epochs):\n",
    "        l1 = 0\n",
    "        l2 = 0\n",
    "        for (inputs, labels_task1, labels_task2) in train_dataloader:\n",
    "            \n",
    "            idx1 = labels_task1 != np.nan\n",
    "            idx2 = labels_task2 != np.nan\n",
    "            input1 = inputs[idx1]\n",
    "            input2 = inputs[idx2] \n",
    "            \n",
    "            # Forward pass\n",
    "            outputs_task1 = network1(input1)\n",
    "            outputs_task2 = network2(input2)\n",
    "\n",
    "            # Compute the losses for each task\n",
    "            loss_task1 = criterion_task1(outputs_task1, (labels_task1[idx1]).type(torch.LongTensor))\n",
    "            loss_task2 = criterion_task2(outputs_task2, (labels_task2[idx2]).type(torch.LongTensor))\n",
    "            \n",
    "            # Calculate the regularization term\n",
    "            regularization_term = (\n",
    "                torch.norm(network1.lin1.weight - network2.lin1.weight, 2) +\n",
    "                torch.norm(network1.lin2.weight - network2.lin2.weight, 2) +\n",
    "                torch.norm(network1.lin3.weight - network2.lin3.weight, 2)\n",
    "            )\n",
    "            \n",
    "            #Add the regularization term to the losses\n",
    "            total_loss_task1 = loss_task1 + lambda_value * regularization_term\n",
    "            total_loss_task2 = loss_task2 + lambda_value * regularization_term\n",
    "\n",
    "            # Backward pass and optimization\n",
    "            total_loss_task1.backward(retain_graph = True)\n",
    "            total_loss_task2.backward()\n",
    "            optimizer1.step()\n",
    "            optimizer2.step()\n",
    "\n",
    "            # Zero the parameter gradients\n",
    "            optimizer1.zero_grad()\n",
    "            optimizer2.zero_grad()\n",
    "\n",
    "            # Accumulate the running loss\n",
    "            l1 += total_loss_task1.detach().item()\n",
    "            l2 += total_loss_task2.detach().item()\n",
    "        #print(f\"Epoch {epoch}: Training loss: {l1/num_batches}\")\n",
    "\n",
    "\n",
    "    #Evalution of model for task 1\n",
    "    \n",
    "    torch.manual_seed(rng)\n",
    "    torch.cuda.manual_seed(rng)\n",
    "    torch.cuda.manual_seed_all(rng)\n",
    "    np.random.seed(rng)\n",
    "    random.seed(rng)\n",
    "    torch.backends.cudnn.benchmark = False\n",
    "    torch.backends.cudnn.deterministic = True  \n",
    "    \n",
    "    truth1 = []\n",
    "    truth2 = []\n",
    "    class_probs_t1 = []\n",
    "    class_probs_t2 = []\n",
    "    class_preds_t1 = []\n",
    "    class_preds_t2 = []\n",
    "    \n",
    "\n",
    "    with torch.no_grad():\n",
    "        for data in val_dataloader:\n",
    "            x, y1, y2 = data\n",
    "            output_t1 = network1(x)\n",
    "            output_t2 = network2(x)\n",
    "\n",
    "            class_probs_t1_batch = [nn.Softmax(dim=0)(el) for el in output_t1]\n",
    "            class_probs_t2_batch = [nn.Softmax(dim=0)(el) for el in output_t2]\n",
    "\n",
    "            _, class_preds_t1_batch = torch.max(output_t1, 1)\n",
    "            _, class_preds_t2_batch = torch.max(output_t2, 1)\n",
    "\n",
    "            class_probs_t1.append(class_probs_t1_batch)\n",
    "            class_probs_t2.append(class_probs_t2_batch)\n",
    "\n",
    "            class_preds_t1.append(class_preds_t1_batch)\n",
    "            class_preds_t2.append(class_preds_t2_batch)\n",
    "\n",
    "            truth1.extend([l.item() for l in y1])\n",
    "            truth2.extend([l.item() for l in y2])\n",
    "\n",
    "    val_probs_t1 = torch.cat([torch.stack(batch) for batch in class_probs_t1])\n",
    "    val_probs_t2 = torch.cat([torch.stack(batch) for batch in class_probs_t2])\n",
    "    val_preds_t1 = torch.cat(class_preds_t1)\n",
    "    val_preds_t2 = torch.cat(class_preds_t2) \n",
    "\n",
    "    perf_t1_network1 = f1_score(truth1, val_preds_t1)   \n",
    "    perf_t2_network2 = accuracy_score(truth2, val_preds_t2)\n",
    "\n",
    "    return perf_t1_network1, perf_t2_network2\n"
   ]
  },
  {
   "cell_type": "code",
   "execution_count": 547,
   "id": "92e68716-0b1d-46a3-8830-79d833befd77",
   "metadata": {},
   "outputs": [
    {
     "name": "stdout",
     "output_type": "stream",
     "text": [
      "Lambda_1: 0, Task 1 Validation f1_score: 0.7572493786246894, Task 2 Validation accuracy score: 0.41365725541694026\n",
      "Lambda_1: 0.1, Task 1 Validation f1_score: 0.7550854353132629, Task 2 Validation accuracy score: 0.42547603414313856\n",
      "Lambda_1: 0.2, Task 1 Validation f1_score: 0.7567567567567567, Task 2 Validation accuracy score: 0.42350623768877216\n",
      "Lambda_1: 0.3, Task 1 Validation f1_score: 0.7574750830564784, Task 2 Validation accuracy score: 0.41365725541694026\n",
      "Lambda_1: 0.4, Task 1 Validation f1_score: 0.7502102607232969, Task 2 Validation accuracy score: 0.41628365068942874\n",
      "Lambda_1: 0.5, Task 1 Validation f1_score: 0.7415540540540541, Task 2 Validation accuracy score: 0.4169402495075509\n",
      "Lambda_1: 0.6, Task 1 Validation f1_score: 0.7438715131022825, Task 2 Validation accuracy score: 0.4143138542350624\n",
      "Lambda_1: 0.7, Task 1 Validation f1_score: 0.7408666100254886, Task 2 Validation accuracy score: 0.412344057780696\n",
      "Lambda_1: 0.8, Task 1 Validation f1_score: 0.7342419080068143, Task 2 Validation accuracy score: 0.41365725541694026\n",
      "Lambda_1: 0.9, Task 1 Validation f1_score: 0.7336170212765958, Task 2 Validation accuracy score: 0.4143138542350624\n",
      "Lambda_1: 1.0, Task 1 Validation f1_score: 0.7351443123938879, Task 2 Validation accuracy score: 0.41365725541694026\n"
     ]
    }
   ],
   "source": [
    "# Gridsearch to find optimal lambda for obtaining best task 1 performance on \n",
    "# soft parameter sharing model\n",
    "\n",
    "lambda_list = [0, 0.1, 0.2, 0.3, 0.4, 0.5, 0.6, 0.7, 0.8, 0.9, 1.0] \n",
    "\n",
    "best_lambda_value = None\n",
    "best_t1_val_perf = 0\n",
    "\n",
    "## Run all value lambda to find best combination for best \n",
    "## T1 performance\n",
    "for lambda_value in lambda_list:\n",
    "\n",
    "    torch.manual_seed(rng)\n",
    "    torch.cuda.manual_seed(rng)\n",
    "    torch.cuda.manual_seed_all(rng)\n",
    "    np.random.seed(rng)\n",
    "    random.seed(rng)\n",
    "    torch.backends.cudnn.benchmark = False\n",
    "    torch.backends.cudnn.deterministic = True\n",
    "\n",
    "    network1 = NeuralNetworkTask1(2)\n",
    "    network2 = NeuralNetworkTask2(3)\n",
    "\n",
    "    task1_val_perf, task2_val_perf = train_and_evaluate_model_1(network1, network2, lambda_value, D12_train_dataloader, D1_hat_val_dataloader)\n",
    "\n",
    "    print(f\"Lambda_1: {lambda_value}, Task 1 Validation f1_score: {task1_val_perf}, Task 2 Validation accuracy score: {task2_val_perf}\")\n",
    "\n",
    "    if task1_val_perf > best_t1_val_perf:\n",
    "        best_t1_val_perf = task1_val_perf\n",
    "        best_lambda_value = lambda_value"
   ]
  },
  {
   "cell_type": "markdown",
   "id": "d9433320-6f2e-40b9-a69f-161428a5710c",
   "metadata": {},
   "source": [
    "The best hyperparameter lambda found is 0.3 which gives the best performance for task 1 on the validation dataset. The performance of the model is also better for task 1 compared to the model trained only on D1 dataset in Section 1.\n",
    "This lambda was used to re-train the MTL model. The re-trained optimised for task 1 model is then used to predict the labels for the D1 test dataset to be submitted in Kaggle."
   ]
  },
  {
   "cell_type": "code",
   "execution_count": 549,
   "id": "f98ccbc6-b2f3-40af-9362-e39cd6730418",
   "metadata": {},
   "outputs": [
    {
     "name": "stdout",
     "output_type": "stream",
     "text": [
      "The best lambda value is: 0.3\n"
     ]
    }
   ],
   "source": [
    "print(f\"The best lambda value is: {best_lambda_value}\")"
   ]
  },
  {
   "cell_type": "code",
   "execution_count": 628,
   "id": "dc2db2eb-493d-472c-8726-76c124208ffa",
   "metadata": {},
   "outputs": [
    {
     "name": "stdout",
     "output_type": "stream",
     "text": [
      "Epoch 1/20: Loss Task1 - 4.496460336691155, Loss Task2 - 5.2398159551457555\n",
      "Epoch 2/20: Loss Task1 - 0.1452056981606201, Loss Task2 - 0.8099053932485385\n",
      "Epoch 3/20: Loss Task1 - 0.13970392224100972, Loss Task2 - 0.7702124413433814\n",
      "Epoch 4/20: Loss Task1 - 0.1379690540101642, Loss Task2 - 0.7431152191411933\n",
      "Epoch 5/20: Loss Task1 - 0.1360116025564475, Loss Task2 - 0.7203681880357868\n",
      "Epoch 6/20: Loss Task1 - 0.13328767089270785, Loss Task2 - 0.7067200947459575\n",
      "Epoch 7/20: Loss Task1 - 0.13306335686092904, Loss Task2 - 0.6977345692948491\n",
      "Epoch 8/20: Loss Task1 - 0.13126218466593084, Loss Task2 - 0.6900853143330316\n",
      "Epoch 9/20: Loss Task1 - 0.12965785343717606, Loss Task2 - 0.6835431127993555\n",
      "Epoch 10/20: Loss Task1 - 0.12749207401245086, Loss Task2 - 0.6770396883639768\n",
      "Epoch 11/20: Loss Task1 - 0.1266310625626856, Loss Task2 - 0.6713851383443845\n",
      "Epoch 12/20: Loss Task1 - 0.12686521229429643, Loss Task2 - 0.6670187370244898\n",
      "Epoch 13/20: Loss Task1 - 0.12689268610234414, Loss Task2 - 0.662609044131494\n",
      "Epoch 14/20: Loss Task1 - 0.12485369863858391, Loss Task2 - 0.6588954001597228\n",
      "Epoch 15/20: Loss Task1 - 0.1252524377459953, Loss Task2 - 0.6553548488910215\n",
      "Epoch 16/20: Loss Task1 - 0.12372131331702843, Loss Task2 - 0.6511126914165558\n",
      "Epoch 17/20: Loss Task1 - 0.12394441575117426, Loss Task2 - 0.64787970452754\n",
      "Epoch 18/20: Loss Task1 - 0.123214137080658, Loss Task2 - 0.6445317939093553\n",
      "Epoch 19/20: Loss Task1 - 0.12308349005521566, Loss Task2 - 0.6373943102658474\n",
      "Epoch 20/20: Loss Task1 - 0.12116744360782562, Loss Task2 - 0.6375527580126543\n"
     ]
    }
   ],
   "source": [
    "#Re-train the model with lambda = 0.3 to be used for prediction of test data\n",
    "\n",
    "# Initialize the networks\n",
    "torch.manual_seed(rng)\n",
    "torch.cuda.manual_seed(rng)\n",
    "torch.cuda.manual_seed_all(rng)\n",
    "np.random.seed(rng)\n",
    "random.seed(rng)\n",
    "torch.backends.cudnn.benchmark = False\n",
    "torch.backends.cudnn.deterministic = True\n",
    "\n",
    "network1 = NeuralNetworkTask1(2)\n",
    "network2 = NeuralNetworkTask2(3)\n",
    "\n",
    "# Define the loss functions\n",
    "criterion_task1 = torch.nn.CrossEntropyLoss()\n",
    "criterion_task2 = torch.nn.CrossEntropyLoss()\n",
    "\n",
    "# Define the optimizers\n",
    "optimizer1 = torch.optim.Adam(network1.parameters(), lr=0.0001)\n",
    "optimizer2 = torch.optim.Adam(network2.parameters(), lr=0.0001)\n",
    "\n",
    "# Hyperparameter for controlling the weight similarity\n",
    "lambda_value = 0.3\n",
    "\n",
    "# Training loop\n",
    "n_epochs = 20\n",
    "for epoch in range(n_epochs):\n",
    "    l1 = 0\n",
    "    l2 = 0\n",
    "    num_batches = 0\n",
    "    for (inputs, labels_task1, labels_task2) in D12_train_dataloader:\n",
    "\n",
    "        idx1 = labels_task1 != np.nan\n",
    "        idx2 = labels_task2 != np.nan\n",
    "        input1 = inputs[idx1]\n",
    "        input2 = inputs[idx2] \n",
    "\n",
    "        # Forward pass for both tasks\n",
    "        outputs_task1 = network1(input1)\n",
    "        outputs_task2 = network2(input2)\n",
    "\n",
    "        # Calculate the losses for both tasks\n",
    "        loss_task1 = criterion_task1(outputs_task1, (labels_task1[idx1]).type(torch.LongTensor))\n",
    "        loss_task2 = criterion_task2(outputs_task2, (labels_task2[idx2]).type(torch.LongTensor))\n",
    "\n",
    "        # Calculate the regularization term\n",
    "        regularization_term = (\n",
    "            torch.norm(network1.lin1.weight - network2.lin1.weight, 2) +\n",
    "            torch.norm(network1.lin2.weight - network2.lin2.weight, 2) +\n",
    "            torch.norm(network1.lin3.weight - network2.lin3.weight, 2)\n",
    "        )\n",
    "\n",
    "        # Add the regularization term to the losses\n",
    "        total_loss_task1 = loss_task1 + + lambda_value * regularization_term\n",
    "        total_loss_task2 = loss_task2 + lambda_value * regularization_term\n",
    "\n",
    "        # Backward pass and optimization\n",
    "        total_loss_task1.backward(retain_graph=True)\n",
    "        total_loss_task2.backward()\n",
    "        optimizer1.step()\n",
    "        optimizer2.step()\n",
    "\n",
    "        # Zero the parameter gradients\n",
    "        optimizer1.zero_grad()\n",
    "        optimizer2.zero_grad()\n",
    "\n",
    "        l1 += total_loss_task1.detach().item()\n",
    "        l2 += total_loss_task2.detach().item()\n",
    "        \n",
    "        num_batches += 1\n",
    "    # Print the losses for the current epoch\n",
    "   # print(f\"Epoch {epoch + 1}/{n_epochs}: Loss Task1 - {loss_task1.item():.4f}, Loss Task2 - {loss_task2.item():.4f}\")\n",
    "    print(f\"Epoch {epoch + 1}/{n_epochs}: Loss Task1 - {l1/num_batches}, Loss Task2 - {l2/num_batches}\")    \n",
    "    "
   ]
  },
  {
   "cell_type": "code",
   "execution_count": 629,
   "id": "7d22ddbb-673e-4519-8d85-04d4da45b135",
   "metadata": {},
   "outputs": [],
   "source": [
    "#prediction of test dataset using re-trained model and save results to csv file\n",
    "# to upload in kaggle\n",
    "torch.manual_seed(rng)\n",
    "torch.cuda.manual_seed(rng)\n",
    "torch.cuda.manual_seed_all(rng)\n",
    "np.random.seed(rng)\n",
    "random.seed(rng)\n",
    "torch.backends.cudnn.benchmark = False\n",
    "torch.backends.cudnn.deterministic = True\n",
    "\n",
    "\n",
    "class_probs_t1 = []\n",
    "class_preds_t1 = []\n",
    "with torch.no_grad():\n",
    "    for data in test_dataloader:\n",
    "        x = data\n",
    "        output_t1 = network1(x[0])\n",
    "        \n",
    "        class_probs_t1_batch = [nn.Softmax(dim=0)(el) for el in output_t1]\n",
    "        \n",
    "        _, class_preds_t1_batch = torch.max(output_t1, 1)\n",
    "\n",
    "        class_probs_t1.append(class_probs_t1_batch)\n",
    "        \n",
    "        class_preds_t1.append(class_preds_t1_batch)\n",
    "        \n",
    "\n",
    "#predictions of D1 test data\n",
    "val_probs_t1 = torch.cat([torch.stack(batch) for batch in class_probs_t1])\n",
    "val_preds_t1 = torch.cat(class_preds_t1).numpy()\n",
    "\n",
    "#write prediction of test data to output for submission to kaggle\n",
    "df_d1_soft_test_preds = df_d1_test_final\n",
    "df_d1_soft_test_preds['target'] = val_preds_t1.tolist()\n",
    "df_d1_soft_test_preds = df_d1_soft_test_preds.drop(['text', 'sentence_embeddings'], axis=1)\n",
    "df_d1_soft_test_preds.to_csv('test_soft_parameter.csv', index=False)"
   ]
  },
  {
   "cell_type": "markdown",
   "id": "9e2c3069",
   "metadata": {},
   "source": [
    "### The model resulted in Score of 78.51% in Kaggle.(Please refer screenshot in the zip file)"
   ]
  },
  {
   "cell_type": "markdown",
   "id": "66f5bd89-03bf-48f4-b0ff-db7780713771",
   "metadata": {},
   "source": [
    "## 2. Task Specific Attention based MTL using Hard Parameter Sharing Layers"
   ]
  },
  {
   "cell_type": "markdown",
   "id": "e9bd6e3b-8d43-4a73-9c0b-f9626f560d58",
   "metadata": {},
   "source": [
    "This strategy is an enhancement of the Hard-Parameter sharing MTL model in Section 5. A schematic of the Task Specific attention based MTL is shown in the schematic below"
   ]
  },
  {
   "attachments": {
    "5cad830d-6484-4698-b5c6-e38bed7af6c5.png": {
     "image/png": "[encoded data removed]"
    }
   },
   "cell_type": "markdown",
   "id": "38a46edb-5a92-4c2b-ae39-34c0a4eb795e",
   "metadata": {},
   "source": [
    "![attentionMTL.png](attachment:5cad830d-6484-4698-b5c6-e38bed7af6c5.png)"
   ]
  },
  {
   "cell_type": "markdown",
   "id": "4fa7eb48-6946-42e9-b658-442ed1b26119",
   "metadata": {},
   "source": [
    "In addition to the hard parameter sharing layers for both tasks, an attention layer that is task specific is implemented after the shared layers. The attention layer is supposed to learn task specific weights during training and apply task specific attention to the two tasks at the output. This means the weights learned will scale the shared features that is coming from the output of the hidden layers according to the task (similar to feature selection from the shared features output that are more important for task specific prediction). This gives some flexibility to learn task specific context in addition to the weights learned in the shared layers for both tasks.\n",
    "\n",
    "Similar to Section 5, the same network architecture is implemented in the shared layers and the only difference is the attention layer with task specific weights (to be learned during training) implemented before the output of each task.For the training, the hyperparameters lambda_1 and lambda_2 of 0.5 is used to test the strategy. The performance results of the model on the validation datset are shown below. It can be seen that there is a slight improvement in the performance compared to just using hard parameter sharing MTL model in Section 5 for the lambda_1 and lambda_2 values of 0.5."
   ]
  },
  {
   "cell_type": "code",
   "execution_count": 42,
   "id": "ee11123a-8fe1-4768-b290-b3822e726e82",
   "metadata": {},
   "outputs": [],
   "source": [
    "# Task Specific Attention based MTL model using shared hidden layers\n",
    "class AttentionLayer(nn.Module):\n",
    "    def __init__(self, input_size, n_tasks):\n",
    "        super().__init__()\n",
    "        self.attention_weights = nn.Parameter(torch.randn(input_size, n_tasks))\n",
    "\n",
    "    def forward(self, x, task):\n",
    "        # Apply attention weights for the specific task\n",
    "        x = x * self.attention_weights[:, task-1]\n",
    "        return x\n",
    "\n",
    "class MultiTaskNeuralNetwork2(nn.Module):\n",
    "    def __init__(self, n_classes_task1, n_classes_task2):\n",
    "        super().__init__()\n",
    "        self.lin1 = nn.Linear(768, 1024)\n",
    "        self.lin2 = nn.Linear(1024, 512)\n",
    "        self.lin3 = nn.Linear(512, 128)\n",
    "        self.dropout = nn.Dropout(0.3)\n",
    "        \n",
    "        # Attention layer\n",
    "        self.attention = AttentionLayer(128, 2)\n",
    "        \n",
    "        # Task-specific output layers\n",
    "        self.out_task1 = nn.Linear(128, n_classes_task1)\n",
    "        self.out_task2 = nn.Linear(128, n_classes_task2)\n",
    "        \n",
    "    def forward(self, x, task):\n",
    "        x = self.lin1(x)\n",
    "        x = nn.ReLU()(x)\n",
    "        x = self.dropout(x)\n",
    "        x = self.lin2(x)\n",
    "        x = nn.ReLU()(x)\n",
    "        x = self.dropout(x)\n",
    "        x = self.lin3(x)\n",
    "        x = nn.ReLU()(x)\n",
    "        x = self.dropout(x)\n",
    "\n",
    "        # Apply the attention layer\n",
    "        x = self.attention(x, task)\n",
    "\n",
    "        # Task-specific outputs\n",
    "        if task == 1:\n",
    "            return self.out_task1(x)\n",
    "        if task == 2:\n",
    "            return self.out_task2(x)"
   ]
  },
  {
   "cell_type": "code",
   "execution_count": null,
   "id": "412c02b5-083b-4189-8993-0dcaece370cb",
   "metadata": {},
   "outputs": [],
   "source": []
  },
  {
   "cell_type": "code",
   "execution_count": 553,
   "id": "d3bfa698-54ed-4564-bcd6-ea2ff9913604",
   "metadata": {},
   "outputs": [
    {
     "name": "stdout",
     "output_type": "stream",
     "text": [
      "Epoch 1, Loss: 0.5302971888647535\n",
      "Epoch 2, Loss: 0.4337948310891154\n",
      "Epoch 3, Loss: 0.4129075544434419\n",
      "Epoch 4, Loss: 0.4021008241420998\n",
      "Epoch 5, Loss: 0.39512368873746084\n",
      "Epoch 6, Loss: 0.38888380990484583\n",
      "Epoch 7, Loss: 0.3851479219276976\n",
      "Epoch 8, Loss: 0.380165342046351\n",
      "Epoch 9, Loss: 0.37597528052492946\n",
      "Epoch 10, Loss: 0.3724942563402897\n",
      "Epoch 11, Loss: 0.3671983171568373\n",
      "Epoch 12, Loss: 0.36641661425657857\n",
      "Epoch 13, Loss: 0.36098140858300454\n",
      "Epoch 14, Loss: 0.35773462253985483\n",
      "Epoch 15, Loss: 0.3545935908183965\n",
      "Epoch 16, Loss: 0.3485953749448129\n",
      "Epoch 17, Loss: 0.3463942201167413\n",
      "Epoch 18, Loss: 0.34288888300741455\n",
      "Epoch 19, Loss: 0.3383667714435582\n",
      "Epoch 20, Loss: 0.3368120429048777\n"
     ]
    }
   ],
   "source": [
    "torch.manual_seed(rng)\n",
    "torch.cuda.manual_seed(rng)\n",
    "torch.cuda.manual_seed_all(rng)\n",
    "np.random.seed(rng)\n",
    "random.seed(rng)\n",
    "torch.backends.cudnn.benchmark = False\n",
    "torch.backends.cudnn.deterministic = True\n",
    "\n",
    "lambda_1 = 0.5\n",
    "lambda_2 = 0.5\n",
    "epochs = 20\n",
    "\n",
    "model2 = MultiTaskNeuralNetwork2(n_classes_task1=2, n_classes_task2=3)\n",
    "\n",
    "# Define separate loss functions for each task\n",
    "criterion_task1 = nn.CrossEntropyLoss()\n",
    "criterion_task2 = nn.CrossEntropyLoss()\n",
    "\n",
    "# Define the optimizer\n",
    "optimizer = torch.optim.Adam(model2.parameters(), lr=0.0001)\n",
    "\n",
    "# Training loop\n",
    "for epoch in range(epochs):\n",
    "    running_loss = 0.0\n",
    "    for (inputs, labels_task1, labels_task2) in D12_train_dataloader:\n",
    "        # Zero the parameter gradients\n",
    "        optimizer.zero_grad()\n",
    "        \n",
    "        idx1 = labels_task1 != np.nan\n",
    "        idx2 = labels_task2 != np.nan\n",
    "        input1 = inputs[idx1]\n",
    "        input2 = inputs[idx2]\n",
    "\n",
    "        # Forward pass\n",
    "        outputs_task1 = model2(input1, task=1)\n",
    "        outputs_task2 = model2(input2, task=2)\n",
    "        \n",
    "        # Compute the losses for each task\n",
    "        loss_task1 = criterion_task1(outputs_task1, (labels_task1[idx1]).type(torch.LongTensor))\n",
    "        loss_task2 = criterion_task2(outputs_task2, (labels_task2[idx2]).type(torch.LongTensor))\n",
    "\n",
    "        # Combine the losses with the hyperparameters as factors\n",
    "        loss = lambda_1 * loss_task1 + lambda_2 * loss_task2\n",
    "\n",
    "        # Backward pass and optimization\n",
    "        loss.backward()\n",
    "        optimizer.step()\n",
    "\n",
    "        # Accumulate the running loss\n",
    "        running_loss += loss.item()\n",
    "\n",
    "    # Print the average loss for this epoch\n",
    "    print(f\"Epoch {epoch + 1}, Loss: {running_loss / len(D12_train_dataloader)}\")"
   ]
  },
  {
   "cell_type": "code",
   "execution_count": 556,
   "id": "92a27654-9783-40d7-b951-25e112312152",
   "metadata": {},
   "outputs": [],
   "source": [
    "torch.manual_seed(rng)\n",
    "torch.cuda.manual_seed(rng)\n",
    "torch.cuda.manual_seed_all(rng)\n",
    "np.random.seed(rng)\n",
    "random.seed(rng)\n",
    "torch.backends.cudnn.benchmark = False\n",
    "torch.backends.cudnn.deterministic = True\n",
    "\n",
    "truth1 = []\n",
    "truth2 = []\n",
    "class_probs_t1 = []\n",
    "class_probs_t2 = []\n",
    "class_preds_t1 = []\n",
    "class_preds_t2 = []\n",
    "\n",
    "with torch.no_grad():\n",
    "    for data in D1_hat_val_dataloader:\n",
    "        x, y1, y2 = data\n",
    "        output_t1 = model2(x, task = 1)\n",
    "        output_t2 = model2(x, task = 2)\n",
    "\n",
    "        class_probs_t1_batch = [nn.Softmax(dim=0)(el) for el in output_t1]\n",
    "        class_probs_t2_batch = [nn.Softmax(dim=0)(el) for el in output_t2]\n",
    "        \n",
    "        _, class_preds_t1_batch = torch.max(output_t1, 1)\n",
    "        _, class_preds_t2_batch = torch.max(output_t2, 1)\n",
    "\n",
    "        class_probs_t1.append(class_probs_t1_batch)\n",
    "        class_probs_t2.append(class_probs_t2_batch)\n",
    "        \n",
    "        class_preds_t1.append(class_preds_t1_batch)\n",
    "        class_preds_t2.append(class_preds_t2_batch)\n",
    "        \n",
    "        truth1.extend([l.item() for l in y1])\n",
    "        truth2.extend([l.item() for l in y2])\n",
    "\n",
    "val_probs_t1 = torch.cat([torch.stack(batch) for batch in class_probs_t1])\n",
    "val_probs_t2 = torch.cat([torch.stack(batch) for batch in class_probs_t2])\n",
    "val_preds_t1 = torch.cat(class_preds_t1)\n",
    "val_preds_t2 = torch.cat(class_preds_t2)"
   ]
  },
  {
   "cell_type": "code",
   "execution_count": 557,
   "id": "a28b7b6a-9d95-41f9-a461-6a78c7b9423c",
   "metadata": {},
   "outputs": [
    {
     "name": "stdout",
     "output_type": "stream",
     "text": [
      "The f1 score of attention based  based on the first task is 0.7524590163934425\n"
     ]
    }
   ],
   "source": [
    "perf_t1_model2 = f1_score(truth1, val_preds_t1)\n",
    "print(f'The f1 score of attention based  based on the first task is {perf_t1_model2}')\n",
    "\n"
   ]
  },
  {
   "cell_type": "markdown",
   "id": "011a19a9-7664-4f8c-9d54-2268528dd775",
   "metadata": {},
   "source": [
    "The model is then hyperparameter tuned to assess the best lambda values that give the best performance for our primary task 1. The results of the hyperparamter tuning of the model is shown below."
   ]
  },
  {
   "cell_type": "code",
   "execution_count": 43,
   "id": "4606a542-28a4-48e4-87df-927382f21c56",
   "metadata": {},
   "outputs": [],
   "source": [
    "# function to train and evaluate model for each lambda for attention based MTL model\n",
    "def train_and_evaluate_model_2(lambda_1, lambda_2, train_dataloader, val_dataloader):\n",
    "    \n",
    "    torch.manual_seed(rng)\n",
    "    torch.cuda.manual_seed(rng)\n",
    "    torch.cuda.manual_seed_all(rng)\n",
    "    np.random.seed(rng)\n",
    "    random.seed(rng)\n",
    "    torch.backends.cudnn.benchmark = False\n",
    "    torch.backends.cudnn.deterministic = True\n",
    "    \n",
    "    model2 = MultiTaskNeuralNetwork2(n_classes_task1=2, n_classes_task2=3)\n",
    "\n",
    "    epochs = 20\n",
    "\n",
    "    # Define separate loss functions for each task\n",
    "    criterion_task1 = nn.CrossEntropyLoss()\n",
    "    criterion_task2 = nn.CrossEntropyLoss()\n",
    "\n",
    "    # Define the optimizer\n",
    "    optimizer = torch.optim.Adam(model2.parameters(), lr=0.0001)\n",
    "\n",
    "    # Training loop\n",
    "    for epoch in range(epochs):\n",
    "        running_loss = 0.0\n",
    "        for (inputs, labels_task1, labels_task2) in train_dataloader:\n",
    "            # Zero the parameter gradients\n",
    "            optimizer.zero_grad()\n",
    "            \n",
    "            idx1 = labels_task1 != np.nan\n",
    "            idx2 = labels_task2 != np.nan\n",
    "            input1 = inputs[idx1]\n",
    "            input2 = inputs[idx2]\n",
    "\n",
    "            # Forward pass\n",
    "            outputs_task1 = model2(input1, task=1)\n",
    "            outputs_task2 = model2(input2, task=2)\n",
    "\n",
    "            # Compute the losses for each task\n",
    "            loss_task1 = criterion_task1(outputs_task1, (labels_task1[idx1]).type(torch.LongTensor))\n",
    "            loss_task2 = criterion_task2(outputs_task2, (labels_task2[idx2]).type(torch.LongTensor))\n",
    "\n",
    "            # Combine the losses with the hyperparameters as factors\n",
    "            loss = lambda_1 * loss_task1 + lambda_2 * loss_task2\n",
    "\n",
    "            # Backward pass and optimization\n",
    "            loss.backward()\n",
    "            optimizer.step()\n",
    "\n",
    "            # Accumulate the running loss\n",
    "            running_loss += loss.item()\n",
    "\n",
    "        # # Print the average loss for this epoch\n",
    "        #print(f\"Epoch {epoch + 1}, Loss: {running_loss / len(D12_train_dataloader)}\")\n",
    "\n",
    "    #Evalution of model\n",
    "    torch.manual_seed(rng)\n",
    "    torch.cuda.manual_seed(rng)\n",
    "    torch.cuda.manual_seed_all(rng)\n",
    "    np.random.seed(rng)\n",
    "    random.seed(rng)\n",
    "    torch.backends.cudnn.benchmark = False\n",
    "    torch.backends.cudnn.deterministic = True\n",
    "    truth1 = []\n",
    "    truth2 = []\n",
    "    class_probs_t1 = []\n",
    "    class_probs_t2 = []\n",
    "    class_preds_t1 = []\n",
    "    class_preds_t2 = []\n",
    "    \n",
    "    with torch.no_grad():\n",
    "        for data in val_dataloader:\n",
    "            x, y1, y2 = data\n",
    "            output_t1 = model2(x, task = 1)\n",
    "            output_t2 = model2(x, task = 2)\n",
    "\n",
    "            class_probs_t1_batch = [nn.Softmax(dim=0)(el) for el in output_t1]\n",
    "            class_probs_t2_batch = [nn.Softmax(dim=0)(el) for el in output_t2]\n",
    "\n",
    "            _, class_preds_t1_batch = torch.max(output_t1, 1)\n",
    "            _, class_preds_t2_batch = torch.max(output_t2, 1)\n",
    "\n",
    "            class_probs_t1.append(class_probs_t1_batch)\n",
    "            class_probs_t2.append(class_probs_t2_batch)\n",
    "\n",
    "            class_preds_t1.append(class_preds_t1_batch)\n",
    "            class_preds_t2.append(class_preds_t2_batch)\n",
    "\n",
    "            truth1.extend([l.item() for l in y1])\n",
    "            truth2.extend([l.item() for l in y2])\n",
    "\n",
    "    val_probs_t1 = torch.cat([torch.stack(batch) for batch in class_probs_t1])\n",
    "    val_probs_t2 = torch.cat([torch.stack(batch) for batch in class_probs_t2])\n",
    "    val_preds_t1 = torch.cat(class_preds_t1)\n",
    "    val_preds_t2 = torch.cat(class_preds_t2)    \n",
    "    \n",
    "    perf_t1_model2 = f1_score(truth1, val_preds_t1)\n",
    "    perf_t2_model2 = accuracy_score(truth2, val_preds_t2)    \n",
    "\n",
    "    return perf_t1_model2, perf_t2_model2\n"
   ]
  },
  {
   "cell_type": "code",
   "execution_count": 44,
   "id": "603ff01b-98f9-48e0-a43b-665a25571e53",
   "metadata": {},
   "outputs": [
    {
     "name": "stdout",
     "output_type": "stream",
     "text": [
      "Lambda_1: 0, Lambda_2: 0, Task 1 Validation f1_score: 0.28349944629014395\n",
      "Lambda_1: 0, Lambda_2: 0.25, Task 1 Validation f1_score: 0.41042893187552565\n",
      "Lambda_1: 0, Lambda_2: 0.5, Task 1 Validation f1_score: 0.47008547008547\n",
      "Lambda_1: 0, Lambda_2: 0.75, Task 1 Validation f1_score: 0.4167350287120591\n",
      "Lambda_1: 0, Lambda_2: 1.0, Task 1 Validation f1_score: 0.4328593996840442\n",
      "Lambda_1: 0.25, Lambda_2: 0, Task 1 Validation f1_score: 0.7510917030567685\n",
      "Lambda_1: 0.25, Lambda_2: 0.25, Task 1 Validation f1_score: 0.7607260726072608\n",
      "Lambda_1: 0.25, Lambda_2: 0.5, Task 1 Validation f1_score: 0.7516556291390728\n",
      "Lambda_1: 0.25, Lambda_2: 0.75, Task 1 Validation f1_score: 0.75\n",
      "Lambda_1: 0.25, Lambda_2: 1.0, Task 1 Validation f1_score: 0.7474916387959866\n",
      "Lambda_1: 0.5, Lambda_2: 0, Task 1 Validation f1_score: 0.7622259696458683\n",
      "Lambda_1: 0.5, Lambda_2: 0.25, Task 1 Validation f1_score: 0.7462932454695222\n",
      "Lambda_1: 0.5, Lambda_2: 0.5, Task 1 Validation f1_score: 0.7524590163934425\n",
      "Lambda_1: 0.5, Lambda_2: 0.75, Task 1 Validation f1_score: 0.7539353769676884\n",
      "Lambda_1: 0.5, Lambda_2: 1.0, Task 1 Validation f1_score: 0.7516556291390728\n",
      "Lambda_1: 0.75, Lambda_2: 0, Task 1 Validation f1_score: 0.7597292724196278\n",
      "Lambda_1: 0.75, Lambda_2: 0.25, Task 1 Validation f1_score: 0.7489361702127659\n",
      "Lambda_1: 0.75, Lambda_2: 0.5, Task 1 Validation f1_score: 0.7529976019184652\n",
      "Lambda_1: 0.75, Lambda_2: 0.75, Task 1 Validation f1_score: 0.7475409836065573\n",
      "Lambda_1: 0.75, Lambda_2: 1.0, Task 1 Validation f1_score: 0.7469287469287469\n",
      "Lambda_1: 1.0, Lambda_2: 0, Task 1 Validation f1_score: 0.7551369863013698\n",
      "Lambda_1: 1.0, Lambda_2: 0.25, Task 1 Validation f1_score: 0.757071547420965\n",
      "Lambda_1: 1.0, Lambda_2: 0.5, Task 1 Validation f1_score: 0.7547169811320754\n",
      "Lambda_1: 1.0, Lambda_2: 0.75, Task 1 Validation f1_score: 0.7554076539101497\n",
      "Lambda_1: 1.0, Lambda_2: 1.0, Task 1 Validation f1_score: 0.7529021558872305\n"
     ]
    }
   ],
   "source": [
    "# Gridsearch to find optimal lambda for obtaining best task 1 performance on \n",
    "# attention based MTL model\n",
    "lambda_1_list = [0, 0.25, 0.5, 0.75, 1.0] \n",
    "lambda_2_list = [0, 0.25, 0.5, 0.75, 1.0]\n",
    "best_lambda_1 = None\n",
    "best_lambda_2 = None\n",
    "best_t1_val_perf = 0\n",
    "\n",
    "## Run all combinations of lambda1 and lambda2 to find best combination for best \n",
    "## T1 performance\n",
    "for lambda_1 in lambda_1_list:\n",
    "\n",
    "    for lambda_2 in lambda_2_list:\n",
    "        \n",
    "        task1_val_perf, task2_val_perf = train_and_evaluate_model_2(lambda_1, lambda_2, D12_train_dataloader, D1_hat_val_dataloader)\n",
    "        \n",
    "        print(f\"Lambda_1: {lambda_1}, Lambda_2: {lambda_2}, Task 1 Validation f1_score: {task1_val_perf}\")\n",
    "        \n",
    "        if task1_val_perf > best_t1_val_perf:\n",
    "            best_t1_val_perf = task1_val_perf\n",
    "            best_lambda_1 = lambda_1\n",
    "            best_lambda_2 = lambda_2"
   ]
  },
  {
   "cell_type": "code",
   "execution_count": 45,
   "id": "fc39f2ff-1d26-4a75-8694-6ecde3b4abb1",
   "metadata": {},
   "outputs": [
    {
     "name": "stdout",
     "output_type": "stream",
     "text": [
      "The best lambda_1 value is: 0.5\n",
      "The best lambda_2 value is: 0\n"
     ]
    }
   ],
   "source": [
    "print(f\"The best lambda_1 value is: {best_lambda_1}\")\n",
    "print(f\"The best lambda_2 value is: {best_lambda_2}\")"
   ]
  },
  {
   "cell_type": "markdown",
   "id": "db09eeb2-1556-4ec5-b65d-925501eeeaec",
   "metadata": {},
   "source": [
    "The best hyperparameters for lambda_1 and lambda_2 are 0.5 and 0 respectively which gives the best performance for task 1 on the validation dataset. The performance of the model is also better for task 1 compared to the model trained only on D1 dataset in Section 1. The performance of the model is also better than the hyperparameter tuned hard parameter sharing model detailed in Section 6.\n",
    "\n",
    "As discussed in Section 8, lambda2 = 0 (loss function is only based on task 1 loss) in this MTL model gives the best performance for predicting task 1 as all the attention is given to task 1 when training the model.\n",
    "\n",
    "These optimised lambdas were used to re-train the MTL model. The re-trained optimised for task 1 model is then used to predict the labels for the D1 test dataset to be submitted in Kaggle."
   ]
  },
  {
   "cell_type": "code",
   "execution_count": 46,
   "id": "175fa89e-6469-4645-be34-669ae1eacb02",
   "metadata": {},
   "outputs": [
    {
     "name": "stdout",
     "output_type": "stream",
     "text": [
      "Epoch 1, Loss: 0.08695137546162263\n",
      "Epoch 2, Loss: 0.061206184484590705\n",
      "Epoch 3, Loss: 0.058621256803173004\n",
      "Epoch 4, Loss: 0.05705142860112029\n",
      "Epoch 5, Loss: 0.05526326881013047\n",
      "Epoch 6, Loss: 0.05389934435384963\n",
      "Epoch 7, Loss: 0.05316305579935839\n",
      "Epoch 8, Loss: 0.0522527131591425\n",
      "Epoch 9, Loss: 0.05122248517192374\n",
      "Epoch 10, Loss: 0.050608612104809096\n",
      "Epoch 11, Loss: 0.049534805750570864\n",
      "Epoch 12, Loss: 0.04931032584220646\n",
      "Epoch 13, Loss: 0.04798620392447486\n",
      "Epoch 14, Loss: 0.04662113573512482\n",
      "Epoch 15, Loss: 0.046010353493213585\n",
      "Epoch 16, Loss: 0.04476061545615774\n",
      "Epoch 17, Loss: 0.04419420524616991\n",
      "Epoch 18, Loss: 0.04273271106463562\n",
      "Epoch 19, Loss: 0.041674643961801816\n",
      "Epoch 20, Loss: 0.04114870229844165\n"
     ]
    }
   ],
   "source": [
    "# Final attention based MTL model with lambda1= 0.5 and lambda2= 0\n",
    "\n",
    "torch.manual_seed(rng)\n",
    "torch.cuda.manual_seed(rng)\n",
    "torch.cuda.manual_seed_all(rng)\n",
    "np.random.seed(rng)\n",
    "random.seed(rng)\n",
    "torch.backends.cudnn.benchmark = False\n",
    "torch.backends.cudnn.deterministic = True\n",
    "\n",
    "lambda_1 = 0.5\n",
    "lambda_2 = 0\n",
    "epochs = 20\n",
    "\n",
    "model2 = MultiTaskNeuralNetwork2(n_classes_task1=2, n_classes_task2=3)\n",
    "\n",
    "# Define separate loss functions for each task\n",
    "criterion_task1 = nn.CrossEntropyLoss()\n",
    "criterion_task2 = nn.CrossEntropyLoss()\n",
    "\n",
    "# Define the optimizer\n",
    "optimizer = torch.optim.Adam(model2.parameters(), lr=0.0001)\n",
    "\n",
    "# Training loop\n",
    "for epoch in range(epochs):\n",
    "    running_loss = 0.0\n",
    "    for (inputs, labels_task1, labels_task2) in D12_train_dataloader:\n",
    "        # Zero the parameter gradients\n",
    "        optimizer.zero_grad()\n",
    "\n",
    "        idx1 = labels_task1 != np.nan\n",
    "        idx2 = labels_task2 != np.nan\n",
    "        input1 = inputs[idx1]\n",
    "        input2 = inputs[idx2]\n",
    "\n",
    "        # Forward pass\n",
    "        outputs_task1 = model2(input1, task=1)\n",
    "        outputs_task2 = model2(input2, task=2)\n",
    "\n",
    "        # Compute the losses for each task\n",
    "        loss_task1 = criterion_task1(outputs_task1, (labels_task1[idx1]).type(torch.LongTensor))\n",
    "        loss_task2 = criterion_task2(outputs_task2, (labels_task2[idx2]).type(torch.LongTensor))\n",
    "\n",
    "        # Combine the losses with the hyperparameters as factors\n",
    "        loss = lambda_1 * loss_task1 + lambda_2 * loss_task2\n",
    "\n",
    "        # Backward pass and optimization\n",
    "        loss.backward()\n",
    "        optimizer.step()\n",
    "\n",
    "        # Accumulate the running loss\n",
    "        running_loss += loss.item()\n",
    "\n",
    "    # Print the average loss for this epoch\n",
    "    print(f\"Epoch {epoch + 1}, Loss: {running_loss / len(D12_train_dataloader)}\")"
   ]
  },
  {
   "cell_type": "code",
   "execution_count": null,
   "id": "ebc94c5a-fb7c-4f1e-abe2-45adaaaf0378",
   "metadata": {},
   "outputs": [],
   "source": [
    "#prediction of test dataset using re-trained model and save results to csv file\n",
    "# to upload in kaggle\n",
    "\n",
    "torch.manual_seed(rng)\n",
    "torch.cuda.manual_seed(rng)\n",
    "torch.cuda.manual_seed_all(rng)\n",
    "np.random.seed(rng)\n",
    "random.seed(rng)\n",
    "torch.backends.cudnn.benchmark = False\n",
    "torch.backends.cudnn.deterministic = True\n",
    "\n",
    "\n",
    "class_probs_t1 = []\n",
    "class_preds_t1 = []\n",
    "with torch.no_grad():\n",
    "    for data in test_dataloader:\n",
    "        x = data\n",
    "        output_t1 = model2(x[0], task = 1)\n",
    "\n",
    "        class_probs_t1_batch = [nn.Softmax(dim=0)(el) for el in output_t1]\n",
    "\n",
    "        _, class_preds_t1_batch = torch.max(output_t1, 1)\n",
    "\n",
    "        class_probs_t1.append(class_probs_t1_batch)\n",
    "        \n",
    "        class_preds_t1.append(class_preds_t1_batch)\n",
    "\n",
    "\n",
    "#predictions of D1 test data\n",
    "val_probs_t1 = torch.cat([torch.stack(batch) for batch in class_probs_t1])\n",
    "val_preds_t1 = torch.cat(class_preds_t1).numpy()\n",
    "\n",
    "#write prediction of test data to output for submission to kaggle\n",
    "df_d1_atten_test_preds = df_d1_test_final\n",
    "df_d1_atten_test_preds['target'] = val_preds_t1.tolist()\n",
    "df_d1_atten_test_preds = df_d1_atten_test_preds.drop(['text', 'sentence_embeddings'], axis=1)\n",
    "df_d1_atten_test_preds.to_csv('test_atten_parameter.csv', index=False)"
   ]
  },
  {
   "cell_type": "markdown",
   "id": "ad908a29",
   "metadata": {},
   "source": [
    "### The model resulted in Score of 80.04% in Kaggle.(Please refer screenshot in the zip file)"
   ]
  },
  {
   "cell_type": "markdown",
   "id": "44599af9-874b-4e77-a425-132918c1c4e1",
   "metadata": {},
   "source": [
    "Since we have the attention based layer to scale the shared features according to the task, it can be argued that hyper parameters may not be needed. This can be tested by observing the performance of the model for lambda1 = 1 and lambda2 = 1. The f1 score for task 1 on the validation data is about 0.752 (results of the gridsearch). However, by hyperparameter tuning, we can get better results with lambda1=0.5 and lambda2=0 with a f1 score of 0.7622. Therefore, even though we have the attention layer to help the model learn task specific features, the hyper parameters further improve in improving the performance of primary task 1."
   ]
  },
  {
   "cell_type": "code",
   "execution_count": null,
   "id": "c80691d0-4fb4-4907-b66f-13d002c53158",
   "metadata": {},
   "outputs": [],
   "source": []
  }
 ],
 "metadata": {
  "kernelspec": {
   "display_name": "Python 3 (ipykernel)",
   "language": "python",
   "name": "python3"
  },
  "language_info": {
   "codemirror_mode": {
    "name": "ipython",
    "version": 3
   },
   "file_extension": ".py",
   "mimetype": "text/x-python",
   "name": "python",
   "nbconvert_exporter": "python",
   "pygments_lexer": "ipython3",
   "version": "3.10.9"
  }
 },
 "nbformat": 4,
 "nbformat_minor": 5
}
